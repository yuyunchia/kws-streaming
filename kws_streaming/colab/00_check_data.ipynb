{
  "nbformat": 4,
  "nbformat_minor": 0,
  "metadata": {
    "kernelspec": {
      "display_name": "Python 3",
      "language": "python",
      "name": "python3"
    },
    "language_info": {
      "codemirror_mode": {
        "name": "ipython",
        "version": 3
      },
      "file_extension": ".py",
      "mimetype": "text/x-python",
      "name": "python",
      "nbconvert_exporter": "python",
      "pygments_lexer": "ipython3",
      "version": "3.6.9"
    },
    "colab": {
      "name": "00_check-data.ipynb",
      "provenance": [],
      "collapsed_sections": [],
      "include_colab_link": true
    }
  },
  "cells": [
    {
      "cell_type": "markdown",
      "metadata": {
        "id": "view-in-github",
        "colab_type": "text"
      },
      "source": [
        "<a href=\"https://colab.research.google.com/github/yuyunchia/kws-streaming/blob/main/kws_streaming/colab/00_check_data.ipynb\" target=\"_parent\"><img src=\"https://colab.research.google.com/assets/colab-badge.svg\" alt=\"Open In Colab\"/></a>"
      ]
    },
    {
      "cell_type": "markdown",
      "metadata": {
        "id": "UB6qenKgVyIG"
      },
      "source": [
        "Copyright 2019 Google LLC\n",
        "\n",
        "Licensed under the Apache License, Version 2.0 (the \"License\"); you may not use this file except in compliance with the License. You may obtain a copy of the License at\n",
        "\n",
        "https://www.apache.org/licenses/LICENSE-2.0\n",
        "Unless required by applicable law or agreed to in writing, software distributed under the License is distributed on an \"AS IS\" BASIS, WITHOUT WARRANTIES OR CONDITIONS OF ANY KIND, either express or implied. See the License for the specific language governing permissions and limitations under the License."
      ]
    },
    {
      "cell_type": "markdown",
      "metadata": {
        "id": "CpPQDKFaVyII"
      },
      "source": [
        "Make sure that jupyter is installed by running below command (it will allow to create folders in user dir):\n",
        "\n",
        "```shell\n",
        "pip install jupyter --user\n",
        "```"
      ]
    },
    {
      "cell_type": "code",
      "metadata": {
        "id": "5or4KeYDta5v"
      },
      "source": [
        "!pip install jupyter --user"
      ],
      "execution_count": null,
      "outputs": []
    },
    {
      "cell_type": "code",
      "metadata": {
        "id": "dGYS0NKeVyIJ"
      },
      "source": [
        "!git clone https://github.com/google-research/google-research.git"
      ],
      "execution_count": null,
      "outputs": []
    },
    {
      "cell_type": "code",
      "metadata": {
        "id": "LutDR7qoVyIQ"
      },
      "source": [
        "import sys\n",
        "import os\n",
        "import tarfile\n",
        "import urllib\n",
        "\n",
        "## from 01_train\n",
        "import zipfile\n",
        "\n",
        "\n",
        "sys.path.append('./google-research')\n",
        "\n",
        "## some change\n"
      ],
      "execution_count": null,
      "outputs": []
    },
    {
      "cell_type": "code",
      "metadata": {
        "id": "t8e_WfgaVyIV"
      },
      "source": [
        "os.environ[\"CUDA_VISIBLE_DEVICES\"] = \"-1\"  # no need to use gpu"
      ],
      "execution_count": null,
      "outputs": []
    },
    {
      "cell_type": "code",
      "metadata": {
        "id": "2vxfxt-VVyIa"
      },
      "source": [
        "import tensorflow as tf\n",
        "import tensorflow.compat.v1 as tf1\n",
        "import logging\n",
        "from kws_streaming.models import model_flags\n",
        "from kws_streaming.models import models\n",
        "from kws_streaming.layers.modes import Modes\n",
        "from kws_streaming.train import test\n",
        "from kws_streaming.models import utils\n",
        "from kws_streaming.data import input_data\n",
        "from kws_streaming.data import input_data_utils as du\n",
        "from kws_streaming.models import model_params"
      ],
      "execution_count": null,
      "outputs": []
    },
    {
      "cell_type": "code",
      "metadata": {
        "id": "jIkBmOt6VyIe"
      },
      "source": [
        "tf1.__version__"
      ],
      "execution_count": null,
      "outputs": []
    },
    {
      "cell_type": "code",
      "metadata": {
        "id": "sSETc8rdVyIl"
      },
      "source": [
        "config = tf1.ConfigProto()\n",
        "config.gpu_options.allow_growth = True\n",
        "sess = tf1.Session(config=config)"
      ],
      "execution_count": null,
      "outputs": []
    },
    {
      "cell_type": "code",
      "metadata": {
        "id": "dnvm8YMlVyIq"
      },
      "source": [
        "tf1.disable_eager_execution()"
      ],
      "execution_count": null,
      "outputs": []
    },
    {
      "cell_type": "code",
      "metadata": {
        "id": "yjvGL2IgVyIw"
      },
      "source": [
        "DATA_VERSION = 2"
      ],
      "execution_count": null,
      "outputs": []
    },
    {
      "cell_type": "code",
      "metadata": {
        "id": "smFll0s2VyI0"
      },
      "source": [
        "current_dir = os.getcwd()\n",
        "\n",
        "if DATA_VERSION == 2:\n",
        "  DATA_URL = \"https://storage.googleapis.com/download.tensorflow.org/data/speech_commands_v0.02.tar.gz\"\n",
        "  DATA_PATH = os.path.join(current_dir, \"data2/\")\n",
        "elif DATA_VERSION == 1:\n",
        "  DATA_URL = \"http://download.tensorflow.org/data/speech_commands_v0.01.tar.gz\"\n",
        "  DATA_PATH = os.path.join(current_dir, \"data1/\")\n",
        "else:\n",
        "  assert(False)"
      ],
      "execution_count": null,
      "outputs": []
    },
    {
      "cell_type": "code",
      "metadata": {
        "id": "2Ap7kbKPVyI4"
      },
      "source": [
        "DATA_PATH"
      ],
      "execution_count": null,
      "outputs": []
    },
    {
      "cell_type": "code",
      "metadata": {
        "id": "HCFAzvyfVyI8"
      },
      "source": [
        "# create folder in current dir.\n",
        "# not data will be downloaded in DATA_PATH, feel free to specify your own DATA_PATH\n",
        "os.makedirs(DATA_PATH)"
      ],
      "execution_count": null,
      "outputs": []
    },
    {
      "cell_type": "code",
      "metadata": {
        "id": "1232Ifp3VyI_"
      },
      "source": [
        "base_name = os.path.basename(DATA_URL)\n",
        "base_name"
      ],
      "execution_count": null,
      "outputs": []
    },
    {
      "cell_type": "code",
      "metadata": {
        "id": "Kf5YF4SsVyJD"
      },
      "source": [
        "# it can take some time to download 2.3GB. After unpacking total size is 5.4GB\n",
        "arch_file_name = os.path.join(DATA_PATH, base_name)\n",
        "if not os.path.isfile(arch_file_name):\n",
        "  # download data\n",
        "  if sys.version_info >= (2, 5):\n",
        "    file_path = urllib.request.urlretrieve(DATA_URL, filename=arch_file_name)[0]\n",
        "  else:\n",
        "    file_path = urllib.urlretrieve(DATA_URL, filename=arch_file_name)[0]\n",
        "\n",
        "  # unpack it\n",
        "  file_name, file_extension = os.path.splitext(base_name)\n",
        "  tar = tarfile.open(file_path)\n",
        "  tar.extractall(DATA_PATH)\n",
        "  tar.close()"
      ],
      "execution_count": null,
      "outputs": []
    },
    {
      "cell_type": "code",
      "metadata": {
        "id": "T8z0-SnfVyJG"
      },
      "source": [
        "# default parameters for data splitting\n",
        "flags = model_params.Params()\n",
        "flags.data_dir = DATA_PATH\n",
        "flags.data_url = DATA_URL\n",
        "flags = model_flags.update_flags(flags)"
      ],
      "execution_count": null,
      "outputs": []
    },
    {
      "cell_type": "code",
      "metadata": {
        "id": "TsRktp1mVyJK"
      },
      "source": [
        "audio_processor = input_data.AudioProcessor(flags)"
      ],
      "execution_count": null,
      "outputs": []
    },
    {
      "cell_type": "code",
      "metadata": {
        "id": "ZXABxi76VyJO"
      },
      "source": [
        "testing_set_size = audio_processor.set_size('testing')\n",
        "print(\"testing_set_size \" + str(testing_set_size))\n",
        "training_set_size = audio_processor.set_size('training')\n",
        "print(\"training_set_size \" + str(training_set_size))\n",
        "validation_set_size = audio_processor.set_size('validation')\n",
        "print(\"validation_set_size \" + str(validation_set_size))"
      ],
      "execution_count": null,
      "outputs": []
    },
    {
      "cell_type": "code",
      "metadata": {
        "id": "kDC0kbR2VyJR"
      },
      "source": [
        "# V2\n",
        "# testing_set_size 4890\n",
        "# training_set_size 36923\n",
        "# validation_set_size 4445\n",
        "\n",
        "# V1\n",
        "# testing_set_size 3081\n",
        "# training_set_size 22246\n",
        "# validation_set_size 3093"
      ],
      "execution_count": null,
      "outputs": []
    },
    {
      "cell_type": "code",
      "metadata": {
        "id": "RocIfpAtVyJU"
      },
      "source": [
        "# all words used for modeling: we have target words + unknown words (with index 1)\n",
        "audio_processor.word_to_index"
      ],
      "execution_count": null,
      "outputs": []
    },
    {
      "cell_type": "code",
      "metadata": {
        "id": "iea72Q5oVyJY"
      },
      "source": [
        "# find the start of the file name where label begins\n",
        "string = audio_processor.data_index[\"validation\"][0]['file']\n",
        "res = [i for i in range(len(string)) if string.startswith('/', i)] \n",
        "start_file = res[-2]+1\n",
        "start_file"
      ],
      "execution_count": null,
      "outputs": []
    },
    {
      "cell_type": "code",
      "metadata": {
        "id": "DQWh0HF0VyJb"
      },
      "source": [
        "audio_processor.data_index[\"validation\"][0]['file'][start_file:]"
      ],
      "execution_count": null,
      "outputs": []
    },
    {
      "cell_type": "code",
      "metadata": {
        "id": "LdihI451VyJe"
      },
      "source": [
        "index_to_label = {}\n",
        "unknown_category = []\n",
        "# labeles used for training\n",
        "for word in audio_processor.word_to_index.keys():\n",
        "  if audio_processor.word_to_index[word] == du.SILENCE_INDEX:\n",
        "    index_to_label[audio_processor.word_to_index[word]] = du.SILENCE_LABEL\n",
        "  elif audio_processor.word_to_index[word] == du.UNKNOWN_WORD_INDEX:\n",
        "    index_to_label[audio_processor.word_to_index[word]] = du.UNKNOWN_WORD_LABEL\n",
        "    unknown_category.append(word)\n",
        "  else:\n",
        "    index_to_label[audio_processor.word_to_index[word]] = word\n",
        "\n",
        "# training labels\n",
        "index_to_label"
      ],
      "execution_count": null,
      "outputs": []
    },
    {
      "cell_type": "code",
      "metadata": {
        "id": "vsgt_OpnVyJh"
      },
      "source": [
        "# words belonging to unknown categry\n",
        "unknown_category"
      ],
      "execution_count": null,
      "outputs": []
    },
    {
      "cell_type": "code",
      "metadata": {
        "id": "JDCSwc9SVyJk"
      },
      "source": [
        "def get_distribution(mode):\n",
        "  distrib_label = {}\n",
        "  distrib_words = {}\n",
        "  files = {}\n",
        "  for data in audio_processor.data_index[mode]:\n",
        "    word = data['label']\n",
        "    file = data['file'][start_file:]\n",
        "    index = audio_processor.word_to_index[word]\n",
        "    label = index_to_label[index]\n",
        "    if word in files:\n",
        "      files[word].append(file)\n",
        "    else:\n",
        "      files[word] = [file]\n",
        "\n",
        "    if label in distrib_label:\n",
        "      distrib_label[label] = distrib_label[label] + 1\n",
        "    else:\n",
        "      distrib_label[label] = 0\n",
        "\n",
        "    if word in distrib_words:\n",
        "      distrib_words[word] = distrib_words[word] + 1\n",
        "    else:\n",
        "      distrib_words[word] = 0\n",
        "  return distrib_words, distrib_label, files"
      ],
      "execution_count": null,
      "outputs": []
    },
    {
      "cell_type": "code",
      "metadata": {
        "id": "fwrCIcC0VyJn"
      },
      "source": [
        "# distribution of labeles in testing data\n",
        "distrib_words_testing, distrib_labels_testing, files_testing = get_distribution('testing')\n",
        "distrib_labels_testing"
      ],
      "execution_count": null,
      "outputs": []
    },
    {
      "cell_type": "code",
      "metadata": {
        "id": "qG0cJ1ifVyJr"
      },
      "source": [
        "# distribution of labeles in training data\n",
        "distrib_words_training, distrib_labels_training, files_training = get_distribution('training')\n",
        "distrib_labels_training"
      ],
      "execution_count": null,
      "outputs": []
    },
    {
      "cell_type": "code",
      "metadata": {
        "id": "GRsumUc0VyJv"
      },
      "source": [
        "def parse_files(set_list_fname, label='yes'):\n",
        "  set_files = []\n",
        "  with open(set_list_fname) as f:\n",
        "    while True:\n",
        "      line = f.readline()\n",
        "      if not line:\n",
        "        break\n",
        "      if line.split('/')[0] == label:\n",
        "        set_files.append(line[:-1])\n",
        "  return set_files"
      ],
      "execution_count": null,
      "outputs": []
    },
    {
      "cell_type": "code",
      "metadata": {
        "id": "iHw_eD2rVyJy"
      },
      "source": [
        "def validate(my_list1, list2, print_in_list2=False):\n",
        "  cnt_my_val2 = 0\n",
        "  cnt_my_val1 = 0\n",
        "  for my_val in my_list1:\n",
        "    if my_val in list2:\n",
        "      cnt_my_val2 = cnt_my_val2 + 1\n",
        "      if print_in_list2:\n",
        "        print(my_val)\n",
        "    else:\n",
        "      cnt_my_val1 = cnt_my_val1 + 1\n",
        "      if not print_in_list2:\n",
        "        print(my_val)\n",
        "  return cnt_my_val1, cnt_my_val2"
      ],
      "execution_count": null,
      "outputs": []
    },
    {
      "cell_type": "code",
      "metadata": {
        "id": "CSbC4wmmVyJ2"
      },
      "source": [
        "file_list = os.path.join(DATA_PATH, \"testing_list.txt\")\n",
        "\n",
        "# validate that all wav used during testing belongs to testing_list\n",
        "for word in files_testing.keys():\n",
        "  if word != '_silence_':\n",
        "    word_files = parse_files(file_list, label=word)\n",
        "    _, cnt_val = validate(files_testing[word], word_files, False)\n",
        "    assert(cnt_val-len(files_testing[word])==0)"
      ],
      "execution_count": null,
      "outputs": []
    },
    {
      "cell_type": "code",
      "metadata": {
        "id": "2Q8zKJWwVyJ4"
      },
      "source": [
        "\n",
        "distrib_words_training, distrib_labels_training, files_training = get_distribution('training')\n",
        "\n",
        "# validate that all wav used during testing do not belong to training data\n",
        "for word in files_testing.keys():\n",
        "  if word != '_silence_': # silence file does not matter becasue it is multiplied by zero\n",
        "    word_files = files_testing[word]\n",
        "    _, cnt_val = validate(files_training[word], word_files, True)\n",
        "    assert(cnt_val == 0)"
      ],
      "execution_count": null,
      "outputs": []
    },
    {
      "cell_type": "code",
      "metadata": {
        "id": "nQqB8IqLVyJ7"
      },
      "source": [
        "##\n",
        "## below is from 01_train.ipynb\n",
        "##\n",
        "##\n",
        "##"
      ],
      "execution_count": null,
      "outputs": []
    },
    {
      "cell_type": "code",
      "metadata": {
        "id": "I17NZafUuR0q"
      },
      "source": [
        "# TF streaming\n",
        "from kws_streaming.models import models\n",
        "from kws_streaming.models import utils\n",
        "from kws_streaming.layers.modes import Modes"
      ],
      "execution_count": null,
      "outputs": []
    },
    {
      "cell_type": "code",
      "metadata": {
        "id": "dV6STWZIuT6p"
      },
      "source": [
        "import tensorflow as tf\n",
        "import numpy as np\n",
        "import tensorflow.compat.v1 as tf1\n",
        "import logging\n",
        "from kws_streaming.models import model_flags\n",
        "from kws_streaming.models import model_params\n",
        "from kws_streaming.train import test\n",
        "from kws_streaming.train import train\n",
        "from kws_streaming import data\n",
        "tf1.disable_eager_execution()"
      ],
      "execution_count": null,
      "outputs": []
    },
    {
      "cell_type": "code",
      "metadata": {
        "id": "yZnb2T0lubdg"
      },
      "source": [
        "config = tf1.ConfigProto()\n",
        "config.gpu_options.allow_growth = True\n",
        "sess = tf1.Session(config=config)"
      ],
      "execution_count": null,
      "outputs": []
    },
    {
      "cell_type": "code",
      "metadata": {
        "id": "O5kHjBtiueRA"
      },
      "source": [
        "# general imports\n",
        "import matplotlib.pyplot as plt\n",
        "import os\n",
        "import json\n",
        "import numpy as np\n",
        "import scipy as scipy\n",
        "import scipy.io.wavfile as wav\n",
        "import scipy.signal"
      ],
      "execution_count": null,
      "outputs": []
    },
    {
      "cell_type": "code",
      "metadata": {
        "id": "Nl6fmayDuhzu"
      },
      "source": [
        "tf.__version__"
      ],
      "execution_count": null,
      "outputs": []
    },
    {
      "cell_type": "code",
      "metadata": {
        "id": "2oO30qMQujxS"
      },
      "source": [
        "tf1.reset_default_graph()\n",
        "sess = tf1.Session()\n",
        "tf1.keras.backend.set_session(sess)\n",
        "tf1.keras.backend.set_learning_phase(0)"
      ],
      "execution_count": null,
      "outputs": []
    },
    {
      "cell_type": "markdown",
      "metadata": {
        "id": "MuNsC0UMuks-"
      },
      "source": [
        "# **Set path to data**"
      ]
    },
    {
      "cell_type": "code",
      "metadata": {
        "id": "XPNUhbiZutYo"
      },
      "source": [
        "# set PATH to data sets (for example to speech commands V2):\n",
        "# it can be downloaded from\n",
        "# https://storage.googleapis.com/download.tensorflow.org/data/speech_commands_v0.02.tar.gz\n",
        "# if you already run \"00_check-data.ipynb\" then folder \"data2\" should be located in the current dir\n",
        "current_dir = os.getcwd()\n",
        "DATA_PATH = os.path.join(current_dir, \"data2/\")"
      ],
      "execution_count": null,
      "outputs": []
    },
    {
      "cell_type": "code",
      "metadata": {
        "id": "SkcsiWBgunGa"
      },
      "source": [
        "def waveread_as_pcm16(filename):\n",
        "  \"\"\"Read in audio data from a wav file.  Return d, sr.\"\"\"\n",
        "  samplerate, wave_data = wav.read(filename)\n",
        "  # Read in wav file.\n",
        "  return wave_data, samplerate\n",
        "\n",
        "def wavread_as_float(filename, target_sample_rate=16000):\n",
        "  \"\"\"Read in audio data from a wav file.  Return d, sr.\"\"\"\n",
        "  wave_data, samplerate = waveread_as_pcm16(filename)\n",
        "  desired_length = int(\n",
        "          round(float(len(wave_data)) / samplerate * target_sample_rate))\n",
        "  wave_data = scipy.signal.resample(wave_data, desired_length)\n",
        "\n",
        "  # Normalize short ints to floats in range [-1..1).\n",
        "  data = np.array(wave_data, np.float32) / 32768.0\n",
        "  return data, target_sample_rate"
      ],
      "execution_count": null,
      "outputs": []
    },
    {
      "cell_type": "code",
      "metadata": {
        "id": "9LJpAmyYu5uY"
      },
      "source": [
        "# Set path to wav file to visualize it\n",
        "wav_file = os.path.join(DATA_PATH, \"left/012187a4_nohash_0.wav\")\n",
        "\n",
        "# read audio file\n",
        "wav_data, samplerate = wavread_as_float(wav_file)"
      ],
      "execution_count": null,
      "outputs": []
    },
    {
      "cell_type": "code",
      "metadata": {
        "id": "4Kazp0W0u7qB"
      },
      "source": [
        "assert samplerate == 16000"
      ],
      "execution_count": null,
      "outputs": []
    },
    {
      "cell_type": "code",
      "metadata": {
        "id": "XwPBvbx5u9eD"
      },
      "source": [
        "plt.plot(wav_data)"
      ],
      "execution_count": null,
      "outputs": []
    },
    {
      "cell_type": "markdown",
      "metadata": {
        "id": "Yquof2BKvCPd"
      },
      "source": [
        "# **Set path to a model with config**"
      ]
    },
    {
      "cell_type": "code",
      "metadata": {
        "id": "842Aa7cNvLth"
      },
      "source": [
        "# select model name should be one of\n",
        "model_params.HOTWORD_MODEL_PARAMS.keys()"
      ],
      "execution_count": null,
      "outputs": []
    },
    {
      "cell_type": "code",
      "metadata": {
        "id": "nCOnBK3wvRqi"
      },
      "source": [
        "# This notebook is configured to work with 'ds_tc_resnet' and 'svdf'.\n",
        "MODEL_NAME = 'ds_tc_resnet'\n",
        "# MODEL_NAME = 'svdf'\n",
        "MODELS_PATH = os.path.join(current_dir, \"models\")\n",
        "MODEL_PATH = os.path.join(MODELS_PATH, MODEL_NAME + \"/\")\n",
        "MODEL_PATH"
      ],
      "execution_count": null,
      "outputs": []
    },
    {
      "cell_type": "code",
      "metadata": {
        "id": "IeUJbS1KvTjT"
      },
      "source": [
        "os.makedirs(MODEL_PATH)"
      ],
      "execution_count": null,
      "outputs": []
    },
    {
      "cell_type": "code",
      "metadata": {
        "id": "NXZ1mP1tvVh5"
      },
      "source": [
        "# get toy model settings\n",
        "FLAGS = model_params.HOTWORD_MODEL_PARAMS[MODEL_NAME]"
      ],
      "execution_count": null,
      "outputs": []
    },
    {
      "cell_type": "code",
      "metadata": {
        "id": "TTN6OdlyvXam"
      },
      "source": [
        "# set path to data and model (where model will be stored)\n",
        "FLAGS.data_dir = DATA_PATH\n",
        "FLAGS.train_dir = MODEL_PATH\n",
        "\n",
        "# set speech feature extractor properties\n",
        "FLAGS.mel_upper_edge_hertz = 7600\n",
        "FLAGS.window_size_ms = 30.0\n",
        "FLAGS.window_stride_ms = 10.0\n",
        "FLAGS.mel_num_bins = 80\n",
        "FLAGS.dct_num_features = 40\n",
        "FLAGS.feature_type = 'mfcc_tf'\n",
        "FLAGS.preprocess = 'raw'\n",
        "\n",
        "# for numerical correctness of streaming and non streaming models set it to 1\n",
        "# but for real use case streaming set it to 0\n",
        "FLAGS.causal_data_frame_padding = 0\n",
        "\n",
        "FLAGS.use_tf_fft = True\n",
        "FLAGS.mel_non_zero_only = not FLAGS.use_tf_fft\n",
        "\n",
        "# set training settings\n",
        "FLAGS.train = 1\n",
        "# reduced number of training steps for test only\n",
        "# so model accuracy will be low,\n",
        "# to improve accuracy set how_many_training_steps = '40000,40000,20000,20000'\n",
        "FLAGS.how_many_training_steps = '400,400,400,400'\n",
        "FLAGS.learning_rate = '0.001,0.0005,0.0001,0.00002'\n",
        "FLAGS.lr_schedule = 'linear'\n",
        "FLAGS.verbosity = logging.INFO\n",
        "\n",
        "# data augmentation parameters\n",
        "FLAGS.resample = 0.15\n",
        "FLAGS.time_shift_ms = 100\n",
        "FLAGS.use_spec_augment = 1\n",
        "FLAGS.time_masks_number = 2\n",
        "FLAGS.time_mask_max_size = 25\n",
        "FLAGS.frequency_masks_number = 2\n",
        "FLAGS.frequency_mask_max_size = 7\n",
        "FLAGS.pick_deterministically = 1"
      ],
      "execution_count": null,
      "outputs": []
    },
    {
      "cell_type": "code",
      "metadata": {
        "id": "BPBW-Dsgvh9D"
      },
      "source": [
        "FLAGS.model_name = MODEL_NAME\n",
        "\n",
        "# model parameters are different for every model\n",
        "if MODEL_NAME == 'svdf':\n",
        "  FLAGS.model_name = MODEL_NAME\n",
        "  FLAGS.svdf_memory_size = \"4,10,10,10,10,10\"\n",
        "  FLAGS.svdf_units1 = \"16,32,32,32,64,128\"\n",
        "  FLAGS.svdf_act = \"'relu','relu','relu','relu','relu','relu'\"\n",
        "  FLAGS.svdf_units2 = \"40,40,64,64,64,-1\"\n",
        "  FLAGS.svdf_dropout = \"0.0,0.0,0.0,0.0,0.0,0.0\"\n",
        "  FLAGS.svdf_pad = 0\n",
        "  FLAGS.dropout1 = 0.0\n",
        "  FLAGS.units2 = ''\n",
        "  FLAGS.act2 = ''\n",
        "elif MODEL_NAME == 'ds_tc_resnet':\n",
        "  # it is an example of model streaming with strided convolution, strided pooling and dilated convolution\n",
        "  FLAGS.activation = 'relu'\n",
        "  FLAGS.dropout = 0.0\n",
        "  FLAGS.ds_filters = '128, 64, 64, 64, 128, 128'\n",
        "  FLAGS.ds_filter_separable = '1, 1, 1, 1, 1, 1'\n",
        "  FLAGS.ds_repeat = '1, 1, 1, 1, 1, 1'\n",
        "  FLAGS.ds_residual = '0, 1, 1, 1, 0, 0' # residual can not be applied with stride\n",
        "#   FLAGS.ds_kernel_size = '11, 5, 15, 7, 29, 1'\n",
        "  FLAGS.ds_kernel_size = '11, 5, 15, 17, 15, 1'\n",
        "  FLAGS.ds_dilation = '1, 1, 1, 1, 2, 1'\n",
        "  FLAGS.ds_stride = '1, 1, 1, 1, 1, 1'\n",
        "  FLAGS.ds_pool = '1, 2, 1, 1, 1, 1'\n",
        "  # model should be causal, so that we can covert it to streaming mode\n",
        "  # if model is non causal then all non causal components should use Delay layer\n",
        "  FLAGS.ds_padding = \"'causal', 'causal', 'causal', 'causal', 'causal', 'causal'\"\n",
        "else:\n",
        "  raise ValueError(\"set parameters for other models\")"
      ],
      "execution_count": null,
      "outputs": []
    },
    {
      "cell_type": "code",
      "metadata": {
        "id": "y9UygW-Mvlel"
      },
      "source": [
        "flags = model_flags.update_flags(FLAGS)"
      ],
      "execution_count": null,
      "outputs": []
    },
    {
      "cell_type": "code",
      "metadata": {
        "id": "GnO7WV4Qvm_r"
      },
      "source": [
        "with open(os.path.join(flags.train_dir, 'flags.json'), 'wt') as f:\n",
        "  json.dump(flags.__dict__, f)"
      ],
      "execution_count": null,
      "outputs": []
    },
    {
      "cell_type": "code",
      "metadata": {
        "id": "pUYFDMTHvosp"
      },
      "source": [
        "# visualize a model\n",
        "model_non_stream_batch = models.MODELS[flags.model_name](flags)\n",
        "tf.keras.utils.plot_model(\n",
        "    model_non_stream_batch,\n",
        "    show_shapes=True,\n",
        "    show_layer_names=True,\n",
        "    expand_nested=True)"
      ],
      "execution_count": null,
      "outputs": []
    },
    {
      "cell_type": "code",
      "metadata": {
        "id": "ZMBl3d9cvqZu"
      },
      "source": [
        "model_non_stream_batch.summary()"
      ],
      "execution_count": null,
      "outputs": []
    },
    {
      "cell_type": "markdown",
      "metadata": {
        "id": "4z-uxCnKvsFo"
      },
      "source": [
        "# **Model training**"
      ]
    },
    {
      "cell_type": "code",
      "metadata": {
        "id": "t6McwKLnvybj"
      },
      "source": [
        "# Model training\n",
        "train.train(flags)"
      ],
      "execution_count": null,
      "outputs": []
    },
    {
      "cell_type": "markdown",
      "metadata": {
        "id": "3iMeZ-eYv7eH"
      },
      "source": [
        "## **Run model evaluation**\n",
        "### TF **Run non streaming inference**"
      ]
    },
    {
      "cell_type": "code",
      "metadata": {
        "id": "rRlhrJsYwFCY"
      },
      "source": [
        "folder_name = 'tf'\n",
        "test.tf_non_stream_model_accuracy(flags, folder_name)"
      ],
      "execution_count": null,
      "outputs": []
    },
    {
      "cell_type": "markdown",
      "metadata": {
        "id": "wsB71EGuwIeE"
      },
      "source": [
        "more testing functions can be found at [test](https://github.com/google-research/google-research/blob/master/kws_streaming/train/test.py)"
      ]
    },
    {
      "cell_type": "code",
      "metadata": {
        "id": "huWz_40nwQLl"
      },
      "source": [
        "##\n",
        "## below is from 02_inference.ipynb\n",
        "##"
      ],
      "execution_count": null,
      "outputs": []
    }
  ]
}