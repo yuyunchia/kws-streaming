{
  "nbformat": 4,
  "nbformat_minor": 0,
  "metadata": {
    "kernelspec": {
      "display_name": "Python 3",
      "language": "python",
      "name": "python3"
    },
    "language_info": {
      "codemirror_mode": {
        "name": "ipython",
        "version": 3
      },
      "file_extension": ".py",
      "mimetype": "text/x-python",
      "name": "python",
      "nbconvert_exporter": "python",
      "pygments_lexer": "ipython3",
      "version": "3.6.9"
    },
    "colab": {
      "name": "00_check-data.ipynb",
      "provenance": [],
      "collapsed_sections": [],
      "include_colab_link": true
    },
    "accelerator": "GPU"
  },
  "cells": [
    {
      "cell_type": "markdown",
      "metadata": {
        "id": "view-in-github",
        "colab_type": "text"
      },
      "source": [
        "<a href=\"https://colab.research.google.com/github/yuyunchia/kws-streaming/blob/main/kws_streaming/colab/00_check_data.ipynb\" target=\"_parent\"><img src=\"https://colab.research.google.com/assets/colab-badge.svg\" alt=\"Open In Colab\"/></a>"
      ]
    },
    {
      "cell_type": "markdown",
      "metadata": {
        "id": "UB6qenKgVyIG"
      },
      "source": [
        "Copyright 2019 Google LLC\n",
        "\n",
        "Licensed under the Apache License, Version 2.0 (the \"License\"); you may not use this file except in compliance with the License. You may obtain a copy of the License at\n",
        "\n",
        "https://www.apache.org/licenses/LICENSE-2.0\n",
        "Unless required by applicable law or agreed to in writing, software distributed under the License is distributed on an \"AS IS\" BASIS, WITHOUT WARRANTIES OR CONDITIONS OF ANY KIND, either express or implied. See the License for the specific language governing permissions and limitations under the License."
      ]
    },
    {
      "cell_type": "markdown",
      "metadata": {
        "id": "CpPQDKFaVyII"
      },
      "source": [
        "Make sure that jupyter is installed by running below command (it will allow to create folders in user dir):\n",
        "\n",
        "```shell\n",
        "pip install jupyter --user\n",
        "```"
      ]
    },
    {
      "cell_type": "markdown",
      "metadata": {
        "id": "HxTAl8aSPKUG"
      },
      "source": [
        "## Set up environment\n",
        "## from kws_experiments_12_labels.md"
      ]
    },
    {
      "cell_type": "markdown",
      "metadata": {
        "id": "sWRFVys6Qq92"
      },
      "source": [
        "Set main folder."
      ]
    },
    {
      "cell_type": "code",
      "metadata": {
        "id": "bJ1xcHH4PZU1"
      },
      "source": [
        "# create main folder\n",
        "%mkdir test\n",
        "\n",
        "# set path to a main folder\n",
        "!KWS_PATH=$PWD/test\n",
        "\n",
        "%cd $KWS_PATH\n",
        "# copy content of kws_streaming to a folder /tmp/test/kws_streaming\n",
        "!git clone https://github.com/google-research/google-research.git\n",
        "%mv google-research/kws_streaming .\n",
        "\n",
        "\n",
        "\n",
        "\n",
        "\n",
        "\n",
        "\n",
        "### Install tensorflow with deps.\n",
        "\n",
        "# set up virtual env\n",
        "!pip install virtualenv\n",
        "!virtualenv --system-site-packages -p python3 ./venv3\n",
        "!source ./venv3/bin/activate\n",
        "\n",
        "# install TensorFlow, correct TensorFlow version is important\n",
        "!pip install --upgrade pip\n",
        "!pip install tf_nightly\n",
        "!pip install tensorflow_addons\n",
        "!pip install tensorflow_model_optimization\n",
        "# was tested on tf_nightly-2.3.0.dev20200515-cp36-cp36m-manylinux2010_x86_64.whl\n",
        "\n",
        "# install libs:\n",
        "!pip install pydot\n",
        "!pip install graphviz\n",
        "!pip install numpy\n",
        "!pip install absl-py\n",
        "\n",
        "\n",
        "\n",
        "\n",
        "\n",
        "### Set up data sets:\n",
        "# download and set up path to data set V2 and set it up\n",
        "!wget https://storage.googleapis.com/download.tensorflow.org/data/speech_commands_v0.02.tar.gz\n",
        "%mkdir data2\n",
        "%mv ./speech_commands_v0.02.tar.gz ./data2\n",
        "%cd ./data2\n",
        "!tar -xf ./speech_commands_v0.02.tar.gz\n",
        "%cd ../\n",
        "\n",
        "# path to data sets V2\n",
        "\n",
        "\n",
        "\n",
        "\n",
        "\n",
        "\n",
        "### Set path to models:\n",
        "# set up path for model training\n",
        "%mkdir $KWS_PATH/models_data_v2_12_labels\n",
        "\n",
        "# models trained on data V2\n",
        "!MODELS_PATH=$KWS_PATH/models_data_v2_12_labels\n",
        "\n",
        "\n",
        "\n",
        "\n",
        "\n",
        "\n",
        "\n",
        "\n",
        "### Models training and evaluation:\n",
        "\n",
        "# CMD_TRAIN=\"bazel run -c opt --copt=-mavx2 kws_streaming/train:model_train_eval --\"\n",
        "!CMD_TRAIN=\"python -m kws_streaming.train.model_train_eval\"\n"
      ],
      "execution_count": null,
      "outputs": []
    },
    {
      "cell_type": "code",
      "metadata": {
        "id": "GVl4VQQUPZg9"
      },
      "source": [
        ""
      ],
      "execution_count": null,
      "outputs": []
    },
    {
      "cell_type": "code",
      "metadata": {
        "id": "0erap1CzPZsd"
      },
      "source": [
        ""
      ],
      "execution_count": null,
      "outputs": []
    },
    {
      "cell_type": "code",
      "metadata": {
        "id": "JYby7eHhPZ2g"
      },
      "source": [
        ""
      ],
      "execution_count": null,
      "outputs": []
    },
    {
      "cell_type": "markdown",
      "metadata": {
        "id": "v9ktDknQPUE3"
      },
      "source": [
        "## From 00_check.ipynb"
      ]
    },
    {
      "cell_type": "code",
      "metadata": {
        "id": "5or4KeYDta5v"
      },
      "source": [
        "!pip install jupyter --user"
      ],
      "execution_count": null,
      "outputs": []
    },
    {
      "cell_type": "code",
      "metadata": {
        "id": "dGYS0NKeVyIJ"
      },
      "source": [
        "## !git clone https://github.com/google-research/google-research.git"
      ],
      "execution_count": null,
      "outputs": []
    },
    {
      "cell_type": "code",
      "metadata": {
        "id": "LutDR7qoVyIQ"
      },
      "source": [
        "import sys\n",
        "import os\n",
        "import tarfile\n",
        "import urllib\n",
        "\n",
        "## from 01_train\n",
        "import zipfile\n",
        "\n",
        "\n",
        "sys.path.append('./google-research')\n",
        "\n",
        "## some change\n"
      ],
      "execution_count": null,
      "outputs": []
    },
    {
      "cell_type": "code",
      "metadata": {
        "id": "t8e_WfgaVyIV"
      },
      "source": [
        "os.environ[\"CUDA_VISIBLE_DEVICES\"] = \"-1\"  # no need to use gpu"
      ],
      "execution_count": null,
      "outputs": []
    },
    {
      "cell_type": "code",
      "metadata": {
        "id": "2vxfxt-VVyIa"
      },
      "source": [
        "import tensorflow as tf\n",
        "import tensorflow.compat.v1 as tf1\n",
        "import logging\n",
        "from kws_streaming.models import model_flags\n",
        "from kws_streaming.models import models\n",
        "from kws_streaming.layers.modes import Modes\n",
        "from kws_streaming.train import test\n",
        "from kws_streaming.models import utils\n",
        "from kws_streaming.data import input_data\n",
        "from kws_streaming.data import input_data_utils as du\n",
        "from kws_streaming.models import model_params"
      ],
      "execution_count": null,
      "outputs": []
    },
    {
      "cell_type": "code",
      "metadata": {
        "id": "jIkBmOt6VyIe"
      },
      "source": [
        "tf1.__version__"
      ],
      "execution_count": null,
      "outputs": []
    },
    {
      "cell_type": "code",
      "metadata": {
        "id": "sSETc8rdVyIl"
      },
      "source": [
        "config = tf1.ConfigProto()\n",
        "config.gpu_options.allow_growth = True\n",
        "sess = tf1.Session(config=config)"
      ],
      "execution_count": null,
      "outputs": []
    },
    {
      "cell_type": "code",
      "metadata": {
        "id": "dnvm8YMlVyIq"
      },
      "source": [
        "tf1.disable_eager_execution()"
      ],
      "execution_count": null,
      "outputs": []
    },
    {
      "cell_type": "code",
      "metadata": {
        "id": "yjvGL2IgVyIw"
      },
      "source": [
        "DATA_VERSION = 2"
      ],
      "execution_count": null,
      "outputs": []
    },
    {
      "cell_type": "code",
      "metadata": {
        "id": "smFll0s2VyI0"
      },
      "source": [
        "current_dir = os.getcwd()\n",
        "\n",
        "if DATA_VERSION == 2:\n",
        "  DATA_URL = \"https://storage.googleapis.com/download.tensorflow.org/data/speech_commands_v0.02.tar.gz\"\n",
        "  DATA_PATH = os.path.join(current_dir, \"data2/\")\n",
        "elif DATA_VERSION == 1:\n",
        "  DATA_URL = \"http://download.tensorflow.org/data/speech_commands_v0.01.tar.gz\"\n",
        "  DATA_PATH = os.path.join(current_dir, \"data1/\")\n",
        "else:\n",
        "  assert(False)"
      ],
      "execution_count": null,
      "outputs": []
    },
    {
      "cell_type": "code",
      "metadata": {
        "id": "2Ap7kbKPVyI4"
      },
      "source": [
        "DATA_PATH"
      ],
      "execution_count": null,
      "outputs": []
    },
    {
      "cell_type": "code",
      "metadata": {
        "id": "HCFAzvyfVyI8"
      },
      "source": [
        "# create folder in current dir.\n",
        "# not data will be downloaded in DATA_PATH, feel free to specify your own DATA_PATH\n",
        "os.makedirs(DATA_PATH)"
      ],
      "execution_count": null,
      "outputs": []
    },
    {
      "cell_type": "code",
      "metadata": {
        "id": "1232Ifp3VyI_"
      },
      "source": [
        "base_name = os.path.basename(DATA_URL)\n",
        "base_name"
      ],
      "execution_count": null,
      "outputs": []
    },
    {
      "cell_type": "code",
      "metadata": {
        "id": "Kf5YF4SsVyJD"
      },
      "source": [
        "# it can take some time to download 2.3GB. After unpacking total size is 5.4GB\n",
        "arch_file_name = os.path.join(DATA_PATH, base_name)\n",
        "if not os.path.isfile(arch_file_name):\n",
        "  # download data\n",
        "  if sys.version_info >= (2, 5):\n",
        "    file_path = urllib.request.urlretrieve(DATA_URL, filename=arch_file_name)[0]\n",
        "  else:\n",
        "    file_path = urllib.urlretrieve(DATA_URL, filename=arch_file_name)[0]\n",
        "\n",
        "  # unpack it\n",
        "  file_name, file_extension = os.path.splitext(base_name)\n",
        "  tar = tarfile.open(file_path)\n",
        "  tar.extractall(DATA_PATH)\n",
        "  tar.close()"
      ],
      "execution_count": null,
      "outputs": []
    },
    {
      "cell_type": "code",
      "metadata": {
        "id": "T8z0-SnfVyJG"
      },
      "source": [
        "# default parameters for data splitting\n",
        "flags = model_params.Params()\n",
        "flags.data_dir = DATA_PATH\n",
        "flags.data_url = DATA_URL\n",
        "flags = model_flags.update_flags(flags)"
      ],
      "execution_count": null,
      "outputs": []
    },
    {
      "cell_type": "code",
      "metadata": {
        "id": "TsRktp1mVyJK"
      },
      "source": [
        "audio_processor = input_data.AudioProcessor(flags)"
      ],
      "execution_count": null,
      "outputs": []
    },
    {
      "cell_type": "code",
      "metadata": {
        "id": "ZXABxi76VyJO"
      },
      "source": [
        "testing_set_size = audio_processor.set_size('testing')\n",
        "print(\"testing_set_size \" + str(testing_set_size))\n",
        "training_set_size = audio_processor.set_size('training')\n",
        "print(\"training_set_size \" + str(training_set_size))\n",
        "validation_set_size = audio_processor.set_size('validation')\n",
        "print(\"validation_set_size \" + str(validation_set_size))"
      ],
      "execution_count": null,
      "outputs": []
    },
    {
      "cell_type": "code",
      "metadata": {
        "id": "kDC0kbR2VyJR"
      },
      "source": [
        "# V2\n",
        "# testing_set_size 4890\n",
        "# training_set_size 36923\n",
        "# validation_set_size 4445\n",
        "\n",
        "# V1\n",
        "# testing_set_size 3081\n",
        "# training_set_size 22246\n",
        "# validation_set_size 3093"
      ],
      "execution_count": null,
      "outputs": []
    },
    {
      "cell_type": "code",
      "metadata": {
        "id": "RocIfpAtVyJU"
      },
      "source": [
        "# all words used for modeling: we have target words + unknown words (with index 1)\n",
        "audio_processor.word_to_index"
      ],
      "execution_count": null,
      "outputs": []
    },
    {
      "cell_type": "code",
      "metadata": {
        "id": "iea72Q5oVyJY"
      },
      "source": [
        "# find the start of the file name where label begins\n",
        "string = audio_processor.data_index[\"validation\"][0]['file']\n",
        "res = [i for i in range(len(string)) if string.startswith('/', i)] \n",
        "start_file = res[-2]+1\n",
        "start_file"
      ],
      "execution_count": null,
      "outputs": []
    },
    {
      "cell_type": "code",
      "metadata": {
        "id": "DQWh0HF0VyJb"
      },
      "source": [
        "audio_processor.data_index[\"validation\"][0]['file'][start_file:]"
      ],
      "execution_count": null,
      "outputs": []
    },
    {
      "cell_type": "code",
      "metadata": {
        "id": "LdihI451VyJe"
      },
      "source": [
        "index_to_label = {}\n",
        "unknown_category = []\n",
        "# labeles used for training\n",
        "for word in audio_processor.word_to_index.keys():\n",
        "  if audio_processor.word_to_index[word] == du.SILENCE_INDEX:\n",
        "    index_to_label[audio_processor.word_to_index[word]] = du.SILENCE_LABEL\n",
        "  elif audio_processor.word_to_index[word] == du.UNKNOWN_WORD_INDEX:\n",
        "    index_to_label[audio_processor.word_to_index[word]] = du.UNKNOWN_WORD_LABEL\n",
        "    unknown_category.append(word)\n",
        "  else:\n",
        "    index_to_label[audio_processor.word_to_index[word]] = word\n",
        "\n",
        "# training labels\n",
        "index_to_label"
      ],
      "execution_count": null,
      "outputs": []
    },
    {
      "cell_type": "code",
      "metadata": {
        "id": "vsgt_OpnVyJh"
      },
      "source": [
        "# words belonging to unknown categry\n",
        "unknown_category"
      ],
      "execution_count": null,
      "outputs": []
    },
    {
      "cell_type": "code",
      "metadata": {
        "id": "JDCSwc9SVyJk"
      },
      "source": [
        "def get_distribution(mode):\n",
        "  distrib_label = {}\n",
        "  distrib_words = {}\n",
        "  files = {}\n",
        "  for data in audio_processor.data_index[mode]:\n",
        "    word = data['label']\n",
        "    file = data['file'][start_file:]\n",
        "    index = audio_processor.word_to_index[word]\n",
        "    label = index_to_label[index]\n",
        "    if word in files:\n",
        "      files[word].append(file)\n",
        "    else:\n",
        "      files[word] = [file]\n",
        "\n",
        "    if label in distrib_label:\n",
        "      distrib_label[label] = distrib_label[label] + 1\n",
        "    else:\n",
        "      distrib_label[label] = 0\n",
        "\n",
        "    if word in distrib_words:\n",
        "      distrib_words[word] = distrib_words[word] + 1\n",
        "    else:\n",
        "      distrib_words[word] = 0\n",
        "  return distrib_words, distrib_label, files"
      ],
      "execution_count": null,
      "outputs": []
    },
    {
      "cell_type": "code",
      "metadata": {
        "id": "fwrCIcC0VyJn"
      },
      "source": [
        "# distribution of labeles in testing data\n",
        "distrib_words_testing, distrib_labels_testing, files_testing = get_distribution('testing')\n",
        "distrib_labels_testing"
      ],
      "execution_count": null,
      "outputs": []
    },
    {
      "cell_type": "code",
      "metadata": {
        "id": "qG0cJ1ifVyJr"
      },
      "source": [
        "# distribution of labeles in training data\n",
        "distrib_words_training, distrib_labels_training, files_training = get_distribution('training')\n",
        "distrib_labels_training"
      ],
      "execution_count": null,
      "outputs": []
    },
    {
      "cell_type": "code",
      "metadata": {
        "id": "GRsumUc0VyJv"
      },
      "source": [
        "def parse_files(set_list_fname, label='yes'):\n",
        "  set_files = []\n",
        "  with open(set_list_fname) as f:\n",
        "    while True:\n",
        "      line = f.readline()\n",
        "      if not line:\n",
        "        break\n",
        "      if line.split('/')[0] == label:\n",
        "        set_files.append(line[:-1])\n",
        "  return set_files"
      ],
      "execution_count": null,
      "outputs": []
    },
    {
      "cell_type": "code",
      "metadata": {
        "id": "iHw_eD2rVyJy"
      },
      "source": [
        "def validate(my_list1, list2, print_in_list2=False):\n",
        "  cnt_my_val2 = 0\n",
        "  cnt_my_val1 = 0\n",
        "  for my_val in my_list1:\n",
        "    if my_val in list2:\n",
        "      cnt_my_val2 = cnt_my_val2 + 1\n",
        "      if print_in_list2:\n",
        "        print(my_val)\n",
        "    else:\n",
        "      cnt_my_val1 = cnt_my_val1 + 1\n",
        "      if not print_in_list2:\n",
        "        print(my_val)\n",
        "  return cnt_my_val1, cnt_my_val2"
      ],
      "execution_count": null,
      "outputs": []
    },
    {
      "cell_type": "code",
      "metadata": {
        "id": "CSbC4wmmVyJ2"
      },
      "source": [
        "file_list = os.path.join(DATA_PATH, \"testing_list.txt\")\n",
        "\n",
        "# validate that all wav used during testing belongs to testing_list\n",
        "for word in files_testing.keys():\n",
        "  if word != '_silence_':\n",
        "    word_files = parse_files(file_list, label=word)\n",
        "    _, cnt_val = validate(files_testing[word], word_files, False)\n",
        "    assert(cnt_val-len(files_testing[word])==0)"
      ],
      "execution_count": null,
      "outputs": []
    },
    {
      "cell_type": "code",
      "metadata": {
        "id": "2Q8zKJWwVyJ4"
      },
      "source": [
        "\n",
        "distrib_words_training, distrib_labels_training, files_training = get_distribution('training')\n",
        "\n",
        "# validate that all wav used during testing do not belong to training data\n",
        "for word in files_testing.keys():\n",
        "  if word != '_silence_': # silence file does not matter becasue it is multiplied by zero\n",
        "    word_files = files_testing[word]\n",
        "    _, cnt_val = validate(files_training[word], word_files, True)\n",
        "    assert(cnt_val == 0)"
      ],
      "execution_count": null,
      "outputs": []
    },
    {
      "cell_type": "code",
      "metadata": {
        "id": "nQqB8IqLVyJ7"
      },
      "source": [
        "##\n",
        "## below is from 01_train.ipynb\n",
        "##\n",
        "##\n",
        "##"
      ],
      "execution_count": null,
      "outputs": []
    },
    {
      "cell_type": "code",
      "metadata": {
        "id": "I17NZafUuR0q"
      },
      "source": [
        "# TF streaming\n",
        "from kws_streaming.models import models\n",
        "from kws_streaming.models import utils\n",
        "from kws_streaming.layers.modes import Modes"
      ],
      "execution_count": null,
      "outputs": []
    },
    {
      "cell_type": "code",
      "metadata": {
        "id": "dV6STWZIuT6p"
      },
      "source": [
        "import tensorflow as tf\n",
        "import numpy as np\n",
        "import tensorflow.compat.v1 as tf1\n",
        "import logging\n",
        "from kws_streaming.models import model_flags\n",
        "from kws_streaming.models import model_params\n",
        "from kws_streaming.train import test\n",
        "from kws_streaming.train import train\n",
        "from kws_streaming import data\n",
        "tf1.disable_eager_execution()"
      ],
      "execution_count": null,
      "outputs": []
    },
    {
      "cell_type": "code",
      "metadata": {
        "id": "yZnb2T0lubdg"
      },
      "source": [
        "config = tf1.ConfigProto()\n",
        "config.gpu_options.allow_growth = True\n",
        "sess = tf1.Session(config=config)"
      ],
      "execution_count": null,
      "outputs": []
    },
    {
      "cell_type": "code",
      "metadata": {
        "id": "O5kHjBtiueRA"
      },
      "source": [
        "# general imports\n",
        "import matplotlib.pyplot as plt\n",
        "import os\n",
        "import json\n",
        "import numpy as np\n",
        "import scipy as scipy\n",
        "import scipy.io.wavfile as wav\n",
        "import scipy.signal"
      ],
      "execution_count": null,
      "outputs": []
    },
    {
      "cell_type": "code",
      "metadata": {
        "id": "Nl6fmayDuhzu"
      },
      "source": [
        "tf.__version__"
      ],
      "execution_count": null,
      "outputs": []
    },
    {
      "cell_type": "code",
      "metadata": {
        "id": "2oO30qMQujxS"
      },
      "source": [
        "tf1.reset_default_graph()\n",
        "sess = tf1.Session()\n",
        "tf1.keras.backend.set_session(sess)\n",
        "tf1.keras.backend.set_learning_phase(0)"
      ],
      "execution_count": null,
      "outputs": []
    },
    {
      "cell_type": "markdown",
      "metadata": {
        "id": "MuNsC0UMuks-"
      },
      "source": [
        "# **Set path to data**"
      ]
    },
    {
      "cell_type": "code",
      "metadata": {
        "id": "XPNUhbiZutYo"
      },
      "source": [
        "# set PATH to data sets (for example to speech commands V2):\n",
        "# it can be downloaded from\n",
        "# https://storage.googleapis.com/download.tensorflow.org/data/speech_commands_v0.02.tar.gz\n",
        "# if you already run \"00_check-data.ipynb\" then folder \"data2\" should be located in the current dir\n",
        "current_dir = os.getcwd()\n",
        "DATA_PATH = os.path.join(current_dir, \"data2/\")"
      ],
      "execution_count": null,
      "outputs": []
    },
    {
      "cell_type": "code",
      "metadata": {
        "id": "SkcsiWBgunGa"
      },
      "source": [
        "def waveread_as_pcm16(filename):\n",
        "  \"\"\"Read in audio data from a wav file.  Return d, sr.\"\"\"\n",
        "  samplerate, wave_data = wav.read(filename)\n",
        "  # Read in wav file.\n",
        "  return wave_data, samplerate\n",
        "\n",
        "def wavread_as_float(filename, target_sample_rate=16000):\n",
        "  \"\"\"Read in audio data from a wav file.  Return d, sr.\"\"\"\n",
        "  wave_data, samplerate = waveread_as_pcm16(filename)\n",
        "  desired_length = int(\n",
        "          round(float(len(wave_data)) / samplerate * target_sample_rate))\n",
        "  wave_data = scipy.signal.resample(wave_data, desired_length)\n",
        "\n",
        "  # Normalize short ints to floats in range [-1..1).\n",
        "  data = np.array(wave_data, np.float32) / 32768.0\n",
        "  return data, target_sample_rate"
      ],
      "execution_count": null,
      "outputs": []
    },
    {
      "cell_type": "code",
      "metadata": {
        "id": "9LJpAmyYu5uY"
      },
      "source": [
        "# Set path to wav file to visualize it\n",
        "wav_file = os.path.join(DATA_PATH, \"left/012187a4_nohash_0.wav\")\n",
        "\n",
        "# read audio file\n",
        "wav_data, samplerate = wavread_as_float(wav_file)"
      ],
      "execution_count": 48,
      "outputs": []
    },
    {
      "cell_type": "code",
      "metadata": {
        "id": "4Kazp0W0u7qB"
      },
      "source": [
        "assert samplerate == 16000"
      ],
      "execution_count": 49,
      "outputs": []
    },
    {
      "cell_type": "code",
      "metadata": {
        "id": "XwPBvbx5u9eD",
        "outputId": "4bb42dd7-e9a3-4d06-a792-6ef1293e7892",
        "colab": {
          "base_uri": "https://localhost:8080/",
          "height": 282
        }
      },
      "source": [
        "plt.plot(wav_data)"
      ],
      "execution_count": 50,
      "outputs": [
        {
          "output_type": "execute_result",
          "data": {
            "text/plain": [
              "[<matplotlib.lines.Line2D at 0x7fe1cd4551d0>]"
            ]
          },
          "metadata": {},
          "execution_count": 50
        },
        {
          "output_type": "display_data",
          "data": {
            "image/png": "[encoded data removed]",
            "text/plain": [
              "<Figure size 432x288 with 1 Axes>"
            ]
          },
          "metadata": {
            "needs_background": "light"
          }
        }
      ]
    },
    {
      "cell_type": "markdown",
      "metadata": {
        "id": "Yquof2BKvCPd"
      },
      "source": [
        "# **Set path to a model with config**"
      ]
    },
    {
      "cell_type": "code",
      "metadata": {
        "id": "842Aa7cNvLth",
        "outputId": "85dfcf70-5a74-4841-f9e8-04b709bb3905",
        "colab": {
          "base_uri": "https://localhost:8080/"
        }
      },
      "source": [
        "# select model name should be one of\n",
        "model_params.HOTWORD_MODEL_PARAMS.keys()"
      ],
      "execution_count": 51,
      "outputs": [
        {
          "output_type": "execute_result",
          "data": {
            "text/plain": [
              "dict_keys(['svdf', 'svdf_resnet', 'ds_cnn', 'gru', 'lstm', 'cnn_stride', 'cnn', 'tc_resnet', 'crnn', 'dnn', 'att_rnn', 'att_mh_rnn', 'mobilenet', 'mobilenet_v2', 'xception', 'inception', 'inception_resnet', 'ds_tc_resnet', 'bc_resnet'])"
            ]
          },
          "metadata": {},
          "execution_count": 51
        }
      ]
    },
    {
      "cell_type": "code",
      "metadata": {
        "id": "nCOnBK3wvRqi",
        "outputId": "0f869de0-1b15-45b8-9c9d-53e6152f9195",
        "colab": {
          "base_uri": "https://localhost:8080/",
          "height": 35
        }
      },
      "source": [
        "# This notebook is configured to work with 'ds_tc_resnet' and 'svdf'.\n",
        "MODEL_NAME = 'ds_tc_resnet'\n",
        "# MODEL_NAME = 'svdf'\n",
        "MODELS_PATH = os.path.join(current_dir, \"models\")\n",
        "MODEL_PATH = os.path.join(MODELS_PATH, MODEL_NAME + \"/\")\n",
        "MODEL_PATH"
      ],
      "execution_count": 52,
      "outputs": [
        {
          "output_type": "execute_result",
          "data": {
            "application/vnd.google.colaboratory.intrinsic+json": {
              "type": "string"
            },
            "text/plain": [
              "'/content/data2/models/ds_tc_resnet/'"
            ]
          },
          "metadata": {},
          "execution_count": 52
        }
      ]
    },
    {
      "cell_type": "code",
      "metadata": {
        "id": "IeUJbS1KvTjT"
      },
      "source": [
        "os.makedirs(MODEL_PATH)"
      ],
      "execution_count": 53,
      "outputs": []
    },
    {
      "cell_type": "code",
      "metadata": {
        "id": "NXZ1mP1tvVh5"
      },
      "source": [
        "# get toy model settings\n",
        "FLAGS = model_params.HOTWORD_MODEL_PARAMS[MODEL_NAME]"
      ],
      "execution_count": 54,
      "outputs": []
    },
    {
      "cell_type": "code",
      "metadata": {
        "id": "TTN6OdlyvXam"
      },
      "source": [
        "# set path to data and model (where model will be stored)\n",
        "FLAGS.data_dir = DATA_PATH\n",
        "FLAGS.train_dir = MODEL_PATH\n",
        "\n",
        "# set speech feature extractor properties\n",
        "FLAGS.mel_upper_edge_hertz = 7600\n",
        "FLAGS.window_size_ms = 30.0\n",
        "FLAGS.window_stride_ms = 10.0\n",
        "FLAGS.mel_num_bins = 80\n",
        "FLAGS.dct_num_features = 40\n",
        "FLAGS.feature_type = 'mfcc_tf'\n",
        "FLAGS.preprocess = 'raw'\n",
        "\n",
        "# for numerical correctness of streaming and non streaming models set it to 1\n",
        "# but for real use case streaming set it to 0\n",
        "FLAGS.causal_data_frame_padding = 0\n",
        "\n",
        "FLAGS.use_tf_fft = True\n",
        "FLAGS.mel_non_zero_only = not FLAGS.use_tf_fft\n",
        "\n",
        "# set training settings\n",
        "FLAGS.train = 1\n",
        "# reduced number of training steps for test only\n",
        "# so model accuracy will be low,\n",
        "# to improve accuracy set how_many_training_steps = '40000,40000,20000,20000'\n",
        "FLAGS.how_many_training_steps = '400,400,400,400'\n",
        "FLAGS.learning_rate = '0.001,0.0005,0.0001,0.00002'\n",
        "FLAGS.lr_schedule = 'linear'\n",
        "FLAGS.verbosity = logging.INFO\n",
        "\n",
        "# data augmentation parameters\n",
        "FLAGS.resample = 0.15\n",
        "FLAGS.time_shift_ms = 100\n",
        "FLAGS.use_spec_augment = 1\n",
        "FLAGS.time_masks_number = 2\n",
        "FLAGS.time_mask_max_size = 25\n",
        "FLAGS.frequency_masks_number = 2\n",
        "FLAGS.frequency_mask_max_size = 7\n",
        "FLAGS.pick_deterministically = 1"
      ],
      "execution_count": 55,
      "outputs": []
    },
    {
      "cell_type": "code",
      "metadata": {
        "id": "BPBW-Dsgvh9D"
      },
      "source": [
        "FLAGS.model_name = MODEL_NAME\n",
        "\n",
        "# model parameters are different for every model\n",
        "if MODEL_NAME == 'svdf':\n",
        "  FLAGS.model_name = MODEL_NAME\n",
        "  FLAGS.svdf_memory_size = \"4,10,10,10,10,10\"\n",
        "  FLAGS.svdf_units1 = \"16,32,32,32,64,128\"\n",
        "  FLAGS.svdf_act = \"'relu','relu','relu','relu','relu','relu'\"\n",
        "  FLAGS.svdf_units2 = \"40,40,64,64,64,-1\"\n",
        "  FLAGS.svdf_dropout = \"0.0,0.0,0.0,0.0,0.0,0.0\"\n",
        "  FLAGS.svdf_pad = 0\n",
        "  FLAGS.dropout1 = 0.0\n",
        "  FLAGS.units2 = ''\n",
        "  FLAGS.act2 = ''\n",
        "elif MODEL_NAME == 'ds_tc_resnet':\n",
        "  # it is an example of model streaming with strided convolution, strided pooling and dilated convolution\n",
        "  FLAGS.activation = 'relu'\n",
        "  FLAGS.dropout = 0.0\n",
        "  FLAGS.ds_filters = '128, 64, 64, 64, 128, 128'\n",
        "  FLAGS.ds_filter_separable = '1, 1, 1, 1, 1, 1'\n",
        "  FLAGS.ds_repeat = '1, 1, 1, 1, 1, 1'\n",
        "  FLAGS.ds_residual = '0, 1, 1, 1, 0, 0' # residual can not be applied with stride\n",
        "#   FLAGS.ds_kernel_size = '11, 5, 15, 7, 29, 1'\n",
        "  FLAGS.ds_kernel_size = '11, 5, 15, 17, 15, 1'\n",
        "  FLAGS.ds_dilation = '1, 1, 1, 1, 2, 1'\n",
        "  FLAGS.ds_stride = '1, 1, 1, 1, 1, 1'\n",
        "  FLAGS.ds_pool = '1, 2, 1, 1, 1, 1'\n",
        "  # model should be causal, so that we can covert it to streaming mode\n",
        "  # if model is non causal then all non causal components should use Delay layer\n",
        "  FLAGS.ds_padding = \"'causal', 'causal', 'causal', 'causal', 'causal', 'causal'\"\n",
        "else:\n",
        "  raise ValueError(\"set parameters for other models\")"
      ],
      "execution_count": 56,
      "outputs": []
    },
    {
      "cell_type": "code",
      "metadata": {
        "id": "y9UygW-Mvlel"
      },
      "source": [
        "flags = model_flags.update_flags(FLAGS)"
      ],
      "execution_count": 57,
      "outputs": []
    },
    {
      "cell_type": "code",
      "metadata": {
        "id": "GnO7WV4Qvm_r"
      },
      "source": [
        "with open(os.path.join(flags.train_dir, 'flags.json'), 'wt') as f:\n",
        "  json.dump(flags.__dict__, f)"
      ],
      "execution_count": 58,
      "outputs": []
    },
    {
      "cell_type": "code",
      "metadata": {
        "id": "pUYFDMTHvosp",
        "outputId": "e93dffde-331c-45fa-ce99-b063f2ce2c74",
        "colab": {
          "base_uri": "https://localhost:8080/",
          "height": 1000
        }
      },
      "source": [
        "# visualize a model\n",
        "model_non_stream_batch = models.MODELS[flags.model_name](flags)\n",
        "tf.keras.utils.plot_model(\n",
        "    model_non_stream_batch,\n",
        "    show_shapes=True,\n",
        "    show_layer_names=True,\n",
        "    expand_nested=True)"
      ],
      "execution_count": 59,
      "outputs": [
        {
          "output_type": "stream",
          "name": "stderr",
          "text": [
            "WARNING:absl:There is no need to use Stream on time dim with size 1\n"
          ]
        },
        {
          "output_type": "execute_result",
          "data": {
            "image/png": "[encoded data removed]",
            "text/plain": [
              "<IPython.core.display.Image object>"
            ]
          },
          "metadata": {},
          "execution_count": 59
        }
      ]
    },
    {
      "cell_type": "code",
      "metadata": {
        "id": "ZMBl3d9cvqZu",
        "outputId": "38be7eb7-d48f-4494-fa7c-b3ec01a247c1",
        "colab": {
          "base_uri": "https://localhost:8080/"
        }
      },
      "source": [
        "model_non_stream_batch.summary()"
      ],
      "execution_count": 60,
      "outputs": [
        {
          "output_type": "stream",
          "name": "stdout",
          "text": [
            "Model: \"model\"\n",
            "__________________________________________________________________________________________________\n",
            " Layer (type)                   Output Shape         Param #     Connected to                     \n",
            "==================================================================================================\n",
            " input_1 (InputLayer)           [(1, 6400)]          0           []                               \n",
            "                                                                                                  \n",
            " speech_features (SpeechFeature  (1, 38, 40)         0           ['input_1[0][0]']                \n",
            " s)                                                                                               \n",
            "                                                                                                  \n",
            " tf_op_layer_ExpandDims (Tensor  [(1, 38, 1, 40)]    0           ['speech_features[0][0]']        \n",
            " FlowOpLayer)                                                                                     \n",
            "                                                                                                  \n",
            " stream (Stream)                (1, 38, 1, 40)       440         ['tf_op_layer_ExpandDims[0][0]'] \n",
            "                                                                                                  \n",
            " conv2d (Conv2D)                (1, 38, 1, 128)      5120        ['stream[0][0]']                 \n",
            "                                                                                                  \n",
            " batch_normalization (BatchNorm  (1, 38, 1, 128)     512         ['conv2d[0][0]']                 \n",
            " alization)                                                                                       \n",
            "                                                                                                  \n",
            " activation (Activation)        (1, 38, 1, 128)      0           ['batch_normalization[0][0]']    \n",
            "                                                                                                  \n",
            " dropout (Dropout)              (1, 38, 1, 128)      0           ['activation[0][0]']             \n",
            "                                                                                                  \n",
            " stream_1 (Stream)              (1, 38, 1, 128)      640         ['dropout[0][0]']                \n",
            "                                                                                                  \n",
            " conv2d_1 (Conv2D)              (1, 38, 1, 64)       8192        ['stream_1[0][0]']               \n",
            "                                                                                                  \n",
            " conv2d_2 (Conv2D)              (1, 38, 1, 64)       8192        ['dropout[0][0]']                \n",
            "                                                                                                  \n",
            " batch_normalization_1 (BatchNo  (1, 38, 1, 64)      256         ['conv2d_1[0][0]']               \n",
            " rmalization)                                                                                     \n",
            "                                                                                                  \n",
            " batch_normalization_2 (BatchNo  (1, 38, 1, 64)      256         ['conv2d_2[0][0]']               \n",
            " rmalization)                                                                                     \n",
            "                                                                                                  \n",
            " add (Add)                      (1, 38, 1, 64)       0           ['batch_normalization_1[0][0]',  \n",
            "                                                                  'batch_normalization_2[0][0]']  \n",
            "                                                                                                  \n",
            " activation_1 (Activation)      (1, 38, 1, 64)       0           ['add[0][0]']                    \n",
            "                                                                                                  \n",
            " dropout_1 (Dropout)            (1, 38, 1, 64)       0           ['activation_1[0][0]']           \n",
            "                                                                                                  \n",
            " average_pooling2d (AveragePool  (1, 19, 1, 64)      0           ['dropout_1[0][0]']              \n",
            " ing2D)                                                                                           \n",
            "                                                                                                  \n",
            " stream_2 (Stream)              (1, 19, 1, 64)       960         ['average_pooling2d[0][0]']      \n",
            "                                                                                                  \n",
            " conv2d_3 (Conv2D)              (1, 19, 1, 64)       4096        ['stream_2[0][0]']               \n",
            "                                                                                                  \n",
            " conv2d_4 (Conv2D)              (1, 19, 1, 64)       4096        ['average_pooling2d[0][0]']      \n",
            "                                                                                                  \n",
            " batch_normalization_3 (BatchNo  (1, 19, 1, 64)      256         ['conv2d_3[0][0]']               \n",
            " rmalization)                                                                                     \n",
            "                                                                                                  \n",
            " batch_normalization_4 (BatchNo  (1, 19, 1, 64)      256         ['conv2d_4[0][0]']               \n",
            " rmalization)                                                                                     \n",
            "                                                                                                  \n",
            " add_1 (Add)                    (1, 19, 1, 64)       0           ['batch_normalization_3[0][0]',  \n",
            "                                                                  'batch_normalization_4[0][0]']  \n",
            "                                                                                                  \n",
            " activation_2 (Activation)      (1, 19, 1, 64)       0           ['add_1[0][0]']                  \n",
            "                                                                                                  \n",
            " dropout_2 (Dropout)            (1, 19, 1, 64)       0           ['activation_2[0][0]']           \n",
            "                                                                                                  \n",
            " stream_3 (Stream)              (1, 19, 1, 64)       1088        ['dropout_2[0][0]']              \n",
            "                                                                                                  \n",
            " conv2d_5 (Conv2D)              (1, 19, 1, 64)       4096        ['stream_3[0][0]']               \n",
            "                                                                                                  \n",
            " conv2d_6 (Conv2D)              (1, 19, 1, 64)       4096        ['dropout_2[0][0]']              \n",
            "                                                                                                  \n",
            " batch_normalization_5 (BatchNo  (1, 19, 1, 64)      256         ['conv2d_5[0][0]']               \n",
            " rmalization)                                                                                     \n",
            "                                                                                                  \n",
            " batch_normalization_6 (BatchNo  (1, 19, 1, 64)      256         ['conv2d_6[0][0]']               \n",
            " rmalization)                                                                                     \n",
            "                                                                                                  \n",
            " add_2 (Add)                    (1, 19, 1, 64)       0           ['batch_normalization_5[0][0]',  \n",
            "                                                                  'batch_normalization_6[0][0]']  \n",
            "                                                                                                  \n",
            " activation_3 (Activation)      (1, 19, 1, 64)       0           ['add_2[0][0]']                  \n",
            "                                                                                                  \n",
            " dropout_3 (Dropout)            (1, 19, 1, 64)       0           ['activation_3[0][0]']           \n",
            "                                                                                                  \n",
            " stream_4 (Stream)              (1, 19, 1, 64)       960         ['dropout_3[0][0]']              \n",
            "                                                                                                  \n",
            " conv2d_7 (Conv2D)              (1, 19, 1, 128)      8192        ['stream_4[0][0]']               \n",
            "                                                                                                  \n",
            " batch_normalization_7 (BatchNo  (1, 19, 1, 128)     512         ['conv2d_7[0][0]']               \n",
            " rmalization)                                                                                     \n",
            "                                                                                                  \n",
            " activation_4 (Activation)      (1, 19, 1, 128)      0           ['batch_normalization_7[0][0]']  \n",
            "                                                                                                  \n",
            " dropout_4 (Dropout)            (1, 19, 1, 128)      0           ['activation_4[0][0]']           \n",
            "                                                                                                  \n",
            " stream_5 (Stream)              (1, 19, 1, 128)      128         ['dropout_4[0][0]']              \n",
            "                                                                                                  \n",
            " conv2d_8 (Conv2D)              (1, 19, 1, 128)      16384       ['stream_5[0][0]']               \n",
            "                                                                                                  \n",
            " batch_normalization_8 (BatchNo  (1, 19, 1, 128)     512         ['conv2d_8[0][0]']               \n",
            " rmalization)                                                                                     \n",
            "                                                                                                  \n",
            " activation_5 (Activation)      (1, 19, 1, 128)      0           ['batch_normalization_8[0][0]']  \n",
            "                                                                                                  \n",
            " dropout_5 (Dropout)            (1, 19, 1, 128)      0           ['activation_5[0][0]']           \n",
            "                                                                                                  \n",
            " stream_6 (Stream)              (1, 128)             0           ['dropout_5[0][0]']              \n",
            "                                                                                                  \n",
            " flatten (Flatten)              (1, 128)             0           ['stream_6[0][0]']               \n",
            "                                                                                                  \n",
            " dense (Dense)                  (1, 12)              1548        ['flatten[0][0]']                \n",
            "                                                                                                  \n",
            "==================================================================================================\n",
            "Total params: 71,300\n",
            "Trainable params: 69,764\n",
            "Non-trainable params: 1,536\n",
            "__________________________________________________________________________________________________\n"
          ]
        }
      ]
    },
    {
      "cell_type": "markdown",
      "metadata": {
        "id": "4z-uxCnKvsFo"
      },
      "source": [
        "# **Model training**"
      ]
    },
    {
      "cell_type": "code",
      "metadata": {
        "id": "t6McwKLnvybj",
        "outputId": "3e8273dc-adda-42e3-f1cc-af2cd87f360b",
        "colab": {
          "base_uri": "https://localhost:8080/"
        }
      },
      "source": [
        "# Model training\n",
        "train.train(flags)"
      ],
      "execution_count": 61,
      "outputs": [
        {
          "output_type": "stream",
          "name": "stderr",
          "text": [
            "INFO:absl:<kws_streaming.models.model_params.Params object at 0x7fe1d4a96750>\n"
          ]
        },
        {
          "output_type": "stream",
          "name": "stdout",
          "text": [
            "WARNING:tensorflow:From /usr/local/lib/python3.7/dist-packages/keras/layers/normalization/batch_normalization.py:532: _colocate_with (from tensorflow.python.framework.ops) is deprecated and will be removed in a future version.\n",
            "Instructions for updating:\n",
            "Colocations handled automatically by placer.\n"
          ]
        },
        {
          "output_type": "stream",
          "name": "stderr",
          "text": [
            "WARNING:tensorflow:From /usr/local/lib/python3.7/dist-packages/keras/layers/normalization/batch_normalization.py:532: _colocate_with (from tensorflow.python.framework.ops) is deprecated and will be removed in a future version.\n",
            "Instructions for updating:\n",
            "Colocations handled automatically by placer.\n",
            "WARNING:absl:There is no need to use Stream on time dim with size 1\n",
            "INFO:absl:None\n"
          ]
        },
        {
          "output_type": "stream",
          "name": "stdout",
          "text": [
            "Model: \"model\"\n",
            "__________________________________________________________________________________________________\n",
            " Layer (type)                   Output Shape         Param #     Connected to                     \n",
            "==================================================================================================\n",
            " input_1 (InputLayer)           [(1, 6400)]          0           []                               \n",
            "                                                                                                  \n",
            " speech_features (SpeechFeature  (1, 38, 40)         0           ['input_1[0][0]']                \n",
            " s)                                                                                               \n",
            "                                                                                                  \n",
            " tf_op_layer_ExpandDims (Tensor  [(1, 38, 1, 40)]    0           ['speech_features[0][0]']        \n",
            " FlowOpLayer)                                                                                     \n",
            "                                                                                                  \n",
            " stream (Stream)                (1, 38, 1, 40)       440         ['tf_op_layer_ExpandDims[0][0]'] \n",
            "                                                                                                  \n",
            " conv2d (Conv2D)                (1, 38, 1, 128)      5120        ['stream[0][0]']                 \n",
            "                                                                                                  \n",
            " batch_normalization (BatchNorm  (1, 38, 1, 128)     512         ['conv2d[0][0]']                 \n",
            " alization)                                                                                       \n",
            "                                                                                                  \n",
            " activation (Activation)        (1, 38, 1, 128)      0           ['batch_normalization[0][0]']    \n",
            "                                                                                                  \n",
            " dropout (Dropout)              (1, 38, 1, 128)      0           ['activation[0][0]']             \n",
            "                                                                                                  \n",
            " stream_1 (Stream)              (1, 38, 1, 128)      640         ['dropout[0][0]']                \n",
            "                                                                                                  \n",
            " conv2d_1 (Conv2D)              (1, 38, 1, 64)       8192        ['stream_1[0][0]']               \n",
            "                                                                                                  \n",
            " conv2d_2 (Conv2D)              (1, 38, 1, 64)       8192        ['dropout[0][0]']                \n",
            "                                                                                                  \n",
            " batch_normalization_1 (BatchNo  (1, 38, 1, 64)      256         ['conv2d_1[0][0]']               \n",
            " rmalization)                                                                                     \n",
            "                                                                                                  \n",
            " batch_normalization_2 (BatchNo  (1, 38, 1, 64)      256         ['conv2d_2[0][0]']               \n",
            " rmalization)                                                                                     \n",
            "                                                                                                  \n",
            " add (Add)                      (1, 38, 1, 64)       0           ['batch_normalization_1[0][0]',  \n",
            "                                                                  'batch_normalization_2[0][0]']  \n",
            "                                                                                                  \n",
            " activation_1 (Activation)      (1, 38, 1, 64)       0           ['add[0][0]']                    \n",
            "                                                                                                  \n",
            " dropout_1 (Dropout)            (1, 38, 1, 64)       0           ['activation_1[0][0]']           \n",
            "                                                                                                  \n",
            " average_pooling2d (AveragePool  (1, 19, 1, 64)      0           ['dropout_1[0][0]']              \n",
            " ing2D)                                                                                           \n",
            "                                                                                                  \n",
            " stream_2 (Stream)              (1, 19, 1, 64)       960         ['average_pooling2d[0][0]']      \n",
            "                                                                                                  \n",
            " conv2d_3 (Conv2D)              (1, 19, 1, 64)       4096        ['stream_2[0][0]']               \n",
            "                                                                                                  \n",
            " conv2d_4 (Conv2D)              (1, 19, 1, 64)       4096        ['average_pooling2d[0][0]']      \n",
            "                                                                                                  \n",
            " batch_normalization_3 (BatchNo  (1, 19, 1, 64)      256         ['conv2d_3[0][0]']               \n",
            " rmalization)                                                                                     \n",
            "                                                                                                  \n",
            " batch_normalization_4 (BatchNo  (1, 19, 1, 64)      256         ['conv2d_4[0][0]']               \n",
            " rmalization)                                                                                     \n",
            "                                                                                                  \n",
            " add_1 (Add)                    (1, 19, 1, 64)       0           ['batch_normalization_3[0][0]',  \n",
            "                                                                  'batch_normalization_4[0][0]']  \n",
            "                                                                                                  \n",
            " activation_2 (Activation)      (1, 19, 1, 64)       0           ['add_1[0][0]']                  \n",
            "                                                                                                  \n",
            " dropout_2 (Dropout)            (1, 19, 1, 64)       0           ['activation_2[0][0]']           \n",
            "                                                                                                  \n",
            " stream_3 (Stream)              (1, 19, 1, 64)       1088        ['dropout_2[0][0]']              \n",
            "                                                                                                  \n",
            " conv2d_5 (Conv2D)              (1, 19, 1, 64)       4096        ['stream_3[0][0]']               \n",
            "                                                                                                  \n",
            " conv2d_6 (Conv2D)              (1, 19, 1, 64)       4096        ['dropout_2[0][0]']              \n",
            "                                                                                                  \n",
            " batch_normalization_5 (BatchNo  (1, 19, 1, 64)      256         ['conv2d_5[0][0]']               \n",
            " rmalization)                                                                                     \n",
            "                                                                                                  \n",
            " batch_normalization_6 (BatchNo  (1, 19, 1, 64)      256         ['conv2d_6[0][0]']               \n",
            " rmalization)                                                                                     \n",
            "                                                                                                  \n",
            " add_2 (Add)                    (1, 19, 1, 64)       0           ['batch_normalization_5[0][0]',  \n",
            "                                                                  'batch_normalization_6[0][0]']  \n",
            "                                                                                                  \n",
            " activation_3 (Activation)      (1, 19, 1, 64)       0           ['add_2[0][0]']                  \n",
            "                                                                                                  \n",
            " dropout_3 (Dropout)            (1, 19, 1, 64)       0           ['activation_3[0][0]']           \n",
            "                                                                                                  \n",
            " stream_4 (Stream)              (1, 19, 1, 64)       960         ['dropout_3[0][0]']              \n",
            "                                                                                                  \n",
            " conv2d_7 (Conv2D)              (1, 19, 1, 128)      8192        ['stream_4[0][0]']               \n",
            "                                                                                                  \n",
            " batch_normalization_7 (BatchNo  (1, 19, 1, 128)     512         ['conv2d_7[0][0]']               \n",
            " rmalization)                                                                                     \n",
            "                                                                                                  \n",
            " activation_4 (Activation)      (1, 19, 1, 128)      0           ['batch_normalization_7[0][0]']  \n",
            "                                                                                                  \n",
            " dropout_4 (Dropout)            (1, 19, 1, 128)      0           ['activation_4[0][0]']           \n",
            "                                                                                                  \n",
            " stream_5 (Stream)              (1, 19, 1, 128)      128         ['dropout_4[0][0]']              \n",
            "                                                                                                  \n",
            " conv2d_8 (Conv2D)              (1, 19, 1, 128)      16384       ['stream_5[0][0]']               \n",
            "                                                                                                  \n",
            " batch_normalization_8 (BatchNo  (1, 19, 1, 128)     512         ['conv2d_8[0][0]']               \n",
            " rmalization)                                                                                     \n",
            "                                                                                                  \n",
            " activation_5 (Activation)      (1, 19, 1, 128)      0           ['batch_normalization_8[0][0]']  \n",
            "                                                                                                  \n",
            " dropout_5 (Dropout)            (1, 19, 1, 128)      0           ['activation_5[0][0]']           \n",
            "                                                                                                  \n",
            " stream_6 (Stream)              (1, 128)             0           ['dropout_5[0][0]']              \n",
            "                                                                                                  \n",
            " flatten (Flatten)              (1, 128)             0           ['stream_6[0][0]']               \n",
            "                                                                                                  \n",
            " dense (Dense)                  (1, 12)              1548        ['flatten[0][0]']                \n",
            "                                                                                                  \n",
            "==================================================================================================\n",
            "Total params: 71,300\n",
            "Trainable params: 69,764\n",
            "Non-trainable params: 1,536\n",
            "__________________________________________________________________________________________________\n"
          ]
        },
        {
          "output_type": "stream",
          "name": "stderr",
          "text": [
            "INFO:absl:Training from step: 1 \n",
            "INFO:absl:Step #1: rate 0.001000, accuracy 0.00%, cross entropy 2.552319\n",
            "INFO:absl:Step #2: rate 0.001000, accuracy 0.00%, cross entropy 2.791292\n",
            "INFO:absl:Step #3: rate 0.001000, accuracy 0.00%, cross entropy 2.751641\n",
            "INFO:absl:Step #4: rate 0.001000, accuracy 0.00%, cross entropy 2.796972\n",
            "INFO:absl:Step #5: rate 0.001000, accuracy 100.00%, cross entropy 1.898391\n",
            "INFO:absl:Step #6: rate 0.001000, accuracy 0.00%, cross entropy 2.885908\n",
            "INFO:absl:Step #7: rate 0.001000, accuracy 0.00%, cross entropy 2.567551\n",
            "INFO:absl:Step #8: rate 0.001000, accuracy 100.00%, cross entropy 1.938580\n",
            "INFO:absl:Step #9: rate 0.001000, accuracy 0.00%, cross entropy 2.823218\n",
            "INFO:absl:Step #10: rate 0.001000, accuracy 0.00%, cross entropy 2.215343\n",
            "INFO:absl:Step #11: rate 0.001000, accuracy 0.00%, cross entropy 2.457526\n",
            "INFO:absl:Step #12: rate 0.001000, accuracy 0.00%, cross entropy 3.811072\n",
            "INFO:absl:Step #13: rate 0.001000, accuracy 0.00%, cross entropy 2.451889\n",
            "INFO:absl:Step #14: rate 0.001000, accuracy 0.00%, cross entropy 2.456580\n",
            "INFO:absl:Step #15: rate 0.001000, accuracy 0.00%, cross entropy 2.712950\n",
            "INFO:absl:Step #16: rate 0.001000, accuracy 0.00%, cross entropy 2.458821\n",
            "INFO:absl:Step #17: rate 0.001000, accuracy 0.00%, cross entropy 2.633901\n",
            "INFO:absl:Step #18: rate 0.001000, accuracy 0.00%, cross entropy 3.384727\n",
            "INFO:absl:Step #19: rate 0.001000, accuracy 0.00%, cross entropy 3.638650\n",
            "INFO:absl:Step #20: rate 0.001000, accuracy 0.00%, cross entropy 3.040210\n",
            "INFO:absl:Step #21: rate 0.001000, accuracy 0.00%, cross entropy 2.476593\n",
            "INFO:absl:Step #22: rate 0.001000, accuracy 0.00%, cross entropy 2.635629\n",
            "INFO:absl:Step #23: rate 0.001000, accuracy 0.00%, cross entropy 2.593835\n",
            "INFO:absl:Step #24: rate 0.001000, accuracy 0.00%, cross entropy 3.467929\n",
            "INFO:absl:Step #25: rate 0.001000, accuracy 0.00%, cross entropy 2.396021\n",
            "INFO:absl:Step #26: rate 0.001000, accuracy 0.00%, cross entropy 2.346802\n",
            "INFO:absl:Step #27: rate 0.001000, accuracy 0.00%, cross entropy 2.248374\n",
            "INFO:absl:Step #28: rate 0.001000, accuracy 0.00%, cross entropy 2.995575\n",
            "INFO:absl:Step #29: rate 0.001000, accuracy 0.00%, cross entropy 2.316126\n",
            "INFO:absl:Step #30: rate 0.001000, accuracy 0.00%, cross entropy 3.348336\n",
            "INFO:absl:Step #31: rate 0.001000, accuracy 0.00%, cross entropy 2.307367\n",
            "INFO:absl:Step #32: rate 0.001000, accuracy 0.00%, cross entropy 2.866970\n",
            "INFO:absl:Step #33: rate 0.001000, accuracy 0.00%, cross entropy 3.207588\n",
            "INFO:absl:Step #34: rate 0.001000, accuracy 0.00%, cross entropy 3.166386\n",
            "INFO:absl:Step #35: rate 0.001000, accuracy 0.00%, cross entropy 2.319770\n",
            "INFO:absl:Step #36: rate 0.001000, accuracy 0.00%, cross entropy 2.733327\n",
            "INFO:absl:Step #37: rate 0.001000, accuracy 0.00%, cross entropy 2.346788\n",
            "INFO:absl:Step #38: rate 0.001000, accuracy 0.00%, cross entropy 2.141206\n",
            "INFO:absl:Step #39: rate 0.001000, accuracy 0.00%, cross entropy 3.224277\n",
            "INFO:absl:Step #40: rate 0.001000, accuracy 0.00%, cross entropy 2.460187\n",
            "INFO:absl:Step #41: rate 0.001000, accuracy 0.00%, cross entropy 3.167496\n",
            "INFO:absl:Step #42: rate 0.001000, accuracy 0.00%, cross entropy 3.059110\n",
            "INFO:absl:Step #43: rate 0.001000, accuracy 100.00%, cross entropy 2.055768\n",
            "INFO:absl:Step #44: rate 0.001000, accuracy 0.00%, cross entropy 2.614081\n",
            "INFO:absl:Step #45: rate 0.001000, accuracy 0.00%, cross entropy 2.266219\n",
            "INFO:absl:Step #46: rate 0.001000, accuracy 0.00%, cross entropy 2.231079\n",
            "INFO:absl:Step #47: rate 0.001000, accuracy 0.00%, cross entropy 2.359930\n",
            "INFO:absl:Step #48: rate 0.001000, accuracy 0.00%, cross entropy 3.072231\n",
            "INFO:absl:Step #49: rate 0.001000, accuracy 0.00%, cross entropy 2.354151\n",
            "INFO:absl:Step #50: rate 0.001000, accuracy 0.00%, cross entropy 2.946810\n",
            "INFO:absl:Step #51: rate 0.001000, accuracy 0.00%, cross entropy 2.204970\n",
            "INFO:absl:Step #52: rate 0.001000, accuracy 0.00%, cross entropy 2.277407\n",
            "INFO:absl:Step #53: rate 0.001000, accuracy 0.00%, cross entropy 2.650991\n",
            "INFO:absl:Step #54: rate 0.001000, accuracy 0.00%, cross entropy 2.784724\n",
            "INFO:absl:Step #55: rate 0.001000, accuracy 0.00%, cross entropy 2.628273\n",
            "INFO:absl:Step #56: rate 0.001000, accuracy 0.00%, cross entropy 2.163555\n",
            "INFO:absl:Step #57: rate 0.001000, accuracy 0.00%, cross entropy 2.390018\n",
            "INFO:absl:Step #58: rate 0.001000, accuracy 0.00%, cross entropy 2.573730\n",
            "INFO:absl:Step #59: rate 0.001000, accuracy 0.00%, cross entropy 2.277292\n",
            "INFO:absl:Step #60: rate 0.001000, accuracy 0.00%, cross entropy 2.708840\n",
            "INFO:absl:Step #61: rate 0.001000, accuracy 0.00%, cross entropy 2.746869\n",
            "INFO:absl:Step #62: rate 0.001000, accuracy 0.00%, cross entropy 2.945428\n",
            "INFO:absl:Step #63: rate 0.001000, accuracy 0.00%, cross entropy 2.978078\n",
            "INFO:absl:Step #64: rate 0.001000, accuracy 0.00%, cross entropy 2.220499\n",
            "INFO:absl:Step #65: rate 0.001000, accuracy 0.00%, cross entropy 2.239923\n",
            "INFO:absl:Step #66: rate 0.001000, accuracy 0.00%, cross entropy 2.508897\n",
            "INFO:absl:Step #67: rate 0.001000, accuracy 0.00%, cross entropy 2.269911\n",
            "INFO:absl:Step #68: rate 0.001000, accuracy 0.00%, cross entropy 2.300492\n",
            "INFO:absl:Step #69: rate 0.001000, accuracy 0.00%, cross entropy 2.834368\n",
            "INFO:absl:Step #70: rate 0.001000, accuracy 0.00%, cross entropy 2.535547\n",
            "INFO:absl:Step #71: rate 0.001000, accuracy 0.00%, cross entropy 2.946198\n",
            "INFO:absl:Step #72: rate 0.001000, accuracy 0.00%, cross entropy 2.821514\n",
            "INFO:absl:Step #73: rate 0.001000, accuracy 0.00%, cross entropy 2.459726\n",
            "INFO:absl:Step #74: rate 0.001000, accuracy 0.00%, cross entropy 2.950589\n",
            "INFO:absl:Step #75: rate 0.001000, accuracy 0.00%, cross entropy 2.613365\n",
            "INFO:absl:Step #76: rate 0.001000, accuracy 0.00%, cross entropy 2.287532\n",
            "INFO:absl:Step #77: rate 0.001000, accuracy 0.00%, cross entropy 2.626499\n",
            "INFO:absl:Step #78: rate 0.001000, accuracy 100.00%, cross entropy 2.095039\n",
            "INFO:absl:Step #79: rate 0.001000, accuracy 0.00%, cross entropy 2.176658\n",
            "INFO:absl:Step #80: rate 0.001000, accuracy 0.00%, cross entropy 2.387450\n",
            "INFO:absl:Step #81: rate 0.001000, accuracy 0.00%, cross entropy 2.830857\n",
            "INFO:absl:Step #82: rate 0.001000, accuracy 0.00%, cross entropy 2.846854\n",
            "INFO:absl:Step #83: rate 0.001000, accuracy 0.00%, cross entropy 2.842591\n",
            "INFO:absl:Step #84: rate 0.001000, accuracy 0.00%, cross entropy 2.487720\n",
            "INFO:absl:Step #85: rate 0.001000, accuracy 0.00%, cross entropy 2.365735\n",
            "INFO:absl:Step #86: rate 0.001000, accuracy 100.00%, cross entropy 2.104913\n",
            "INFO:absl:Step #87: rate 0.001000, accuracy 0.00%, cross entropy 2.210788\n",
            "INFO:absl:Step #88: rate 0.001000, accuracy 0.00%, cross entropy 2.729571\n",
            "INFO:absl:Step #89: rate 0.001000, accuracy 100.00%, cross entropy 2.096083\n",
            "INFO:absl:Step #90: rate 0.001000, accuracy 0.00%, cross entropy 2.295159\n",
            "INFO:absl:Step #91: rate 0.001000, accuracy 100.00%, cross entropy 2.094517\n",
            "INFO:absl:Step #92: rate 0.001000, accuracy 0.00%, cross entropy 2.809510\n",
            "INFO:absl:Step #93: rate 0.001000, accuracy 0.00%, cross entropy 2.880875\n",
            "INFO:absl:Step #94: rate 0.001000, accuracy 0.00%, cross entropy 2.706275\n",
            "INFO:absl:Step #95: rate 0.001000, accuracy 0.00%, cross entropy 2.195145\n",
            "INFO:absl:Step #96: rate 0.001000, accuracy 0.00%, cross entropy 2.262536\n",
            "INFO:absl:Step #97: rate 0.001000, accuracy 0.00%, cross entropy 2.154821\n",
            "INFO:absl:Step #98: rate 0.001000, accuracy 0.00%, cross entropy 2.710631\n",
            "INFO:absl:Step #99: rate 0.001000, accuracy 0.00%, cross entropy 2.659219\n",
            "INFO:absl:Step #100: rate 0.001000, accuracy 0.00%, cross entropy 2.598000\n",
            "INFO:absl:Step #101: rate 0.001000, accuracy 0.00%, cross entropy 2.315541\n",
            "INFO:absl:Step #102: rate 0.001000, accuracy 0.00%, cross entropy 2.645452\n",
            "INFO:absl:Step #103: rate 0.001000, accuracy 100.00%, cross entropy 1.930296\n",
            "INFO:absl:Step #104: rate 0.001000, accuracy 0.00%, cross entropy 2.365174\n",
            "INFO:absl:Step #105: rate 0.001000, accuracy 0.00%, cross entropy 2.860397\n",
            "INFO:absl:Step #106: rate 0.001000, accuracy 0.00%, cross entropy 2.583902\n",
            "INFO:absl:Step #107: rate 0.001000, accuracy 0.00%, cross entropy 2.271369\n",
            "INFO:absl:Step #108: rate 0.001000, accuracy 0.00%, cross entropy 2.292247\n",
            "INFO:absl:Step #109: rate 0.001000, accuracy 0.00%, cross entropy 2.718339\n",
            "INFO:absl:Step #110: rate 0.001000, accuracy 0.00%, cross entropy 2.669490\n",
            "INFO:absl:Step #111: rate 0.001000, accuracy 0.00%, cross entropy 2.564833\n",
            "INFO:absl:Step #112: rate 0.001000, accuracy 0.00%, cross entropy 2.548771\n",
            "INFO:absl:Step #113: rate 0.001000, accuracy 0.00%, cross entropy 2.558796\n",
            "INFO:absl:Step #114: rate 0.001000, accuracy 0.00%, cross entropy 3.049671\n",
            "INFO:absl:Step #115: rate 0.001000, accuracy 0.00%, cross entropy 2.075906\n",
            "INFO:absl:Step #116: rate 0.001000, accuracy 0.00%, cross entropy 2.515498\n",
            "INFO:absl:Step #117: rate 0.001000, accuracy 0.00%, cross entropy 2.146709\n",
            "INFO:absl:Step #118: rate 0.001000, accuracy 0.00%, cross entropy 2.599876\n",
            "INFO:absl:Step #119: rate 0.001000, accuracy 100.00%, cross entropy 1.996632\n",
            "INFO:absl:Step #120: rate 0.001000, accuracy 0.00%, cross entropy 2.568291\n",
            "INFO:absl:Step #121: rate 0.001000, accuracy 0.00%, cross entropy 2.198445\n",
            "INFO:absl:Step #122: rate 0.001000, accuracy 0.00%, cross entropy 3.078767\n",
            "INFO:absl:Step #123: rate 0.001000, accuracy 0.00%, cross entropy 2.506174\n",
            "INFO:absl:Step #124: rate 0.001000, accuracy 0.00%, cross entropy 2.190131\n",
            "INFO:absl:Step #125: rate 0.001000, accuracy 0.00%, cross entropy 2.415043\n",
            "INFO:absl:Step #126: rate 0.001000, accuracy 0.00%, cross entropy 2.361611\n",
            "INFO:absl:Step #127: rate 0.001000, accuracy 0.00%, cross entropy 2.135200\n",
            "INFO:absl:Step #128: rate 0.001000, accuracy 0.00%, cross entropy 3.024289\n",
            "INFO:absl:Step #129: rate 0.001000, accuracy 0.00%, cross entropy 2.410112\n",
            "INFO:absl:Step #130: rate 0.001000, accuracy 0.00%, cross entropy 2.140044\n",
            "INFO:absl:Step #131: rate 0.001000, accuracy 0.00%, cross entropy 2.984927\n",
            "INFO:absl:Step #132: rate 0.001000, accuracy 0.00%, cross entropy 2.910481\n",
            "INFO:absl:Step #133: rate 0.001000, accuracy 0.00%, cross entropy 2.586562\n",
            "INFO:absl:Step #134: rate 0.001000, accuracy 0.00%, cross entropy 2.325105\n",
            "INFO:absl:Step #135: rate 0.001000, accuracy 0.00%, cross entropy 3.034483\n",
            "INFO:absl:Step #136: rate 0.001000, accuracy 0.00%, cross entropy 3.056698\n",
            "INFO:absl:Step #137: rate 0.001000, accuracy 0.00%, cross entropy 2.998371\n",
            "INFO:absl:Step #138: rate 0.001000, accuracy 0.00%, cross entropy 2.105369\n",
            "INFO:absl:Step #139: rate 0.001000, accuracy 0.00%, cross entropy 2.959779\n",
            "INFO:absl:Step #140: rate 0.001000, accuracy 0.00%, cross entropy 2.220208\n",
            "INFO:absl:Step #141: rate 0.001000, accuracy 0.00%, cross entropy 2.562129\n",
            "INFO:absl:Step #142: rate 0.001000, accuracy 0.00%, cross entropy 2.885738\n",
            "INFO:absl:Step #143: rate 0.001000, accuracy 0.00%, cross entropy 2.861595\n",
            "INFO:absl:Step #144: rate 0.001000, accuracy 0.00%, cross entropy 2.293804\n",
            "INFO:absl:Step #145: rate 0.001000, accuracy 0.00%, cross entropy 2.197616\n",
            "INFO:absl:Step #146: rate 0.001000, accuracy 0.00%, cross entropy 2.179682\n",
            "INFO:absl:Step #147: rate 0.001000, accuracy 0.00%, cross entropy 2.142094\n",
            "INFO:absl:Step #148: rate 0.001000, accuracy 0.00%, cross entropy 2.711756\n",
            "INFO:absl:Step #149: rate 0.001000, accuracy 100.00%, cross entropy 2.085032\n",
            "INFO:absl:Step #150: rate 0.001000, accuracy 0.00%, cross entropy 2.579029\n",
            "INFO:absl:Step #151: rate 0.001000, accuracy 0.00%, cross entropy 3.042103\n",
            "INFO:absl:Step #152: rate 0.001000, accuracy 0.00%, cross entropy 2.677872\n",
            "INFO:absl:Step #153: rate 0.001000, accuracy 0.00%, cross entropy 2.289153\n",
            "INFO:absl:Step #154: rate 0.001000, accuracy 0.00%, cross entropy 2.148162\n",
            "INFO:absl:Step #155: rate 0.001000, accuracy 0.00%, cross entropy 2.206127\n",
            "INFO:absl:Step #156: rate 0.001000, accuracy 0.00%, cross entropy 2.680519\n",
            "INFO:absl:Step #157: rate 0.001000, accuracy 100.00%, cross entropy 1.906632\n",
            "INFO:absl:Step #158: rate 0.001000, accuracy 0.00%, cross entropy 2.629015\n",
            "INFO:absl:Step #159: rate 0.001000, accuracy 0.00%, cross entropy 2.541734\n",
            "INFO:absl:Step #160: rate 0.001000, accuracy 0.00%, cross entropy 2.636728\n",
            "INFO:absl:Step #161: rate 0.001000, accuracy 0.00%, cross entropy 2.924456\n",
            "INFO:absl:Step #162: rate 0.001000, accuracy 100.00%, cross entropy 1.894567\n",
            "INFO:absl:Step #163: rate 0.001000, accuracy 0.00%, cross entropy 2.576295\n",
            "INFO:absl:Step #164: rate 0.001000, accuracy 0.00%, cross entropy 2.540684\n",
            "INFO:absl:Step #165: rate 0.001000, accuracy 0.00%, cross entropy 2.520878\n",
            "INFO:absl:Step #166: rate 0.001000, accuracy 0.00%, cross entropy 3.008110\n",
            "INFO:absl:Step #167: rate 0.001000, accuracy 0.00%, cross entropy 2.174105\n",
            "INFO:absl:Step #168: rate 0.001000, accuracy 0.00%, cross entropy 2.931136\n",
            "INFO:absl:Step #169: rate 0.001000, accuracy 0.00%, cross entropy 2.640374\n",
            "INFO:absl:Step #170: rate 0.001000, accuracy 0.00%, cross entropy 2.515201\n",
            "INFO:absl:Step #171: rate 0.001000, accuracy 0.00%, cross entropy 2.234926\n",
            "INFO:absl:Step #172: rate 0.001000, accuracy 0.00%, cross entropy 2.430761\n",
            "INFO:absl:Step #173: rate 0.001000, accuracy 0.00%, cross entropy 2.516060\n",
            "INFO:absl:Step #174: rate 0.001000, accuracy 0.00%, cross entropy 2.658381\n",
            "INFO:absl:Step #175: rate 0.001000, accuracy 100.00%, cross entropy 1.942122\n",
            "INFO:absl:Step #176: rate 0.001000, accuracy 0.00%, cross entropy 2.107293\n",
            "INFO:absl:Step #177: rate 0.001000, accuracy 0.00%, cross entropy 2.525902\n",
            "INFO:absl:Step #178: rate 0.001000, accuracy 100.00%, cross entropy 1.926745\n",
            "INFO:absl:Step #179: rate 0.001000, accuracy 0.00%, cross entropy 2.262534\n",
            "INFO:absl:Step #180: rate 0.001000, accuracy 0.00%, cross entropy 2.932435\n",
            "INFO:absl:Step #181: rate 0.001000, accuracy 0.00%, cross entropy 2.049164\n",
            "INFO:absl:Step #182: rate 0.001000, accuracy 0.00%, cross entropy 2.921454\n",
            "INFO:absl:Step #183: rate 0.001000, accuracy 0.00%, cross entropy 2.498779\n",
            "INFO:absl:Step #184: rate 0.001000, accuracy 0.00%, cross entropy 2.002715\n",
            "INFO:absl:Step #185: rate 0.001000, accuracy 0.00%, cross entropy 3.048841\n",
            "INFO:absl:Step #186: rate 0.001000, accuracy 0.00%, cross entropy 2.982621\n",
            "INFO:absl:Step #187: rate 0.001000, accuracy 0.00%, cross entropy 2.246762\n",
            "INFO:absl:Step #188: rate 0.001000, accuracy 0.00%, cross entropy 2.857140\n",
            "INFO:absl:Step #189: rate 0.001000, accuracy 0.00%, cross entropy 2.455563\n",
            "INFO:absl:Step #190: rate 0.001000, accuracy 0.00%, cross entropy 2.498806\n",
            "INFO:absl:Step #191: rate 0.001000, accuracy 0.00%, cross entropy 2.736844\n",
            "INFO:absl:Step #192: rate 0.001000, accuracy 0.00%, cross entropy 2.530221\n",
            "INFO:absl:Step #193: rate 0.001000, accuracy 0.00%, cross entropy 3.439387\n",
            "INFO:absl:Step #194: rate 0.001000, accuracy 0.00%, cross entropy 2.192285\n",
            "INFO:absl:Step #195: rate 0.001000, accuracy 0.00%, cross entropy 2.833287\n",
            "INFO:absl:Step #196: rate 0.001000, accuracy 0.00%, cross entropy 2.186145\n",
            "INFO:absl:Step #197: rate 0.001000, accuracy 0.00%, cross entropy 2.330661\n",
            "INFO:absl:Step #198: rate 0.001000, accuracy 0.00%, cross entropy 2.741535\n",
            "INFO:absl:Step #199: rate 0.001000, accuracy 0.00%, cross entropy 2.597556\n",
            "INFO:absl:Step #200: rate 0.001000, accuracy 0.00%, cross entropy 2.569754\n",
            "INFO:absl:Step #201: rate 0.001000, accuracy 0.00%, cross entropy 2.820257\n",
            "INFO:absl:Step #202: rate 0.001000, accuracy 0.00%, cross entropy 2.637861\n",
            "INFO:absl:Step #203: rate 0.001000, accuracy 0.00%, cross entropy 2.644099\n",
            "INFO:absl:Step #204: rate 0.001000, accuracy 100.00%, cross entropy 2.058508\n",
            "INFO:absl:Step #205: rate 0.001000, accuracy 0.00%, cross entropy 2.106809\n",
            "INFO:absl:Step #206: rate 0.001000, accuracy 0.00%, cross entropy 2.605290\n",
            "INFO:absl:Step #207: rate 0.001000, accuracy 0.00%, cross entropy 3.287011\n",
            "INFO:absl:Step #208: rate 0.001000, accuracy 0.00%, cross entropy 2.347119\n",
            "INFO:absl:Step #209: rate 0.001000, accuracy 0.00%, cross entropy 2.246301\n",
            "INFO:absl:Step #210: rate 0.001000, accuracy 0.00%, cross entropy 2.524791\n",
            "INFO:absl:Step #211: rate 0.001000, accuracy 0.00%, cross entropy 2.790206\n",
            "INFO:absl:Step #212: rate 0.001000, accuracy 0.00%, cross entropy 2.375867\n",
            "INFO:absl:Step #213: rate 0.001000, accuracy 0.00%, cross entropy 2.196468\n",
            "INFO:absl:Step #214: rate 0.001000, accuracy 0.00%, cross entropy 2.139348\n",
            "INFO:absl:Step #215: rate 0.001000, accuracy 0.00%, cross entropy 3.208123\n",
            "INFO:absl:Step #216: rate 0.001000, accuracy 0.00%, cross entropy 2.711456\n",
            "INFO:absl:Step #217: rate 0.001000, accuracy 0.00%, cross entropy 2.595556\n",
            "INFO:absl:Step #218: rate 0.001000, accuracy 0.00%, cross entropy 2.410642\n",
            "INFO:absl:Step #219: rate 0.001000, accuracy 0.00%, cross entropy 2.704366\n",
            "INFO:absl:Step #220: rate 0.001000, accuracy 0.00%, cross entropy 2.736162\n",
            "INFO:absl:Step #221: rate 0.001000, accuracy 0.00%, cross entropy 2.730550\n",
            "INFO:absl:Step #222: rate 0.001000, accuracy 0.00%, cross entropy 3.096819\n",
            "INFO:absl:Step #223: rate 0.001000, accuracy 0.00%, cross entropy 2.303525\n",
            "INFO:absl:Step #224: rate 0.001000, accuracy 0.00%, cross entropy 2.587753\n",
            "INFO:absl:Step #225: rate 0.001000, accuracy 0.00%, cross entropy 2.683354\n",
            "INFO:absl:Step #226: rate 0.001000, accuracy 0.00%, cross entropy 2.624668\n",
            "INFO:absl:Step #227: rate 0.001000, accuracy 0.00%, cross entropy 2.531569\n",
            "INFO:absl:Step #228: rate 0.001000, accuracy 0.00%, cross entropy 2.780584\n",
            "INFO:absl:Step #229: rate 0.001000, accuracy 0.00%, cross entropy 2.810572\n",
            "INFO:absl:Step #230: rate 0.001000, accuracy 0.00%, cross entropy 2.881298\n",
            "INFO:absl:Step #231: rate 0.001000, accuracy 100.00%, cross entropy 2.134928\n",
            "INFO:absl:Step #232: rate 0.001000, accuracy 0.00%, cross entropy 2.376163\n",
            "INFO:absl:Step #233: rate 0.001000, accuracy 0.00%, cross entropy 2.373744\n",
            "INFO:absl:Step #234: rate 0.001000, accuracy 0.00%, cross entropy 2.402807\n",
            "INFO:absl:Step #235: rate 0.001000, accuracy 0.00%, cross entropy 2.314174\n",
            "INFO:absl:Step #236: rate 0.001000, accuracy 0.00%, cross entropy 2.356970\n",
            "INFO:absl:Step #237: rate 0.001000, accuracy 0.00%, cross entropy 2.739738\n",
            "INFO:absl:Step #238: rate 0.001000, accuracy 0.00%, cross entropy 2.740974\n",
            "INFO:absl:Step #239: rate 0.001000, accuracy 0.00%, cross entropy 2.401139\n",
            "INFO:absl:Step #240: rate 0.001000, accuracy 0.00%, cross entropy 2.306070\n",
            "INFO:absl:Step #241: rate 0.001000, accuracy 100.00%, cross entropy 2.193407\n",
            "INFO:absl:Step #242: rate 0.001000, accuracy 0.00%, cross entropy 2.390380\n",
            "INFO:absl:Step #243: rate 0.001000, accuracy 0.00%, cross entropy 2.299519\n",
            "INFO:absl:Step #244: rate 0.001000, accuracy 0.00%, cross entropy 2.377257\n",
            "INFO:absl:Step #245: rate 0.001000, accuracy 0.00%, cross entropy 2.516342\n",
            "INFO:absl:Step #246: rate 0.001000, accuracy 0.00%, cross entropy 2.659877\n",
            "INFO:absl:Step #247: rate 0.001000, accuracy 0.00%, cross entropy 2.754585\n",
            "INFO:absl:Step #248: rate 0.001000, accuracy 0.00%, cross entropy 2.777992\n",
            "INFO:absl:Step #249: rate 0.001000, accuracy 0.00%, cross entropy 2.549155\n",
            "INFO:absl:Step #250: rate 0.001000, accuracy 0.00%, cross entropy 3.074858\n",
            "INFO:absl:Step #251: rate 0.001000, accuracy 0.00%, cross entropy 3.115295\n",
            "INFO:absl:Step #252: rate 0.001000, accuracy 0.00%, cross entropy 2.465388\n",
            "INFO:absl:Step #253: rate 0.001000, accuracy 0.00%, cross entropy 2.655517\n",
            "INFO:absl:Step #254: rate 0.001000, accuracy 0.00%, cross entropy 2.222894\n",
            "INFO:absl:Step #255: rate 0.001000, accuracy 0.00%, cross entropy 2.641442\n",
            "INFO:absl:Step #256: rate 0.001000, accuracy 0.00%, cross entropy 2.908170\n",
            "INFO:absl:Step #257: rate 0.001000, accuracy 0.00%, cross entropy 2.583167\n",
            "INFO:absl:Step #258: rate 0.001000, accuracy 0.00%, cross entropy 2.601022\n",
            "INFO:absl:Step #259: rate 0.001000, accuracy 0.00%, cross entropy 2.669563\n",
            "INFO:absl:Step #260: rate 0.001000, accuracy 0.00%, cross entropy 2.630820\n",
            "INFO:absl:Step #261: rate 0.001000, accuracy 0.00%, cross entropy 2.446626\n",
            "INFO:absl:Step #262: rate 0.001000, accuracy 0.00%, cross entropy 2.561297\n",
            "INFO:absl:Step #263: rate 0.001000, accuracy 0.00%, cross entropy 2.545385\n",
            "INFO:absl:Step #264: rate 0.001000, accuracy 0.00%, cross entropy 2.273747\n",
            "INFO:absl:Step #265: rate 0.001000, accuracy 0.00%, cross entropy 2.803024\n",
            "INFO:absl:Step #266: rate 0.001000, accuracy 0.00%, cross entropy 2.262269\n",
            "INFO:absl:Step #267: rate 0.001000, accuracy 0.00%, cross entropy 2.799444\n",
            "INFO:absl:Step #268: rate 0.001000, accuracy 0.00%, cross entropy 2.445969\n",
            "INFO:absl:Step #269: rate 0.001000, accuracy 0.00%, cross entropy 2.257063\n",
            "INFO:absl:Step #270: rate 0.001000, accuracy 0.00%, cross entropy 2.388941\n",
            "INFO:absl:Step #271: rate 0.001000, accuracy 0.00%, cross entropy 2.700979\n",
            "INFO:absl:Step #272: rate 0.001000, accuracy 0.00%, cross entropy 2.220188\n",
            "INFO:absl:Step #273: rate 0.001000, accuracy 0.00%, cross entropy 2.619475\n",
            "INFO:absl:Step #274: rate 0.001000, accuracy 0.00%, cross entropy 2.647352\n",
            "INFO:absl:Step #275: rate 0.001000, accuracy 0.00%, cross entropy 2.350381\n",
            "INFO:absl:Step #276: rate 0.001000, accuracy 0.00%, cross entropy 2.328858\n",
            "INFO:absl:Step #277: rate 0.001000, accuracy 0.00%, cross entropy 2.226923\n",
            "INFO:absl:Step #278: rate 0.001000, accuracy 0.00%, cross entropy 2.154513\n",
            "INFO:absl:Step #279: rate 0.001000, accuracy 0.00%, cross entropy 2.864670\n",
            "INFO:absl:Step #280: rate 0.001000, accuracy 0.00%, cross entropy 2.181125\n",
            "INFO:absl:Step #281: rate 0.001000, accuracy 0.00%, cross entropy 2.555878\n",
            "INFO:absl:Step #282: rate 0.001000, accuracy 0.00%, cross entropy 2.753431\n",
            "INFO:absl:Step #283: rate 0.001000, accuracy 0.00%, cross entropy 2.494729\n",
            "INFO:absl:Step #284: rate 0.001000, accuracy 0.00%, cross entropy 2.267483\n",
            "INFO:absl:Step #285: rate 0.001000, accuracy 0.00%, cross entropy 2.808747\n",
            "INFO:absl:Step #286: rate 0.001000, accuracy 0.00%, cross entropy 2.283757\n",
            "INFO:absl:Step #287: rate 0.001000, accuracy 0.00%, cross entropy 2.831503\n",
            "INFO:absl:Step #288: rate 0.001000, accuracy 0.00%, cross entropy 2.281260\n",
            "INFO:absl:Step #289: rate 0.001000, accuracy 0.00%, cross entropy 2.820199\n",
            "INFO:absl:Step #290: rate 0.001000, accuracy 0.00%, cross entropy 2.191086\n",
            "INFO:absl:Step #291: rate 0.001000, accuracy 0.00%, cross entropy 2.639087\n",
            "INFO:absl:Step #292: rate 0.001000, accuracy 0.00%, cross entropy 2.658967\n",
            "INFO:absl:Step #293: rate 0.001000, accuracy 0.00%, cross entropy 2.630732\n",
            "INFO:absl:Step #294: rate 0.001000, accuracy 0.00%, cross entropy 2.701878\n",
            "INFO:absl:Step #295: rate 0.001000, accuracy 0.00%, cross entropy 2.604527\n",
            "INFO:absl:Step #296: rate 0.001000, accuracy 0.00%, cross entropy 2.131277\n",
            "INFO:absl:Step #297: rate 0.001000, accuracy 0.00%, cross entropy 2.233943\n",
            "INFO:absl:Step #298: rate 0.001000, accuracy 0.00%, cross entropy 2.877476\n",
            "INFO:absl:Step #299: rate 0.001000, accuracy 0.00%, cross entropy 2.824327\n",
            "INFO:absl:Step #300: rate 0.001000, accuracy 0.00%, cross entropy 2.245216\n",
            "INFO:absl:Step #301: rate 0.001000, accuracy 0.00%, cross entropy 2.573733\n",
            "INFO:absl:Step #302: rate 0.001000, accuracy 0.00%, cross entropy 2.731944\n",
            "INFO:absl:Step #303: rate 0.001000, accuracy 100.00%, cross entropy 2.155010\n",
            "INFO:absl:Step #304: rate 0.001000, accuracy 0.00%, cross entropy 2.558814\n",
            "INFO:absl:Step #305: rate 0.001000, accuracy 0.00%, cross entropy 2.510630\n",
            "INFO:absl:Step #306: rate 0.001000, accuracy 0.00%, cross entropy 2.541435\n",
            "INFO:absl:Step #307: rate 0.001000, accuracy 0.00%, cross entropy 2.202563\n",
            "INFO:absl:Step #308: rate 0.001000, accuracy 0.00%, cross entropy 2.372242\n",
            "INFO:absl:Step #309: rate 0.001000, accuracy 0.00%, cross entropy 2.516788\n",
            "INFO:absl:Step #310: rate 0.001000, accuracy 0.00%, cross entropy 2.702765\n",
            "INFO:absl:Step #311: rate 0.001000, accuracy 0.00%, cross entropy 2.699525\n",
            "INFO:absl:Step #312: rate 0.001000, accuracy 0.00%, cross entropy 3.156185\n",
            "INFO:absl:Step #313: rate 0.001000, accuracy 0.00%, cross entropy 2.670978\n",
            "INFO:absl:Step #314: rate 0.001000, accuracy 0.00%, cross entropy 2.350512\n",
            "INFO:absl:Step #315: rate 0.001000, accuracy 0.00%, cross entropy 2.534081\n",
            "INFO:absl:Step #316: rate 0.001000, accuracy 0.00%, cross entropy 2.608004\n",
            "INFO:absl:Step #317: rate 0.001000, accuracy 0.00%, cross entropy 3.205394\n",
            "INFO:absl:Step #318: rate 0.001000, accuracy 0.00%, cross entropy 2.485764\n",
            "INFO:absl:Step #319: rate 0.001000, accuracy 0.00%, cross entropy 2.327128\n",
            "INFO:absl:Step #320: rate 0.001000, accuracy 0.00%, cross entropy 2.308360\n",
            "INFO:absl:Step #321: rate 0.001000, accuracy 0.00%, cross entropy 2.547214\n",
            "INFO:absl:Step #322: rate 0.001000, accuracy 0.00%, cross entropy 3.063947\n",
            "INFO:absl:Step #323: rate 0.001000, accuracy 0.00%, cross entropy 2.327047\n",
            "INFO:absl:Step #324: rate 0.001000, accuracy 0.00%, cross entropy 2.548651\n",
            "INFO:absl:Step #325: rate 0.001000, accuracy 0.00%, cross entropy 3.050804\n",
            "INFO:absl:Step #326: rate 0.001000, accuracy 0.00%, cross entropy 2.398777\n",
            "INFO:absl:Step #327: rate 0.001000, accuracy 0.00%, cross entropy 2.274233\n",
            "INFO:absl:Step #328: rate 0.001000, accuracy 0.00%, cross entropy 2.551423\n",
            "INFO:absl:Step #329: rate 0.001000, accuracy 0.00%, cross entropy 2.528144\n",
            "INFO:absl:Step #330: rate 0.001000, accuracy 0.00%, cross entropy 3.023847\n",
            "INFO:absl:Step #331: rate 0.001000, accuracy 0.00%, cross entropy 2.419019\n",
            "INFO:absl:Step #332: rate 0.001000, accuracy 0.00%, cross entropy 2.524509\n",
            "INFO:absl:Step #333: rate 0.001000, accuracy 0.00%, cross entropy 2.703168\n",
            "INFO:absl:Step #334: rate 0.001000, accuracy 0.00%, cross entropy 2.344951\n",
            "INFO:absl:Step #335: rate 0.001000, accuracy 0.00%, cross entropy 2.289389\n",
            "INFO:absl:Step #336: rate 0.001000, accuracy 0.00%, cross entropy 3.010663\n",
            "INFO:absl:Step #337: rate 0.001000, accuracy 0.00%, cross entropy 2.362975\n",
            "INFO:absl:Step #338: rate 0.001000, accuracy 0.00%, cross entropy 2.424541\n",
            "INFO:absl:Step #339: rate 0.001000, accuracy 0.00%, cross entropy 2.441196\n",
            "INFO:absl:Step #340: rate 0.001000, accuracy 0.00%, cross entropy 2.721735\n",
            "INFO:absl:Step #341: rate 0.001000, accuracy 0.00%, cross entropy 2.483194\n",
            "INFO:absl:Step #342: rate 0.001000, accuracy 0.00%, cross entropy 2.663909\n",
            "INFO:absl:Step #343: rate 0.001000, accuracy 0.00%, cross entropy 2.901218\n",
            "INFO:absl:Step #344: rate 0.001000, accuracy 0.00%, cross entropy 2.493220\n",
            "INFO:absl:Step #345: rate 0.001000, accuracy 0.00%, cross entropy 2.954507\n",
            "INFO:absl:Step #346: rate 0.001000, accuracy 0.00%, cross entropy 2.441115\n",
            "INFO:absl:Step #347: rate 0.001000, accuracy 0.00%, cross entropy 2.499319\n",
            "INFO:absl:Step #348: rate 0.001000, accuracy 0.00%, cross entropy 2.823911\n",
            "INFO:absl:Step #349: rate 0.001000, accuracy 0.00%, cross entropy 2.533088\n",
            "INFO:absl:Step #350: rate 0.001000, accuracy 0.00%, cross entropy 2.481994\n",
            "INFO:absl:Step #351: rate 0.001000, accuracy 0.00%, cross entropy 2.427510\n",
            "INFO:absl:Step #352: rate 0.001000, accuracy 0.00%, cross entropy 2.408444\n",
            "INFO:absl:Step #353: rate 0.001000, accuracy 0.00%, cross entropy 2.336010\n",
            "INFO:absl:Step #354: rate 0.001000, accuracy 0.00%, cross entropy 2.430939\n",
            "INFO:absl:Step #355: rate 0.001000, accuracy 100.00%, cross entropy 2.229591\n",
            "INFO:absl:Step #356: rate 0.001000, accuracy 0.00%, cross entropy 2.863364\n",
            "INFO:absl:Step #357: rate 0.001000, accuracy 0.00%, cross entropy 2.330522\n",
            "INFO:absl:Step #358: rate 0.001000, accuracy 0.00%, cross entropy 2.884541\n",
            "INFO:absl:Step #359: rate 0.001000, accuracy 0.00%, cross entropy 2.770027\n",
            "INFO:absl:Step #360: rate 0.001000, accuracy 0.00%, cross entropy 2.261721\n",
            "INFO:absl:Step #361: rate 0.001000, accuracy 0.00%, cross entropy 2.272954\n",
            "INFO:absl:Step #362: rate 0.001000, accuracy 0.00%, cross entropy 2.200751\n",
            "INFO:absl:Step #363: rate 0.001000, accuracy 0.00%, cross entropy 2.743532\n",
            "INFO:absl:Step #364: rate 0.001000, accuracy 0.00%, cross entropy 2.342608\n",
            "INFO:absl:Step #365: rate 0.001000, accuracy 0.00%, cross entropy 2.353387\n",
            "INFO:absl:Step #366: rate 0.001000, accuracy 0.00%, cross entropy 2.725057\n",
            "INFO:absl:Step #367: rate 0.001000, accuracy 0.00%, cross entropy 2.297440\n",
            "INFO:absl:Step #368: rate 0.001000, accuracy 0.00%, cross entropy 2.627521\n",
            "INFO:absl:Step #369: rate 0.001000, accuracy 0.00%, cross entropy 2.740649\n",
            "INFO:absl:Step #370: rate 0.001000, accuracy 0.00%, cross entropy 2.641557\n",
            "INFO:absl:Step #371: rate 0.001000, accuracy 0.00%, cross entropy 2.542859\n",
            "INFO:absl:Step #372: rate 0.001000, accuracy 0.00%, cross entropy 2.953171\n",
            "INFO:absl:Step #373: rate 0.001000, accuracy 100.00%, cross entropy 2.034249\n",
            "INFO:absl:Step #374: rate 0.001000, accuracy 0.00%, cross entropy 3.054269\n",
            "INFO:absl:Step #375: rate 0.001000, accuracy 0.00%, cross entropy 2.442967\n",
            "INFO:absl:Step #376: rate 0.001000, accuracy 100.00%, cross entropy 2.014942\n",
            "INFO:absl:Step #377: rate 0.001000, accuracy 0.00%, cross entropy 2.594695\n",
            "INFO:absl:Step #378: rate 0.001000, accuracy 0.00%, cross entropy 2.934197\n",
            "INFO:absl:Step #379: rate 0.001000, accuracy 100.00%, cross entropy 1.924737\n",
            "INFO:absl:Step #380: rate 0.001000, accuracy 0.00%, cross entropy 2.632375\n",
            "INFO:absl:Step #381: rate 0.001000, accuracy 0.00%, cross entropy 2.143780\n",
            "INFO:absl:Step #382: rate 0.001000, accuracy 0.00%, cross entropy 2.160574\n",
            "INFO:absl:Step #383: rate 0.001000, accuracy 100.00%, cross entropy 1.929317\n",
            "INFO:absl:Step #384: rate 0.001000, accuracy 0.00%, cross entropy 2.924338\n",
            "INFO:absl:Step #385: rate 0.001000, accuracy 0.00%, cross entropy 2.612390\n",
            "INFO:absl:Step #386: rate 0.001000, accuracy 0.00%, cross entropy 2.583246\n",
            "INFO:absl:Step #387: rate 0.001000, accuracy 0.00%, cross entropy 2.585586\n",
            "INFO:absl:Step #388: rate 0.001000, accuracy 0.00%, cross entropy 2.971652\n",
            "INFO:absl:Step #389: rate 0.001000, accuracy 0.00%, cross entropy 3.007452\n",
            "INFO:absl:Step #390: rate 0.001000, accuracy 0.00%, cross entropy 2.040814\n",
            "INFO:absl:Step #391: rate 0.001000, accuracy 0.00%, cross entropy 2.471927\n",
            "INFO:absl:Step #392: rate 0.001000, accuracy 0.00%, cross entropy 2.586869\n",
            "INFO:absl:Step #393: rate 0.001000, accuracy 0.00%, cross entropy 2.572449\n",
            "INFO:absl:Step #394: rate 0.001000, accuracy 0.00%, cross entropy 2.931828\n",
            "INFO:absl:Step #395: rate 0.001000, accuracy 0.00%, cross entropy 2.951273\n",
            "INFO:absl:Step #396: rate 0.001000, accuracy 0.00%, cross entropy 1.982686\n",
            "INFO:absl:Step #397: rate 0.001000, accuracy 0.00%, cross entropy 2.879043\n",
            "INFO:absl:Step #398: rate 0.001000, accuracy 0.00%, cross entropy 2.494738\n",
            "INFO:absl:Step #399: rate 0.001000, accuracy 100.00%, cross entropy 1.954229\n",
            "INFO:absl:Step #400: rate 0.001000, accuracy 0.00%, cross entropy 2.373731\n",
            "/usr/local/lib/python3.7/dist-packages/keras/engine/training_v1.py:2057: UserWarning: `Model.state_updates` will be removed in a future version. This property should not be used in TensorFlow 2.0, as `updates` are applied automatically.\n",
            "  updates = self.state_updates\n",
            "INFO:absl:Step 400: Validation accuracy = 8.19% (N=4445)\n",
            "INFO:absl:So far the best validation accuracy is 8.19%\n",
            "INFO:absl:Step #401: rate 0.000500, accuracy 0.00%, cross entropy 2.647801\n",
            "INFO:absl:Step #402: rate 0.000500, accuracy 0.00%, cross entropy 2.515236\n",
            "INFO:absl:Step #403: rate 0.000500, accuracy 0.00%, cross entropy 2.857850\n",
            "INFO:absl:Step #404: rate 0.000500, accuracy 0.00%, cross entropy 2.402818\n",
            "INFO:absl:Step #405: rate 0.000500, accuracy 0.00%, cross entropy 2.808463\n",
            "INFO:absl:Step #406: rate 0.000500, accuracy 0.00%, cross entropy 2.371037\n",
            "INFO:absl:Step #407: rate 0.000500, accuracy 0.00%, cross entropy 3.132320\n",
            "INFO:absl:Step #408: rate 0.000500, accuracy 0.00%, cross entropy 2.086499\n",
            "INFO:absl:Step #409: rate 0.000500, accuracy 0.00%, cross entropy 2.053869\n",
            "INFO:absl:Step #410: rate 0.000500, accuracy 0.00%, cross entropy 2.273447\n",
            "INFO:absl:Step #411: rate 0.000500, accuracy 0.00%, cross entropy 2.299067\n",
            "INFO:absl:Step #412: rate 0.000500, accuracy 0.00%, cross entropy 3.197070\n",
            "INFO:absl:Step #413: rate 0.000500, accuracy 0.00%, cross entropy 2.816279\n",
            "INFO:absl:Step #414: rate 0.000500, accuracy 0.00%, cross entropy 2.823525\n",
            "INFO:absl:Step #415: rate 0.000500, accuracy 0.00%, cross entropy 2.827575\n",
            "INFO:absl:Step #416: rate 0.000500, accuracy 0.00%, cross entropy 2.380559\n",
            "INFO:absl:Step #417: rate 0.000500, accuracy 0.00%, cross entropy 2.015458\n",
            "INFO:absl:Step #418: rate 0.000500, accuracy 0.00%, cross entropy 2.585344\n",
            "INFO:absl:Step #419: rate 0.000500, accuracy 0.00%, cross entropy 3.064884\n",
            "INFO:absl:Step #420: rate 0.000500, accuracy 0.00%, cross entropy 2.129295\n",
            "INFO:absl:Step #421: rate 0.000500, accuracy 0.00%, cross entropy 2.788623\n",
            "INFO:absl:Step #422: rate 0.000500, accuracy 0.00%, cross entropy 2.153378\n",
            "INFO:absl:Step #423: rate 0.000500, accuracy 0.00%, cross entropy 2.753047\n",
            "INFO:absl:Step #424: rate 0.000500, accuracy 0.00%, cross entropy 2.335218\n",
            "INFO:absl:Step #425: rate 0.000500, accuracy 0.00%, cross entropy 2.637708\n",
            "INFO:absl:Step #426: rate 0.000500, accuracy 0.00%, cross entropy 2.745731\n",
            "INFO:absl:Step #427: rate 0.000500, accuracy 100.00%, cross entropy 2.050190\n",
            "INFO:absl:Step #428: rate 0.000500, accuracy 0.00%, cross entropy 2.615387\n",
            "INFO:absl:Step #429: rate 0.000500, accuracy 0.00%, cross entropy 2.702179\n",
            "INFO:absl:Step #430: rate 0.000500, accuracy 0.00%, cross entropy 2.535389\n",
            "INFO:absl:Step #431: rate 0.000500, accuracy 0.00%, cross entropy 2.627550\n",
            "INFO:absl:Step #432: rate 0.000500, accuracy 0.00%, cross entropy 2.098387\n",
            "INFO:absl:Step #433: rate 0.000500, accuracy 0.00%, cross entropy 2.713215\n",
            "INFO:absl:Step #434: rate 0.000500, accuracy 0.00%, cross entropy 2.081524\n",
            "INFO:absl:Step #435: rate 0.000500, accuracy 0.00%, cross entropy 2.461377\n",
            "INFO:absl:Step #436: rate 0.000500, accuracy 0.00%, cross entropy 2.730977\n",
            "INFO:absl:Step #437: rate 0.000500, accuracy 0.00%, cross entropy 2.751803\n",
            "INFO:absl:Step #438: rate 0.000500, accuracy 0.00%, cross entropy 2.765927\n",
            "INFO:absl:Step #439: rate 0.000500, accuracy 0.00%, cross entropy 2.793150\n",
            "INFO:absl:Step #440: rate 0.000500, accuracy 100.00%, cross entropy 2.082273\n",
            "INFO:absl:Step #441: rate 0.000500, accuracy 0.00%, cross entropy 2.353261\n",
            "INFO:absl:Step #442: rate 0.000500, accuracy 0.00%, cross entropy 2.415651\n",
            "INFO:absl:Step #443: rate 0.000500, accuracy 0.00%, cross entropy 2.994341\n",
            "INFO:absl:Step #444: rate 0.000500, accuracy 0.00%, cross entropy 2.684579\n",
            "INFO:absl:Step #445: rate 0.000500, accuracy 0.00%, cross entropy 2.368588\n",
            "INFO:absl:Step #446: rate 0.000500, accuracy 0.00%, cross entropy 2.682768\n",
            "INFO:absl:Step #447: rate 0.000500, accuracy 0.00%, cross entropy 2.692529\n",
            "INFO:absl:Step #448: rate 0.000500, accuracy 0.00%, cross entropy 2.187914\n",
            "INFO:absl:Step #449: rate 0.000500, accuracy 0.00%, cross entropy 2.263299\n",
            "INFO:absl:Step #450: rate 0.000500, accuracy 0.00%, cross entropy 2.726374\n",
            "INFO:absl:Step #451: rate 0.000500, accuracy 100.00%, cross entropy 2.033485\n",
            "INFO:absl:Step #452: rate 0.000500, accuracy 0.00%, cross entropy 2.291924\n",
            "INFO:absl:Step #453: rate 0.000500, accuracy 0.00%, cross entropy 2.662537\n",
            "INFO:absl:Step #454: rate 0.000500, accuracy 0.00%, cross entropy 2.173066\n",
            "INFO:absl:Step #455: rate 0.000500, accuracy 0.00%, cross entropy 2.228968\n",
            "INFO:absl:Step #456: rate 0.000500, accuracy 0.00%, cross entropy 2.823478\n",
            "INFO:absl:Step #457: rate 0.000500, accuracy 100.00%, cross entropy 2.046704\n",
            "INFO:absl:Step #458: rate 0.000500, accuracy 0.00%, cross entropy 2.669321\n",
            "INFO:absl:Step #459: rate 0.000500, accuracy 0.00%, cross entropy 2.264802\n",
            "INFO:absl:Step #460: rate 0.000500, accuracy 0.00%, cross entropy 2.744195\n",
            "INFO:absl:Step #461: rate 0.000500, accuracy 0.00%, cross entropy 2.666352\n",
            "INFO:absl:Step #462: rate 0.000500, accuracy 0.00%, cross entropy 2.723066\n",
            "INFO:absl:Step #463: rate 0.000500, accuracy 0.00%, cross entropy 2.556580\n",
            "INFO:absl:Step #464: rate 0.000500, accuracy 0.00%, cross entropy 2.464322\n",
            "INFO:absl:Step #465: rate 0.000500, accuracy 0.00%, cross entropy 2.595084\n",
            "INFO:absl:Step #466: rate 0.000500, accuracy 0.00%, cross entropy 2.196221\n",
            "INFO:absl:Step #467: rate 0.000500, accuracy 0.00%, cross entropy 2.597932\n",
            "INFO:absl:Step #468: rate 0.000500, accuracy 0.00%, cross entropy 2.214189\n",
            "INFO:absl:Step #469: rate 0.000500, accuracy 0.00%, cross entropy 2.991204\n",
            "INFO:absl:Step #470: rate 0.000500, accuracy 0.00%, cross entropy 2.132131\n",
            "INFO:absl:Step #471: rate 0.000500, accuracy 0.00%, cross entropy 2.180842\n",
            "INFO:absl:Step #472: rate 0.000500, accuracy 0.00%, cross entropy 2.535432\n",
            "INFO:absl:Step #473: rate 0.000500, accuracy 0.00%, cross entropy 2.175227\n",
            "INFO:absl:Step #474: rate 0.000500, accuracy 0.00%, cross entropy 2.590306\n",
            "INFO:absl:Step #475: rate 0.000500, accuracy 0.00%, cross entropy 3.048923\n",
            "INFO:absl:Step #476: rate 0.000500, accuracy 0.00%, cross entropy 2.770403\n",
            "INFO:absl:Step #477: rate 0.000500, accuracy 0.00%, cross entropy 2.836620\n",
            "INFO:absl:Step #478: rate 0.000500, accuracy 0.00%, cross entropy 2.748311\n",
            "INFO:absl:Step #479: rate 0.000500, accuracy 100.00%, cross entropy 2.060458\n",
            "INFO:absl:Step #480: rate 0.000500, accuracy 100.00%, cross entropy 2.025740\n",
            "INFO:absl:Step #481: rate 0.000500, accuracy 0.00%, cross entropy 2.400986\n",
            "INFO:absl:Step #482: rate 0.000500, accuracy 0.00%, cross entropy 2.786083\n",
            "INFO:absl:Step #483: rate 0.000500, accuracy 0.00%, cross entropy 2.710631\n",
            "INFO:absl:Step #484: rate 0.000500, accuracy 0.00%, cross entropy 2.482352\n",
            "INFO:absl:Step #485: rate 0.000500, accuracy 0.00%, cross entropy 2.929429\n",
            "INFO:absl:Step #486: rate 0.000500, accuracy 0.00%, cross entropy 2.478672\n",
            "INFO:absl:Step #487: rate 0.000500, accuracy 0.00%, cross entropy 2.962959\n",
            "INFO:absl:Step #488: rate 0.000500, accuracy 0.00%, cross entropy 2.466033\n",
            "INFO:absl:Step #489: rate 0.000500, accuracy 0.00%, cross entropy 2.615263\n",
            "INFO:absl:Step #490: rate 0.000500, accuracy 0.00%, cross entropy 2.510047\n",
            "INFO:absl:Step #491: rate 0.000500, accuracy 0.00%, cross entropy 2.888412\n",
            "INFO:absl:Step #492: rate 0.000500, accuracy 0.00%, cross entropy 2.508699\n",
            "INFO:absl:Step #493: rate 0.000500, accuracy 0.00%, cross entropy 2.320990\n",
            "INFO:absl:Step #494: rate 0.000500, accuracy 0.00%, cross entropy 2.475848\n",
            "INFO:absl:Step #495: rate 0.000500, accuracy 0.00%, cross entropy 2.433710\n",
            "INFO:absl:Step #496: rate 0.000500, accuracy 0.00%, cross entropy 2.463672\n",
            "INFO:absl:Step #497: rate 0.000500, accuracy 0.00%, cross entropy 2.811308\n",
            "INFO:absl:Step #498: rate 0.000500, accuracy 0.00%, cross entropy 2.450592\n",
            "INFO:absl:Step #499: rate 0.000500, accuracy 0.00%, cross entropy 2.736673\n",
            "INFO:absl:Step #500: rate 0.000500, accuracy 0.00%, cross entropy 2.476301\n",
            "INFO:absl:Step #501: rate 0.000500, accuracy 100.00%, cross entropy 2.017542\n",
            "INFO:absl:Step #502: rate 0.000500, accuracy 100.00%, cross entropy 2.044692\n",
            "INFO:absl:Step #503: rate 0.000500, accuracy 0.00%, cross entropy 2.385738\n",
            "INFO:absl:Step #504: rate 0.000500, accuracy 0.00%, cross entropy 2.794692\n",
            "INFO:absl:Step #505: rate 0.000500, accuracy 0.00%, cross entropy 2.760124\n",
            "INFO:absl:Step #506: rate 0.000500, accuracy 0.00%, cross entropy 2.728698\n",
            "INFO:absl:Step #507: rate 0.000500, accuracy 0.00%, cross entropy 2.394546\n",
            "INFO:absl:Step #508: rate 0.000500, accuracy 0.00%, cross entropy 2.699126\n",
            "INFO:absl:Step #509: rate 0.000500, accuracy 0.00%, cross entropy 2.339848\n",
            "INFO:absl:Step #510: rate 0.000500, accuracy 0.00%, cross entropy 2.787155\n",
            "INFO:absl:Step #511: rate 0.000500, accuracy 0.00%, cross entropy 2.765043\n",
            "INFO:absl:Step #512: rate 0.000500, accuracy 0.00%, cross entropy 2.370536\n",
            "INFO:absl:Step #513: rate 0.000500, accuracy 0.00%, cross entropy 2.444574\n",
            "INFO:absl:Step #514: rate 0.000500, accuracy 0.00%, cross entropy 2.220568\n",
            "INFO:absl:Step #515: rate 0.000500, accuracy 0.00%, cross entropy 2.785184\n",
            "INFO:absl:Step #516: rate 0.000500, accuracy 0.00%, cross entropy 2.728695\n",
            "INFO:absl:Step #517: rate 0.000500, accuracy 0.00%, cross entropy 2.661982\n",
            "INFO:absl:Step #518: rate 0.000500, accuracy 0.00%, cross entropy 2.384603\n",
            "INFO:absl:Step #519: rate 0.000500, accuracy 0.00%, cross entropy 2.841929\n",
            "INFO:absl:Step #520: rate 0.000500, accuracy 0.00%, cross entropy 2.617464\n",
            "INFO:absl:Step #521: rate 0.000500, accuracy 0.00%, cross entropy 2.135722\n",
            "INFO:absl:Step #522: rate 0.000500, accuracy 100.00%, cross entropy 2.058784\n",
            "INFO:absl:Step #523: rate 0.000500, accuracy 0.00%, cross entropy 2.722281\n",
            "INFO:absl:Step #524: rate 0.000500, accuracy 0.00%, cross entropy 2.488374\n",
            "INFO:absl:Step #525: rate 0.000500, accuracy 0.00%, cross entropy 2.759502\n",
            "INFO:absl:Step #526: rate 0.000500, accuracy 0.00%, cross entropy 2.491701\n",
            "INFO:absl:Step #527: rate 0.000500, accuracy 0.00%, cross entropy 2.701676\n",
            "INFO:absl:Step #528: rate 0.000500, accuracy 0.00%, cross entropy 2.139642\n",
            "INFO:absl:Step #529: rate 0.000500, accuracy 100.00%, cross entropy 2.164463\n",
            "INFO:absl:Step #530: rate 0.000500, accuracy 0.00%, cross entropy 2.512621\n",
            "INFO:absl:Step #531: rate 0.000500, accuracy 0.00%, cross entropy 2.617258\n",
            "INFO:absl:Step #532: rate 0.000500, accuracy 0.00%, cross entropy 2.732618\n",
            "INFO:absl:Step #533: rate 0.000500, accuracy 0.00%, cross entropy 2.668586\n",
            "INFO:absl:Step #534: rate 0.000500, accuracy 0.00%, cross entropy 2.657855\n",
            "INFO:absl:Step #535: rate 0.000500, accuracy 0.00%, cross entropy 2.552379\n",
            "INFO:absl:Step #536: rate 0.000500, accuracy 0.00%, cross entropy 2.599296\n",
            "INFO:absl:Step #537: rate 0.000500, accuracy 0.00%, cross entropy 2.715677\n",
            "INFO:absl:Step #538: rate 0.000500, accuracy 0.00%, cross entropy 2.799677\n",
            "INFO:absl:Step #539: rate 0.000500, accuracy 0.00%, cross entropy 2.187050\n",
            "INFO:absl:Step #540: rate 0.000500, accuracy 0.00%, cross entropy 2.403103\n",
            "INFO:absl:Step #541: rate 0.000500, accuracy 0.00%, cross entropy 2.508733\n",
            "INFO:absl:Step #542: rate 0.000500, accuracy 0.00%, cross entropy 2.449196\n",
            "INFO:absl:Step #543: rate 0.000500, accuracy 0.00%, cross entropy 2.483214\n",
            "INFO:absl:Step #544: rate 0.000500, accuracy 0.00%, cross entropy 2.488473\n",
            "INFO:absl:Step #545: rate 0.000500, accuracy 0.00%, cross entropy 2.483679\n",
            "INFO:absl:Step #546: rate 0.000500, accuracy 0.00%, cross entropy 2.467116\n",
            "INFO:absl:Step #547: rate 0.000500, accuracy 100.00%, cross entropy 2.090014\n",
            "INFO:absl:Step #548: rate 0.000500, accuracy 0.00%, cross entropy 2.802028\n",
            "INFO:absl:Step #549: rate 0.000500, accuracy 0.00%, cross entropy 2.384862\n",
            "INFO:absl:Step #550: rate 0.000500, accuracy 0.00%, cross entropy 2.398445\n",
            "INFO:absl:Step #551: rate 0.000500, accuracy 0.00%, cross entropy 2.322428\n",
            "INFO:absl:Step #552: rate 0.000500, accuracy 0.00%, cross entropy 2.722458\n",
            "INFO:absl:Step #553: rate 0.000500, accuracy 100.00%, cross entropy 2.104059\n",
            "INFO:absl:Step #554: rate 0.000500, accuracy 0.00%, cross entropy 2.619038\n",
            "INFO:absl:Step #555: rate 0.000500, accuracy 0.00%, cross entropy 2.468110\n",
            "INFO:absl:Step #556: rate 0.000500, accuracy 0.00%, cross entropy 2.235148\n",
            "INFO:absl:Step #557: rate 0.000500, accuracy 0.00%, cross entropy 2.266581\n",
            "INFO:absl:Step #558: rate 0.000500, accuracy 0.00%, cross entropy 2.461103\n",
            "INFO:absl:Step #559: rate 0.000500, accuracy 0.00%, cross entropy 2.635042\n",
            "INFO:absl:Step #560: rate 0.000500, accuracy 0.00%, cross entropy 2.597328\n",
            "INFO:absl:Step #561: rate 0.000500, accuracy 0.00%, cross entropy 2.799663\n",
            "INFO:absl:Step #562: rate 0.000500, accuracy 0.00%, cross entropy 2.784560\n",
            "INFO:absl:Step #563: rate 0.000500, accuracy 0.00%, cross entropy 2.520313\n",
            "INFO:absl:Step #564: rate 0.000500, accuracy 0.00%, cross entropy 2.263203\n",
            "INFO:absl:Step #565: rate 0.000500, accuracy 0.00%, cross entropy 2.586632\n",
            "INFO:absl:Step #566: rate 0.000500, accuracy 100.00%, cross entropy 2.075397\n",
            "INFO:absl:Step #567: rate 0.000500, accuracy 100.00%, cross entropy 2.099172\n",
            "INFO:absl:Step #568: rate 0.000500, accuracy 0.00%, cross entropy 2.742256\n",
            "INFO:absl:Step #569: rate 0.000500, accuracy 0.00%, cross entropy 2.565515\n",
            "INFO:absl:Step #570: rate 0.000500, accuracy 0.00%, cross entropy 2.404985\n",
            "INFO:absl:Step #571: rate 0.000500, accuracy 0.00%, cross entropy 2.552892\n",
            "INFO:absl:Step #572: rate 0.000500, accuracy 0.00%, cross entropy 2.883055\n",
            "INFO:absl:Step #573: rate 0.000500, accuracy 0.00%, cross entropy 2.670346\n",
            "INFO:absl:Step #574: rate 0.000500, accuracy 100.00%, cross entropy 2.113277\n",
            "INFO:absl:Step #575: rate 0.000500, accuracy 0.00%, cross entropy 2.597468\n",
            "INFO:absl:Step #576: rate 0.000500, accuracy 0.00%, cross entropy 2.444733\n",
            "INFO:absl:Step #577: rate 0.000500, accuracy 0.00%, cross entropy 2.591996\n",
            "INFO:absl:Step #578: rate 0.000500, accuracy 0.00%, cross entropy 2.768639\n",
            "INFO:absl:Step #579: rate 0.000500, accuracy 0.00%, cross entropy 2.482972\n",
            "INFO:absl:Step #580: rate 0.000500, accuracy 0.00%, cross entropy 2.776819\n",
            "INFO:absl:Step #581: rate 0.000500, accuracy 0.00%, cross entropy 2.392586\n",
            "INFO:absl:Step #582: rate 0.000500, accuracy 0.00%, cross entropy 2.351610\n",
            "INFO:absl:Step #583: rate 0.000500, accuracy 0.00%, cross entropy 2.520153\n",
            "INFO:absl:Step #584: rate 0.000500, accuracy 0.00%, cross entropy 2.632597\n",
            "INFO:absl:Step #585: rate 0.000500, accuracy 0.00%, cross entropy 2.654070\n",
            "INFO:absl:Step #586: rate 0.000500, accuracy 0.00%, cross entropy 2.464810\n",
            "INFO:absl:Step #587: rate 0.000500, accuracy 0.00%, cross entropy 2.341424\n",
            "INFO:absl:Step #588: rate 0.000500, accuracy 0.00%, cross entropy 2.465179\n",
            "INFO:absl:Step #589: rate 0.000500, accuracy 100.00%, cross entropy 2.005794\n",
            "INFO:absl:Step #590: rate 0.000500, accuracy 0.00%, cross entropy 2.512043\n",
            "INFO:absl:Step #591: rate 0.000500, accuracy 0.00%, cross entropy 2.800829\n",
            "INFO:absl:Step #592: rate 0.000500, accuracy 0.00%, cross entropy 2.632783\n",
            "INFO:absl:Step #593: rate 0.000500, accuracy 0.00%, cross entropy 2.669485\n",
            "INFO:absl:Step #594: rate 0.000500, accuracy 0.00%, cross entropy 2.510052\n",
            "INFO:absl:Step #595: rate 0.000500, accuracy 0.00%, cross entropy 2.733470\n",
            "INFO:absl:Step #596: rate 0.000500, accuracy 0.00%, cross entropy 2.498202\n",
            "INFO:absl:Step #597: rate 0.000500, accuracy 0.00%, cross entropy 2.679112\n",
            "INFO:absl:Step #598: rate 0.000500, accuracy 0.00%, cross entropy 2.514207\n",
            "INFO:absl:Step #599: rate 0.000500, accuracy 0.00%, cross entropy 2.386843\n",
            "INFO:absl:Step #600: rate 0.000500, accuracy 0.00%, cross entropy 2.438069\n",
            "INFO:absl:Step #601: rate 0.000500, accuracy 0.00%, cross entropy 2.642666\n",
            "INFO:absl:Step #602: rate 0.000500, accuracy 0.00%, cross entropy 2.298389\n",
            "INFO:absl:Step #603: rate 0.000500, accuracy 0.00%, cross entropy 2.455571\n",
            "INFO:absl:Step #604: rate 0.000500, accuracy 0.00%, cross entropy 2.634749\n",
            "INFO:absl:Step #605: rate 0.000500, accuracy 0.00%, cross entropy 2.449245\n",
            "INFO:absl:Step #606: rate 0.000500, accuracy 0.00%, cross entropy 2.413923\n",
            "INFO:absl:Step #607: rate 0.000500, accuracy 0.00%, cross entropy 2.389971\n",
            "INFO:absl:Step #608: rate 0.000500, accuracy 0.00%, cross entropy 2.734621\n",
            "INFO:absl:Step #609: rate 0.000500, accuracy 0.00%, cross entropy 2.450072\n",
            "INFO:absl:Step #610: rate 0.000500, accuracy 0.00%, cross entropy 2.747669\n",
            "INFO:absl:Step #611: rate 0.000500, accuracy 0.00%, cross entropy 2.390080\n",
            "INFO:absl:Step #612: rate 0.000500, accuracy 0.00%, cross entropy 2.514217\n",
            "INFO:absl:Step #613: rate 0.000500, accuracy 0.00%, cross entropy 2.522348\n",
            "INFO:absl:Step #614: rate 0.000500, accuracy 0.00%, cross entropy 2.532850\n",
            "INFO:absl:Step #615: rate 0.000500, accuracy 0.00%, cross entropy 2.383487\n",
            "INFO:absl:Step #616: rate 0.000500, accuracy 0.00%, cross entropy 2.595154\n",
            "INFO:absl:Step #617: rate 0.000500, accuracy 0.00%, cross entropy 2.709183\n",
            "INFO:absl:Step #618: rate 0.000500, accuracy 100.00%, cross entropy 2.220596\n",
            "INFO:absl:Step #619: rate 0.000500, accuracy 0.00%, cross entropy 2.321782\n",
            "INFO:absl:Step #620: rate 0.000500, accuracy 100.00%, cross entropy 2.198833\n",
            "INFO:absl:Step #621: rate 0.000500, accuracy 0.00%, cross entropy 2.644531\n",
            "INFO:absl:Step #622: rate 0.000500, accuracy 0.00%, cross entropy 2.683878\n",
            "INFO:absl:Step #623: rate 0.000500, accuracy 0.00%, cross entropy 2.457068\n",
            "INFO:absl:Step #624: rate 0.000500, accuracy 0.00%, cross entropy 2.451137\n",
            "INFO:absl:Step #625: rate 0.000500, accuracy 0.00%, cross entropy 2.438578\n",
            "INFO:absl:Step #626: rate 0.000500, accuracy 0.00%, cross entropy 2.374139\n",
            "INFO:absl:Step #627: rate 0.000500, accuracy 0.00%, cross entropy 2.637344\n",
            "INFO:absl:Step #628: rate 0.000500, accuracy 0.00%, cross entropy 2.463269\n",
            "INFO:absl:Step #629: rate 0.000500, accuracy 0.00%, cross entropy 2.783727\n",
            "INFO:absl:Step #630: rate 0.000500, accuracy 0.00%, cross entropy 2.981025\n",
            "INFO:absl:Step #631: rate 0.000500, accuracy 0.00%, cross entropy 2.298557\n",
            "INFO:absl:Step #632: rate 0.000500, accuracy 0.00%, cross entropy 2.526893\n",
            "INFO:absl:Step #633: rate 0.000500, accuracy 0.00%, cross entropy 2.283333\n",
            "INFO:absl:Step #634: rate 0.000500, accuracy 0.00%, cross entropy 2.243320\n",
            "INFO:absl:Step #635: rate 0.000500, accuracy 0.00%, cross entropy 2.284022\n",
            "INFO:absl:Step #636: rate 0.000500, accuracy 0.00%, cross entropy 2.608198\n",
            "INFO:absl:Step #637: rate 0.000500, accuracy 0.00%, cross entropy 2.441076\n",
            "INFO:absl:Step #638: rate 0.000500, accuracy 0.00%, cross entropy 2.659938\n",
            "INFO:absl:Step #639: rate 0.000500, accuracy 0.00%, cross entropy 2.394864\n",
            "INFO:absl:Step #640: rate 0.000500, accuracy 0.00%, cross entropy 2.233151\n",
            "INFO:absl:Step #641: rate 0.000500, accuracy 0.00%, cross entropy 2.590064\n",
            "INFO:absl:Step #642: rate 0.000500, accuracy 0.00%, cross entropy 2.567448\n",
            "INFO:absl:Step #643: rate 0.000500, accuracy 0.00%, cross entropy 2.559764\n",
            "INFO:absl:Step #644: rate 0.000500, accuracy 0.00%, cross entropy 2.595731\n",
            "INFO:absl:Step #645: rate 0.000500, accuracy 0.00%, cross entropy 2.267580\n",
            "INFO:absl:Step #646: rate 0.000500, accuracy 0.00%, cross entropy 2.946394\n",
            "INFO:absl:Step #647: rate 0.000500, accuracy 0.00%, cross entropy 2.830254\n",
            "INFO:absl:Step #648: rate 0.000500, accuracy 0.00%, cross entropy 2.937485\n",
            "INFO:absl:Step #649: rate 0.000500, accuracy 0.00%, cross entropy 2.342044\n",
            "INFO:absl:Step #650: rate 0.000500, accuracy 0.00%, cross entropy 2.239058\n",
            "INFO:absl:Step #651: rate 0.000500, accuracy 0.00%, cross entropy 2.497101\n",
            "INFO:absl:Step #652: rate 0.000500, accuracy 0.00%, cross entropy 2.459286\n",
            "INFO:absl:Step #653: rate 0.000500, accuracy 0.00%, cross entropy 2.885171\n",
            "INFO:absl:Step #654: rate 0.000500, accuracy 0.00%, cross entropy 2.465940\n",
            "INFO:absl:Step #655: rate 0.000500, accuracy 0.00%, cross entropy 2.764590\n",
            "INFO:absl:Step #656: rate 0.000500, accuracy 0.00%, cross entropy 2.511314\n",
            "INFO:absl:Step #657: rate 0.000500, accuracy 0.00%, cross entropy 2.262767\n",
            "INFO:absl:Step #658: rate 0.000500, accuracy 0.00%, cross entropy 2.437089\n",
            "INFO:absl:Step #659: rate 0.000500, accuracy 0.00%, cross entropy 2.396026\n",
            "INFO:absl:Step #660: rate 0.000500, accuracy 0.00%, cross entropy 2.528675\n",
            "INFO:absl:Step #661: rate 0.000500, accuracy 0.00%, cross entropy 2.733579\n",
            "INFO:absl:Step #662: rate 0.000500, accuracy 0.00%, cross entropy 2.500917\n",
            "INFO:absl:Step #663: rate 0.000500, accuracy 0.00%, cross entropy 2.399295\n",
            "INFO:absl:Step #664: rate 0.000500, accuracy 100.00%, cross entropy 2.203799\n",
            "INFO:absl:Step #665: rate 0.000500, accuracy 0.00%, cross entropy 2.649383\n",
            "INFO:absl:Step #666: rate 0.000500, accuracy 0.00%, cross entropy 2.438203\n",
            "INFO:absl:Step #667: rate 0.000500, accuracy 0.00%, cross entropy 2.624287\n",
            "INFO:absl:Step #668: rate 0.000500, accuracy 0.00%, cross entropy 2.490074\n",
            "INFO:absl:Step #669: rate 0.000500, accuracy 0.00%, cross entropy 2.474905\n",
            "INFO:absl:Step #670: rate 0.000500, accuracy 0.00%, cross entropy 2.458063\n",
            "INFO:absl:Step #671: rate 0.000500, accuracy 0.00%, cross entropy 2.662978\n",
            "INFO:absl:Step #672: rate 0.000500, accuracy 0.00%, cross entropy 2.482944\n",
            "INFO:absl:Step #673: rate 0.000500, accuracy 100.00%, cross entropy 2.197076\n",
            "INFO:absl:Step #674: rate 0.000500, accuracy 0.00%, cross entropy 2.716444\n",
            "INFO:absl:Step #675: rate 0.000500, accuracy 0.00%, cross entropy 2.510010\n",
            "INFO:absl:Step #676: rate 0.000500, accuracy 0.00%, cross entropy 2.578760\n",
            "INFO:absl:Step #677: rate 0.000500, accuracy 0.00%, cross entropy 2.363918\n",
            "INFO:absl:Step #678: rate 0.000500, accuracy 0.00%, cross entropy 2.426368\n",
            "INFO:absl:Step #679: rate 0.000500, accuracy 0.00%, cross entropy 2.597478\n",
            "INFO:absl:Step #680: rate 0.000500, accuracy 0.00%, cross entropy 2.368814\n",
            "INFO:absl:Step #681: rate 0.000500, accuracy 0.00%, cross entropy 2.343497\n",
            "INFO:absl:Step #682: rate 0.000500, accuracy 0.00%, cross entropy 2.651699\n",
            "INFO:absl:Step #683: rate 0.000500, accuracy 0.00%, cross entropy 2.760166\n",
            "INFO:absl:Step #684: rate 0.000500, accuracy 0.00%, cross entropy 2.730961\n",
            "INFO:absl:Step #685: rate 0.000500, accuracy 0.00%, cross entropy 2.342121\n",
            "INFO:absl:Step #686: rate 0.000500, accuracy 0.00%, cross entropy 2.372502\n",
            "INFO:absl:Step #687: rate 0.000500, accuracy 0.00%, cross entropy 2.719451\n",
            "INFO:absl:Step #688: rate 0.000500, accuracy 0.00%, cross entropy 2.671736\n",
            "INFO:absl:Step #689: rate 0.000500, accuracy 100.00%, cross entropy 2.242494\n",
            "INFO:absl:Step #690: rate 0.000500, accuracy 0.00%, cross entropy 2.279202\n",
            "INFO:absl:Step #691: rate 0.000500, accuracy 0.00%, cross entropy 2.385988\n",
            "INFO:absl:Step #692: rate 0.000500, accuracy 0.00%, cross entropy 2.617276\n",
            "INFO:absl:Step #693: rate 0.000500, accuracy 0.00%, cross entropy 2.676671\n",
            "INFO:absl:Step #694: rate 0.000500, accuracy 0.00%, cross entropy 2.520518\n",
            "INFO:absl:Step #695: rate 0.000500, accuracy 100.00%, cross entropy 2.250360\n",
            "INFO:absl:Step #696: rate 0.000500, accuracy 0.00%, cross entropy 2.504036\n",
            "INFO:absl:Step #697: rate 0.000500, accuracy 0.00%, cross entropy 2.504422\n",
            "INFO:absl:Step #698: rate 0.000500, accuracy 0.00%, cross entropy 2.638704\n",
            "INFO:absl:Step #699: rate 0.000500, accuracy 0.00%, cross entropy 2.502655\n",
            "INFO:absl:Step #700: rate 0.000500, accuracy 0.00%, cross entropy 2.902027\n",
            "INFO:absl:Step #701: rate 0.000500, accuracy 0.00%, cross entropy 2.408633\n",
            "INFO:absl:Step #702: rate 0.000500, accuracy 100.00%, cross entropy 2.262905\n",
            "INFO:absl:Step #703: rate 0.000500, accuracy 100.00%, cross entropy 2.191167\n",
            "INFO:absl:Step #704: rate 0.000500, accuracy 0.00%, cross entropy 2.520062\n",
            "INFO:absl:Step #705: rate 0.000500, accuracy 0.00%, cross entropy 2.581812\n",
            "INFO:absl:Step #706: rate 0.000500, accuracy 0.00%, cross entropy 2.667768\n",
            "INFO:absl:Step #707: rate 0.000500, accuracy 0.00%, cross entropy 2.675802\n",
            "INFO:absl:Step #708: rate 0.000500, accuracy 0.00%, cross entropy 2.492203\n",
            "INFO:absl:Step #709: rate 0.000500, accuracy 0.00%, cross entropy 2.890764\n",
            "INFO:absl:Step #710: rate 0.000500, accuracy 100.00%, cross entropy 2.133098\n",
            "INFO:absl:Step #711: rate 0.000500, accuracy 0.00%, cross entropy 2.534905\n",
            "INFO:absl:Step #712: rate 0.000500, accuracy 0.00%, cross entropy 2.371271\n",
            "INFO:absl:Step #713: rate 0.000500, accuracy 0.00%, cross entropy 2.539418\n",
            "INFO:absl:Step #714: rate 0.000500, accuracy 100.00%, cross entropy 2.103292\n",
            "INFO:absl:Step #715: rate 0.000500, accuracy 0.00%, cross entropy 2.494819\n",
            "INFO:absl:Step #716: rate 0.000500, accuracy 0.00%, cross entropy 2.839233\n",
            "INFO:absl:Step #717: rate 0.000500, accuracy 0.00%, cross entropy 2.448964\n",
            "INFO:absl:Step #718: rate 0.000500, accuracy 0.00%, cross entropy 2.472909\n",
            "INFO:absl:Step #719: rate 0.000500, accuracy 0.00%, cross entropy 2.576864\n",
            "INFO:absl:Step #720: rate 0.000500, accuracy 0.00%, cross entropy 2.487124\n",
            "INFO:absl:Step #721: rate 0.000500, accuracy 0.00%, cross entropy 2.397022\n",
            "INFO:absl:Step #722: rate 0.000500, accuracy 0.00%, cross entropy 2.405333\n",
            "INFO:absl:Step #723: rate 0.000500, accuracy 0.00%, cross entropy 2.474939\n",
            "INFO:absl:Step #724: rate 0.000500, accuracy 0.00%, cross entropy 2.466207\n",
            "INFO:absl:Step #725: rate 0.000500, accuracy 0.00%, cross entropy 2.482256\n",
            "INFO:absl:Step #726: rate 0.000500, accuracy 0.00%, cross entropy 2.477245\n",
            "INFO:absl:Step #727: rate 0.000500, accuracy 0.00%, cross entropy 2.508948\n",
            "INFO:absl:Step #728: rate 0.000500, accuracy 0.00%, cross entropy 2.859879\n",
            "INFO:absl:Step #729: rate 0.000500, accuracy 0.00%, cross entropy 2.234838\n",
            "INFO:absl:Step #730: rate 0.000500, accuracy 0.00%, cross entropy 2.253303\n",
            "INFO:absl:Step #731: rate 0.000500, accuracy 0.00%, cross entropy 2.766011\n",
            "INFO:absl:Step #732: rate 0.000500, accuracy 0.00%, cross entropy 2.462574\n",
            "INFO:absl:Step #733: rate 0.000500, accuracy 0.00%, cross entropy 2.405806\n",
            "INFO:absl:Step #734: rate 0.000500, accuracy 100.00%, cross entropy 2.168690\n",
            "INFO:absl:Step #735: rate 0.000500, accuracy 0.00%, cross entropy 2.200633\n",
            "INFO:absl:Step #736: rate 0.000500, accuracy 0.00%, cross entropy 2.542337\n",
            "INFO:absl:Step #737: rate 0.000500, accuracy 0.00%, cross entropy 2.447865\n",
            "INFO:absl:Step #738: rate 0.000500, accuracy 100.00%, cross entropy 2.139034\n",
            "INFO:absl:Step #739: rate 0.000500, accuracy 0.00%, cross entropy 2.377239\n",
            "INFO:absl:Step #740: rate 0.000500, accuracy 0.00%, cross entropy 2.718956\n",
            "INFO:absl:Step #741: rate 0.000500, accuracy 0.00%, cross entropy 2.691582\n",
            "INFO:absl:Step #742: rate 0.000500, accuracy 0.00%, cross entropy 2.828142\n",
            "INFO:absl:Step #743: rate 0.000500, accuracy 0.00%, cross entropy 2.488878\n",
            "INFO:absl:Step #744: rate 0.000500, accuracy 0.00%, cross entropy 2.526748\n",
            "INFO:absl:Step #745: rate 0.000500, accuracy 0.00%, cross entropy 2.842482\n",
            "INFO:absl:Step #746: rate 0.000500, accuracy 0.00%, cross entropy 2.460602\n",
            "INFO:absl:Step #747: rate 0.000500, accuracy 0.00%, cross entropy 2.766264\n",
            "INFO:absl:Step #748: rate 0.000500, accuracy 0.00%, cross entropy 2.571358\n",
            "INFO:absl:Step #749: rate 0.000500, accuracy 0.00%, cross entropy 2.739469\n",
            "INFO:absl:Step #750: rate 0.000500, accuracy 0.00%, cross entropy 2.774879\n",
            "INFO:absl:Step #751: rate 0.000500, accuracy 0.00%, cross entropy 2.516339\n",
            "INFO:absl:Step #752: rate 0.000500, accuracy 0.00%, cross entropy 2.827423\n",
            "INFO:absl:Step #753: rate 0.000500, accuracy 0.00%, cross entropy 2.505148\n",
            "INFO:absl:Step #754: rate 0.000500, accuracy 0.00%, cross entropy 2.589880\n",
            "INFO:absl:Step #755: rate 0.000500, accuracy 0.00%, cross entropy 2.703681\n",
            "INFO:absl:Step #756: rate 0.000500, accuracy 0.00%, cross entropy 2.201270\n",
            "INFO:absl:Step #757: rate 0.000500, accuracy 0.00%, cross entropy 2.402032\n",
            "INFO:absl:Step #758: rate 0.000500, accuracy 0.00%, cross entropy 2.536685\n",
            "INFO:absl:Step #759: rate 0.000500, accuracy 0.00%, cross entropy 2.717485\n",
            "INFO:absl:Step #760: rate 0.000500, accuracy 0.00%, cross entropy 2.375431\n",
            "INFO:absl:Step #761: rate 0.000500, accuracy 0.00%, cross entropy 2.475745\n",
            "INFO:absl:Step #762: rate 0.000500, accuracy 0.00%, cross entropy 2.451665\n",
            "INFO:absl:Step #763: rate 0.000500, accuracy 0.00%, cross entropy 2.595428\n",
            "INFO:absl:Step #764: rate 0.000500, accuracy 0.00%, cross entropy 2.452991\n",
            "INFO:absl:Step #765: rate 0.000500, accuracy 0.00%, cross entropy 2.725941\n",
            "INFO:absl:Step #766: rate 0.000500, accuracy 0.00%, cross entropy 2.287281\n",
            "INFO:absl:Step #767: rate 0.000500, accuracy 0.00%, cross entropy 2.729341\n",
            "INFO:absl:Step #768: rate 0.000500, accuracy 100.00%, cross entropy 2.249279\n",
            "INFO:absl:Step #769: rate 0.000500, accuracy 0.00%, cross entropy 2.671441\n",
            "INFO:absl:Step #770: rate 0.000500, accuracy 0.00%, cross entropy 2.603293\n",
            "INFO:absl:Step #771: rate 0.000500, accuracy 0.00%, cross entropy 2.881727\n",
            "INFO:absl:Step #772: rate 0.000500, accuracy 0.00%, cross entropy 2.529232\n",
            "INFO:absl:Step #773: rate 0.000500, accuracy 0.00%, cross entropy 2.543209\n",
            "INFO:absl:Step #774: rate 0.000500, accuracy 0.00%, cross entropy 2.623744\n",
            "INFO:absl:Step #775: rate 0.000500, accuracy 0.00%, cross entropy 2.605497\n",
            "INFO:absl:Step #776: rate 0.000500, accuracy 0.00%, cross entropy 2.537016\n",
            "INFO:absl:Step #777: rate 0.000500, accuracy 0.00%, cross entropy 2.816673\n",
            "INFO:absl:Step #778: rate 0.000500, accuracy 0.00%, cross entropy 2.560759\n",
            "INFO:absl:Step #779: rate 0.000500, accuracy 0.00%, cross entropy 2.462376\n",
            "INFO:absl:Step #780: rate 0.000500, accuracy 0.00%, cross entropy 2.854147\n",
            "INFO:absl:Step #781: rate 0.000500, accuracy 0.00%, cross entropy 2.503027\n",
            "INFO:absl:Step #782: rate 0.000500, accuracy 0.00%, cross entropy 2.488163\n",
            "INFO:absl:Step #783: rate 0.000500, accuracy 0.00%, cross entropy 2.837584\n",
            "INFO:absl:Step #784: rate 0.000500, accuracy 0.00%, cross entropy 2.505904\n",
            "INFO:absl:Step #785: rate 0.000500, accuracy 0.00%, cross entropy 2.472533\n",
            "INFO:absl:Step #786: rate 0.000500, accuracy 0.00%, cross entropy 2.419940\n",
            "INFO:absl:Step #787: rate 0.000500, accuracy 0.00%, cross entropy 2.490561\n",
            "INFO:absl:Step #788: rate 0.000500, accuracy 0.00%, cross entropy 2.507298\n",
            "INFO:absl:Step #789: rate 0.000500, accuracy 0.00%, cross entropy 2.421584\n",
            "INFO:absl:Step #790: rate 0.000500, accuracy 0.00%, cross entropy 2.510366\n",
            "INFO:absl:Step #791: rate 0.000500, accuracy 0.00%, cross entropy 2.713539\n",
            "INFO:absl:Step #792: rate 0.000500, accuracy 100.00%, cross entropy 2.324415\n",
            "INFO:absl:Step #793: rate 0.000500, accuracy 0.00%, cross entropy 2.478458\n",
            "INFO:absl:Step #794: rate 0.000500, accuracy 0.00%, cross entropy 2.539147\n",
            "INFO:absl:Step #795: rate 0.000500, accuracy 100.00%, cross entropy 2.321025\n",
            "INFO:absl:Step #796: rate 0.000500, accuracy 0.00%, cross entropy 2.516666\n",
            "INFO:absl:Step #797: rate 0.000500, accuracy 0.00%, cross entropy 2.359250\n",
            "INFO:absl:Step #798: rate 0.000500, accuracy 0.00%, cross entropy 2.594142\n",
            "INFO:absl:Step #799: rate 0.000500, accuracy 0.00%, cross entropy 2.358261\n",
            "INFO:absl:Step #800: rate 0.000500, accuracy 0.00%, cross entropy 2.498042\n",
            "INFO:absl:Step 800: Validation accuracy = 7.87% (N=4445)\n",
            "INFO:absl:So far the best validation accuracy is 8.19%\n",
            "INFO:absl:Step #801: rate 0.000100, accuracy 0.00%, cross entropy 2.482139\n",
            "INFO:absl:Step #802: rate 0.000100, accuracy 0.00%, cross entropy 2.613446\n",
            "INFO:absl:Step #803: rate 0.000100, accuracy 0.00%, cross entropy 2.362681\n",
            "INFO:absl:Step #804: rate 0.000100, accuracy 0.00%, cross entropy 2.521994\n",
            "INFO:absl:Step #805: rate 0.000100, accuracy 0.00%, cross entropy 2.538782\n",
            "INFO:absl:Step #806: rate 0.000100, accuracy 0.00%, cross entropy 2.397261\n",
            "INFO:absl:Step #807: rate 0.000100, accuracy 0.00%, cross entropy 2.381595\n",
            "INFO:absl:Step #808: rate 0.000100, accuracy 0.00%, cross entropy 2.572809\n",
            "INFO:absl:Step #809: rate 0.000100, accuracy 0.00%, cross entropy 2.422545\n",
            "INFO:absl:Step #810: rate 0.000100, accuracy 0.00%, cross entropy 2.332058\n",
            "INFO:absl:Step #811: rate 0.000100, accuracy 0.00%, cross entropy 2.610425\n",
            "INFO:absl:Step #812: rate 0.000100, accuracy 0.00%, cross entropy 2.564049\n",
            "INFO:absl:Step #813: rate 0.000100, accuracy 0.00%, cross entropy 2.461651\n",
            "INFO:absl:Step #814: rate 0.000100, accuracy 0.00%, cross entropy 2.862545\n",
            "INFO:absl:Step #815: rate 0.000100, accuracy 0.00%, cross entropy 2.598425\n",
            "INFO:absl:Step #816: rate 0.000100, accuracy 0.00%, cross entropy 2.559590\n",
            "INFO:absl:Step #817: rate 0.000100, accuracy 0.00%, cross entropy 2.488563\n",
            "INFO:absl:Step #818: rate 0.000100, accuracy 0.00%, cross entropy 2.824716\n",
            "INFO:absl:Step #819: rate 0.000100, accuracy 0.00%, cross entropy 2.545473\n",
            "INFO:absl:Step #820: rate 0.000100, accuracy 0.00%, cross entropy 2.365043\n",
            "INFO:absl:Step #821: rate 0.000100, accuracy 0.00%, cross entropy 2.605271\n",
            "INFO:absl:Step #822: rate 0.000100, accuracy 0.00%, cross entropy 2.504622\n",
            "INFO:absl:Step #823: rate 0.000100, accuracy 0.00%, cross entropy 2.551408\n",
            "INFO:absl:Step #824: rate 0.000100, accuracy 0.00%, cross entropy 2.541739\n",
            "INFO:absl:Step #825: rate 0.000100, accuracy 0.00%, cross entropy 2.523412\n",
            "INFO:absl:Step #826: rate 0.000100, accuracy 0.00%, cross entropy 2.465187\n",
            "INFO:absl:Step #827: rate 0.000100, accuracy 0.00%, cross entropy 2.615893\n",
            "INFO:absl:Step #828: rate 0.000100, accuracy 0.00%, cross entropy 2.555083\n",
            "INFO:absl:Step #829: rate 0.000100, accuracy 0.00%, cross entropy 2.529715\n",
            "INFO:absl:Step #830: rate 0.000100, accuracy 0.00%, cross entropy 2.464874\n",
            "INFO:absl:Step #831: rate 0.000100, accuracy 0.00%, cross entropy 2.462413\n",
            "INFO:absl:Step #832: rate 0.000100, accuracy 0.00%, cross entropy 2.436069\n",
            "INFO:absl:Step #833: rate 0.000100, accuracy 100.00%, cross entropy 2.260820\n",
            "INFO:absl:Step #834: rate 0.000100, accuracy 0.00%, cross entropy 2.536943\n",
            "INFO:absl:Step #835: rate 0.000100, accuracy 0.00%, cross entropy 2.475976\n",
            "INFO:absl:Step #836: rate 0.000100, accuracy 0.00%, cross entropy 2.423187\n",
            "INFO:absl:Step #837: rate 0.000100, accuracy 0.00%, cross entropy 2.416951\n",
            "INFO:absl:Step #838: rate 0.000100, accuracy 0.00%, cross entropy 2.492952\n",
            "INFO:absl:Step #839: rate 0.000100, accuracy 0.00%, cross entropy 2.346287\n",
            "INFO:absl:Step #840: rate 0.000100, accuracy 0.00%, cross entropy 2.457931\n",
            "INFO:absl:Step #841: rate 0.000100, accuracy 0.00%, cross entropy 2.503540\n",
            "INFO:absl:Step #842: rate 0.000100, accuracy 0.00%, cross entropy 2.522414\n",
            "INFO:absl:Step #843: rate 0.000100, accuracy 0.00%, cross entropy 2.477130\n",
            "INFO:absl:Step #844: rate 0.000100, accuracy 0.00%, cross entropy 2.489580\n",
            "INFO:absl:Step #845: rate 0.000100, accuracy 0.00%, cross entropy 2.703729\n",
            "INFO:absl:Step #846: rate 0.000100, accuracy 0.00%, cross entropy 2.559854\n",
            "INFO:absl:Step #847: rate 0.000100, accuracy 0.00%, cross entropy 2.408409\n",
            "INFO:absl:Step #848: rate 0.000100, accuracy 0.00%, cross entropy 2.503516\n",
            "INFO:absl:Step #849: rate 0.000100, accuracy 100.00%, cross entropy 2.332524\n",
            "INFO:absl:Step #850: rate 0.000100, accuracy 0.00%, cross entropy 2.472552\n",
            "INFO:absl:Step #851: rate 0.000100, accuracy 0.00%, cross entropy 2.422713\n",
            "INFO:absl:Step #852: rate 0.000100, accuracy 0.00%, cross entropy 2.531395\n",
            "INFO:absl:Step #853: rate 0.000100, accuracy 0.00%, cross entropy 2.501107\n",
            "INFO:absl:Step #854: rate 0.000100, accuracy 0.00%, cross entropy 2.460677\n",
            "INFO:absl:Step #855: rate 0.000100, accuracy 0.00%, cross entropy 2.404699\n",
            "INFO:absl:Step #856: rate 0.000100, accuracy 0.00%, cross entropy 2.481207\n",
            "INFO:absl:Step #857: rate 0.000100, accuracy 0.00%, cross entropy 2.319358\n",
            "INFO:absl:Step #858: rate 0.000100, accuracy 0.00%, cross entropy 2.398415\n",
            "INFO:absl:Step #859: rate 0.000100, accuracy 0.00%, cross entropy 2.409030\n",
            "INFO:absl:Step #860: rate 0.000100, accuracy 100.00%, cross entropy 2.273152\n",
            "INFO:absl:Step #861: rate 0.000100, accuracy 0.00%, cross entropy 2.434749\n",
            "INFO:absl:Step #862: rate 0.000100, accuracy 0.00%, cross entropy 2.521492\n",
            "INFO:absl:Step #863: rate 0.000100, accuracy 0.00%, cross entropy 2.396820\n",
            "INFO:absl:Step #864: rate 0.000100, accuracy 0.00%, cross entropy 2.474089\n",
            "INFO:absl:Step #865: rate 0.000100, accuracy 0.00%, cross entropy 2.478986\n",
            "INFO:absl:Step #866: rate 0.000100, accuracy 0.00%, cross entropy 2.436593\n",
            "INFO:absl:Step #867: rate 0.000100, accuracy 0.00%, cross entropy 2.475862\n",
            "INFO:absl:Step #868: rate 0.000100, accuracy 0.00%, cross entropy 2.401667\n",
            "INFO:absl:Step #869: rate 0.000100, accuracy 0.00%, cross entropy 2.384422\n",
            "INFO:absl:Step #870: rate 0.000100, accuracy 0.00%, cross entropy 2.491583\n",
            "INFO:absl:Step #871: rate 0.000100, accuracy 0.00%, cross entropy 2.587878\n",
            "INFO:absl:Step #872: rate 0.000100, accuracy 0.00%, cross entropy 2.384214\n",
            "INFO:absl:Step #873: rate 0.000100, accuracy 0.00%, cross entropy 2.911760\n",
            "INFO:absl:Step #874: rate 0.000100, accuracy 0.00%, cross entropy 2.636699\n",
            "INFO:absl:Step #875: rate 0.000100, accuracy 0.00%, cross entropy 2.597061\n",
            "INFO:absl:Step #876: rate 0.000100, accuracy 0.00%, cross entropy 2.373303\n",
            "INFO:absl:Step #877: rate 0.000100, accuracy 0.00%, cross entropy 2.378330\n",
            "INFO:absl:Step #878: rate 0.000100, accuracy 0.00%, cross entropy 2.480882\n",
            "INFO:absl:Step #879: rate 0.000100, accuracy 0.00%, cross entropy 2.448878\n",
            "INFO:absl:Step #880: rate 0.000100, accuracy 0.00%, cross entropy 2.383428\n",
            "INFO:absl:Step #881: rate 0.000100, accuracy 0.00%, cross entropy 2.402893\n",
            "INFO:absl:Step #882: rate 0.000100, accuracy 0.00%, cross entropy 2.484576\n",
            "INFO:absl:Step #883: rate 0.000100, accuracy 0.00%, cross entropy 2.811514\n",
            "INFO:absl:Step #884: rate 0.000100, accuracy 0.00%, cross entropy 2.428868\n",
            "INFO:absl:Step #885: rate 0.000100, accuracy 0.00%, cross entropy 2.718704\n",
            "INFO:absl:Step #886: rate 0.000100, accuracy 0.00%, cross entropy 2.856870\n",
            "INFO:absl:Step #887: rate 0.000100, accuracy 0.00%, cross entropy 2.572328\n",
            "INFO:absl:Step #888: rate 0.000100, accuracy 0.00%, cross entropy 2.442423\n",
            "INFO:absl:Step #889: rate 0.000100, accuracy 0.00%, cross entropy 2.860199\n",
            "INFO:absl:Step #890: rate 0.000100, accuracy 100.00%, cross entropy 2.289716\n",
            "INFO:absl:Step #891: rate 0.000100, accuracy 0.00%, cross entropy 2.548425\n",
            "INFO:absl:Step #892: rate 0.000100, accuracy 0.00%, cross entropy 2.410954\n",
            "INFO:absl:Step #893: rate 0.000100, accuracy 0.00%, cross entropy 2.363194\n",
            "INFO:absl:Step #894: rate 0.000100, accuracy 0.00%, cross entropy 2.437701\n",
            "INFO:absl:Step #895: rate 0.000100, accuracy 0.00%, cross entropy 2.444343\n",
            "INFO:absl:Step #896: rate 0.000100, accuracy 0.00%, cross entropy 2.382601\n",
            "INFO:absl:Step #897: rate 0.000100, accuracy 0.00%, cross entropy 2.574095\n",
            "INFO:absl:Step #898: rate 0.000100, accuracy 0.00%, cross entropy 2.444390\n",
            "INFO:absl:Step #899: rate 0.000100, accuracy 0.00%, cross entropy 2.465823\n",
            "INFO:absl:Step #900: rate 0.000100, accuracy 0.00%, cross entropy 2.389723\n",
            "INFO:absl:Step #901: rate 0.000100, accuracy 0.00%, cross entropy 2.761068\n",
            "INFO:absl:Step #902: rate 0.000100, accuracy 0.00%, cross entropy 2.590941\n",
            "INFO:absl:Step #903: rate 0.000100, accuracy 0.00%, cross entropy 2.453320\n",
            "INFO:absl:Step #904: rate 0.000100, accuracy 0.00%, cross entropy 2.416633\n",
            "INFO:absl:Step #905: rate 0.000100, accuracy 0.00%, cross entropy 2.407886\n",
            "INFO:absl:Step #906: rate 0.000100, accuracy 0.00%, cross entropy 2.469994\n",
            "INFO:absl:Step #907: rate 0.000100, accuracy 0.00%, cross entropy 2.676053\n",
            "INFO:absl:Step #908: rate 0.000100, accuracy 100.00%, cross entropy 2.309933\n",
            "INFO:absl:Step #909: rate 0.000100, accuracy 0.00%, cross entropy 2.833795\n",
            "INFO:absl:Step #910: rate 0.000100, accuracy 0.00%, cross entropy 2.443336\n",
            "INFO:absl:Step #911: rate 0.000100, accuracy 0.00%, cross entropy 2.459593\n",
            "INFO:absl:Step #912: rate 0.000100, accuracy 0.00%, cross entropy 2.371901\n",
            "INFO:absl:Step #913: rate 0.000100, accuracy 0.00%, cross entropy 2.418908\n",
            "INFO:absl:Step #914: rate 0.000100, accuracy 0.00%, cross entropy 2.434151\n",
            "INFO:absl:Step #915: rate 0.000100, accuracy 0.00%, cross entropy 2.572121\n",
            "INFO:absl:Step #916: rate 0.000100, accuracy 0.00%, cross entropy 2.330394\n",
            "INFO:absl:Step #917: rate 0.000100, accuracy 0.00%, cross entropy 2.785727\n",
            "INFO:absl:Step #918: rate 0.000100, accuracy 0.00%, cross entropy 2.722752\n",
            "INFO:absl:Step #919: rate 0.000100, accuracy 0.00%, cross entropy 2.344816\n",
            "INFO:absl:Step #920: rate 0.000100, accuracy 0.00%, cross entropy 2.406160\n",
            "INFO:absl:Step #921: rate 0.000100, accuracy 0.00%, cross entropy 2.435298\n",
            "INFO:absl:Step #922: rate 0.000100, accuracy 0.00%, cross entropy 2.412974\n",
            "INFO:absl:Step #923: rate 0.000100, accuracy 0.00%, cross entropy 2.432212\n",
            "INFO:absl:Step #924: rate 0.000100, accuracy 0.00%, cross entropy 2.584067\n",
            "INFO:absl:Step #925: rate 0.000100, accuracy 0.00%, cross entropy 2.438463\n",
            "INFO:absl:Step #926: rate 0.000100, accuracy 0.00%, cross entropy 2.419622\n",
            "INFO:absl:Step #927: rate 0.000100, accuracy 0.00%, cross entropy 2.671812\n",
            "INFO:absl:Step #928: rate 0.000100, accuracy 0.00%, cross entropy 2.443456\n",
            "INFO:absl:Step #929: rate 0.000100, accuracy 0.00%, cross entropy 2.430156\n",
            "INFO:absl:Step #930: rate 0.000100, accuracy 0.00%, cross entropy 2.516767\n",
            "INFO:absl:Step #931: rate 0.000100, accuracy 0.00%, cross entropy 2.408088\n",
            "INFO:absl:Step #932: rate 0.000100, accuracy 0.00%, cross entropy 2.633482\n",
            "INFO:absl:Step #933: rate 0.000100, accuracy 0.00%, cross entropy 2.640364\n",
            "INFO:absl:Step #934: rate 0.000100, accuracy 100.00%, cross entropy 2.334486\n",
            "INFO:absl:Step #935: rate 0.000100, accuracy 0.00%, cross entropy 2.371875\n",
            "INFO:absl:Step #936: rate 0.000100, accuracy 100.00%, cross entropy 2.353613\n",
            "INFO:absl:Step #937: rate 0.000100, accuracy 0.00%, cross entropy 2.394329\n",
            "INFO:absl:Step #938: rate 0.000100, accuracy 0.00%, cross entropy 2.421706\n",
            "INFO:absl:Step #939: rate 0.000100, accuracy 0.00%, cross entropy 2.831961\n",
            "INFO:absl:Step #940: rate 0.000100, accuracy 0.00%, cross entropy 2.402438\n",
            "INFO:absl:Step #941: rate 0.000100, accuracy 0.00%, cross entropy 2.883876\n",
            "INFO:absl:Step #942: rate 0.000100, accuracy 0.00%, cross entropy 2.417348\n",
            "INFO:absl:Step #943: rate 0.000100, accuracy 0.00%, cross entropy 2.505507\n",
            "INFO:absl:Step #944: rate 0.000100, accuracy 0.00%, cross entropy 2.463690\n",
            "INFO:absl:Step #945: rate 0.000100, accuracy 0.00%, cross entropy 2.404080\n",
            "INFO:absl:Step #946: rate 0.000100, accuracy 0.00%, cross entropy 2.627137\n",
            "INFO:absl:Step #947: rate 0.000100, accuracy 0.00%, cross entropy 2.430638\n",
            "INFO:absl:Step #948: rate 0.000100, accuracy 0.00%, cross entropy 2.446419\n",
            "INFO:absl:Step #949: rate 0.000100, accuracy 0.00%, cross entropy 2.471726\n",
            "INFO:absl:Step #950: rate 0.000100, accuracy 0.00%, cross entropy 2.785703\n",
            "INFO:absl:Step #951: rate 0.000100, accuracy 0.00%, cross entropy 2.414901\n",
            "INFO:absl:Step #952: rate 0.000100, accuracy 0.00%, cross entropy 2.401677\n",
            "INFO:absl:Step #953: rate 0.000100, accuracy 100.00%, cross entropy 2.379390\n",
            "INFO:absl:Step #954: rate 0.000100, accuracy 0.00%, cross entropy 2.820160\n",
            "INFO:absl:Step #955: rate 0.000100, accuracy 0.00%, cross entropy 2.645239\n",
            "INFO:absl:Step #956: rate 0.000100, accuracy 0.00%, cross entropy 2.655776\n",
            "INFO:absl:Step #957: rate 0.000100, accuracy 0.00%, cross entropy 2.406355\n",
            "INFO:absl:Step #958: rate 0.000100, accuracy 0.00%, cross entropy 2.666221\n",
            "INFO:absl:Step #959: rate 0.000100, accuracy 0.00%, cross entropy 2.424180\n",
            "INFO:absl:Step #960: rate 0.000100, accuracy 0.00%, cross entropy 2.434046\n",
            "INFO:absl:Step #961: rate 0.000100, accuracy 0.00%, cross entropy 2.404403\n",
            "INFO:absl:Step #962: rate 0.000100, accuracy 0.00%, cross entropy 2.675308\n",
            "INFO:absl:Step #963: rate 0.000100, accuracy 0.00%, cross entropy 2.400661\n",
            "INFO:absl:Step #964: rate 0.000100, accuracy 0.00%, cross entropy 2.594712\n",
            "INFO:absl:Step #965: rate 0.000100, accuracy 0.00%, cross entropy 2.620275\n",
            "INFO:absl:Step #966: rate 0.000100, accuracy 0.00%, cross entropy 2.415480\n",
            "INFO:absl:Step #967: rate 0.000100, accuracy 0.00%, cross entropy 2.438325\n",
            "INFO:absl:Step #968: rate 0.000100, accuracy 0.00%, cross entropy 2.780709\n",
            "INFO:absl:Step #969: rate 0.000100, accuracy 0.00%, cross entropy 2.621497\n",
            "INFO:absl:Step #970: rate 0.000100, accuracy 100.00%, cross entropy 2.372537\n",
            "INFO:absl:Step #971: rate 0.000100, accuracy 0.00%, cross entropy 2.401112\n",
            "INFO:absl:Step #972: rate 0.000100, accuracy 0.00%, cross entropy 2.645170\n",
            "INFO:absl:Step #973: rate 0.000100, accuracy 0.00%, cross entropy 2.772308\n",
            "INFO:absl:Step #974: rate 0.000100, accuracy 0.00%, cross entropy 2.557920\n",
            "INFO:absl:Step #975: rate 0.000100, accuracy 0.00%, cross entropy 2.521036\n",
            "INFO:absl:Step #976: rate 0.000100, accuracy 0.00%, cross entropy 2.445390\n",
            "INFO:absl:Step #977: rate 0.000100, accuracy 0.00%, cross entropy 2.494475\n",
            "INFO:absl:Step #978: rate 0.000100, accuracy 0.00%, cross entropy 2.391042\n",
            "INFO:absl:Step #979: rate 0.000100, accuracy 0.00%, cross entropy 2.633911\n",
            "INFO:absl:Step #980: rate 0.000100, accuracy 0.00%, cross entropy 2.445282\n",
            "INFO:absl:Step #981: rate 0.000100, accuracy 0.00%, cross entropy 2.776907\n",
            "INFO:absl:Step #982: rate 0.000100, accuracy 0.00%, cross entropy 2.535515\n",
            "INFO:absl:Step #983: rate 0.000100, accuracy 0.00%, cross entropy 2.394987\n",
            "INFO:absl:Step #984: rate 0.000100, accuracy 0.00%, cross entropy 2.473791\n",
            "INFO:absl:Step #985: rate 0.000100, accuracy 0.00%, cross entropy 2.595635\n",
            "INFO:absl:Step #986: rate 0.000100, accuracy 0.00%, cross entropy 2.406094\n",
            "INFO:absl:Step #987: rate 0.000100, accuracy 0.00%, cross entropy 2.409126\n",
            "INFO:absl:Step #988: rate 0.000100, accuracy 0.00%, cross entropy 2.579185\n",
            "INFO:absl:Step #989: rate 0.000100, accuracy 0.00%, cross entropy 2.439288\n",
            "INFO:absl:Step #990: rate 0.000100, accuracy 0.00%, cross entropy 2.425324\n",
            "INFO:absl:Step #991: rate 0.000100, accuracy 0.00%, cross entropy 2.449706\n",
            "INFO:absl:Step #992: rate 0.000100, accuracy 0.00%, cross entropy 2.633662\n",
            "INFO:absl:Step #993: rate 0.000100, accuracy 0.00%, cross entropy 2.510989\n",
            "INFO:absl:Step #994: rate 0.000100, accuracy 100.00%, cross entropy 2.367160\n",
            "INFO:absl:Step #995: rate 0.000100, accuracy 100.00%, cross entropy 2.294545\n",
            "INFO:absl:Step #996: rate 0.000100, accuracy 0.00%, cross entropy 2.474642\n",
            "INFO:absl:Step #997: rate 0.000100, accuracy 0.00%, cross entropy 2.411653\n",
            "INFO:absl:Step #998: rate 0.000100, accuracy 0.00%, cross entropy 2.543725\n",
            "INFO:absl:Step #999: rate 0.000100, accuracy 0.00%, cross entropy 2.769298\n",
            "INFO:absl:Step #1000: rate 0.000100, accuracy 0.00%, cross entropy 2.358096\n",
            "INFO:absl:Step #1001: rate 0.000100, accuracy 0.00%, cross entropy 2.500353\n",
            "INFO:absl:Step #1002: rate 0.000100, accuracy 0.00%, cross entropy 2.452046\n",
            "INFO:absl:Step #1003: rate 0.000100, accuracy 0.00%, cross entropy 2.462738\n",
            "INFO:absl:Step #1004: rate 0.000100, accuracy 100.00%, cross entropy 2.312935\n",
            "INFO:absl:Step #1005: rate 0.000100, accuracy 0.00%, cross entropy 2.762076\n",
            "INFO:absl:Step #1006: rate 0.000100, accuracy 0.00%, cross entropy 2.484886\n",
            "INFO:absl:Step #1007: rate 0.000100, accuracy 0.00%, cross entropy 2.479708\n",
            "INFO:absl:Step #1008: rate 0.000100, accuracy 0.00%, cross entropy 2.525094\n",
            "INFO:absl:Step #1009: rate 0.000100, accuracy 0.00%, cross entropy 2.385349\n",
            "INFO:absl:Step #1010: rate 0.000100, accuracy 0.00%, cross entropy 2.441367\n",
            "INFO:absl:Step #1011: rate 0.000100, accuracy 0.00%, cross entropy 2.616481\n",
            "INFO:absl:Step #1012: rate 0.000100, accuracy 0.00%, cross entropy 2.499914\n",
            "INFO:absl:Step #1013: rate 0.000100, accuracy 0.00%, cross entropy 2.388631\n",
            "INFO:absl:Step #1014: rate 0.000100, accuracy 0.00%, cross entropy 2.432345\n",
            "INFO:absl:Step #1015: rate 0.000100, accuracy 0.00%, cross entropy 2.514970\n",
            "INFO:absl:Step #1016: rate 0.000100, accuracy 0.00%, cross entropy 2.468596\n",
            "INFO:absl:Step #1017: rate 0.000100, accuracy 0.00%, cross entropy 2.714201\n",
            "INFO:absl:Step #1018: rate 0.000100, accuracy 0.00%, cross entropy 2.411255\n",
            "INFO:absl:Step #1019: rate 0.000100, accuracy 0.00%, cross entropy 2.445187\n",
            "INFO:absl:Step #1020: rate 0.000100, accuracy 0.00%, cross entropy 2.598856\n",
            "INFO:absl:Step #1021: rate 0.000100, accuracy 0.00%, cross entropy 2.513655\n",
            "INFO:absl:Step #1022: rate 0.000100, accuracy 100.00%, cross entropy 2.322568\n",
            "INFO:absl:Step #1023: rate 0.000100, accuracy 100.00%, cross entropy 2.327205\n",
            "INFO:absl:Step #1024: rate 0.000100, accuracy 0.00%, cross entropy 2.453144\n",
            "INFO:absl:Step #1025: rate 0.000100, accuracy 0.00%, cross entropy 2.600267\n",
            "INFO:absl:Step #1026: rate 0.000100, accuracy 0.00%, cross entropy 2.424325\n",
            "INFO:absl:Step #1027: rate 0.000100, accuracy 0.00%, cross entropy 2.466826\n",
            "INFO:absl:Step #1028: rate 0.000100, accuracy 0.00%, cross entropy 2.456064\n",
            "INFO:absl:Step #1029: rate 0.000100, accuracy 0.00%, cross entropy 2.543856\n",
            "INFO:absl:Step #1030: rate 0.000100, accuracy 0.00%, cross entropy 2.458031\n",
            "INFO:absl:Step #1031: rate 0.000100, accuracy 0.00%, cross entropy 2.423059\n",
            "INFO:absl:Step #1032: rate 0.000100, accuracy 0.00%, cross entropy 2.381343\n",
            "INFO:absl:Step #1033: rate 0.000100, accuracy 0.00%, cross entropy 2.477445\n",
            "INFO:absl:Step #1034: rate 0.000100, accuracy 0.00%, cross entropy 2.435082\n",
            "INFO:absl:Step #1035: rate 0.000100, accuracy 0.00%, cross entropy 2.648508\n",
            "INFO:absl:Step #1036: rate 0.000100, accuracy 0.00%, cross entropy 2.438355\n",
            "INFO:absl:Step #1037: rate 0.000100, accuracy 0.00%, cross entropy 2.752727\n",
            "INFO:absl:Step #1038: rate 0.000100, accuracy 100.00%, cross entropy 2.364535\n",
            "INFO:absl:Step #1039: rate 0.000100, accuracy 0.00%, cross entropy 2.768879\n",
            "INFO:absl:Step #1040: rate 0.000100, accuracy 0.00%, cross entropy 2.446614\n",
            "INFO:absl:Step #1041: rate 0.000100, accuracy 0.00%, cross entropy 2.430270\n",
            "INFO:absl:Step #1042: rate 0.000100, accuracy 0.00%, cross entropy 2.570164\n",
            "INFO:absl:Step #1043: rate 0.000100, accuracy 0.00%, cross entropy 2.460606\n",
            "INFO:absl:Step #1044: rate 0.000100, accuracy 0.00%, cross entropy 2.761250\n",
            "INFO:absl:Step #1045: rate 0.000100, accuracy 100.00%, cross entropy 2.345031\n",
            "INFO:absl:Step #1046: rate 0.000100, accuracy 0.00%, cross entropy 2.708635\n",
            "INFO:absl:Step #1047: rate 0.000100, accuracy 0.00%, cross entropy 2.365818\n",
            "INFO:absl:Step #1048: rate 0.000100, accuracy 0.00%, cross entropy 2.682168\n",
            "INFO:absl:Step #1049: rate 0.000100, accuracy 0.00%, cross entropy 2.641591\n",
            "INFO:absl:Step #1050: rate 0.000100, accuracy 100.00%, cross entropy 2.315767\n",
            "INFO:absl:Step #1051: rate 0.000100, accuracy 0.00%, cross entropy 2.403790\n",
            "INFO:absl:Step #1052: rate 0.000100, accuracy 0.00%, cross entropy 2.507451\n",
            "INFO:absl:Step #1053: rate 0.000100, accuracy 0.00%, cross entropy 2.530885\n",
            "INFO:absl:Step #1054: rate 0.000100, accuracy 0.00%, cross entropy 2.677341\n",
            "INFO:absl:Step #1055: rate 0.000100, accuracy 0.00%, cross entropy 2.626334\n",
            "INFO:absl:Step #1056: rate 0.000100, accuracy 0.00%, cross entropy 2.610243\n",
            "INFO:absl:Step #1057: rate 0.000100, accuracy 0.00%, cross entropy 2.433567\n",
            "INFO:absl:Step #1058: rate 0.000100, accuracy 0.00%, cross entropy 2.453820\n",
            "INFO:absl:Step #1059: rate 0.000100, accuracy 100.00%, cross entropy 2.378486\n",
            "INFO:absl:Step #1060: rate 0.000100, accuracy 0.00%, cross entropy 2.616330\n",
            "INFO:absl:Step #1061: rate 0.000100, accuracy 0.00%, cross entropy 2.696635\n",
            "INFO:absl:Step #1062: rate 0.000100, accuracy 0.00%, cross entropy 2.630985\n",
            "INFO:absl:Step #1063: rate 0.000100, accuracy 0.00%, cross entropy 2.424770\n",
            "INFO:absl:Step #1064: rate 0.000100, accuracy 0.00%, cross entropy 2.651116\n",
            "INFO:absl:Step #1065: rate 0.000100, accuracy 0.00%, cross entropy 2.453567\n",
            "INFO:absl:Step #1066: rate 0.000100, accuracy 0.00%, cross entropy 2.421094\n",
            "INFO:absl:Step #1067: rate 0.000100, accuracy 0.00%, cross entropy 2.597189\n",
            "INFO:absl:Step #1068: rate 0.000100, accuracy 100.00%, cross entropy 2.359650\n",
            "INFO:absl:Step #1069: rate 0.000100, accuracy 0.00%, cross entropy 2.587412\n",
            "INFO:absl:Step #1070: rate 0.000100, accuracy 0.00%, cross entropy 2.372716\n",
            "INFO:absl:Step #1071: rate 0.000100, accuracy 0.00%, cross entropy 2.372895\n",
            "INFO:absl:Step #1072: rate 0.000100, accuracy 0.00%, cross entropy 2.463203\n",
            "INFO:absl:Step #1073: rate 0.000100, accuracy 0.00%, cross entropy 2.734868\n",
            "INFO:absl:Step #1074: rate 0.000100, accuracy 0.00%, cross entropy 2.529102\n",
            "INFO:absl:Step #1075: rate 0.000100, accuracy 0.00%, cross entropy 2.436461\n",
            "INFO:absl:Step #1076: rate 0.000100, accuracy 0.00%, cross entropy 2.614064\n",
            "INFO:absl:Step #1077: rate 0.000100, accuracy 0.00%, cross entropy 2.488896\n",
            "INFO:absl:Step #1078: rate 0.000100, accuracy 0.00%, cross entropy 2.382283\n",
            "INFO:absl:Step #1079: rate 0.000100, accuracy 0.00%, cross entropy 2.449719\n",
            "INFO:absl:Step #1080: rate 0.000100, accuracy 100.00%, cross entropy 2.308855\n",
            "INFO:absl:Step #1081: rate 0.000100, accuracy 0.00%, cross entropy 2.399343\n",
            "INFO:absl:Step #1082: rate 0.000100, accuracy 0.00%, cross entropy 2.436991\n",
            "INFO:absl:Step #1083: rate 0.000100, accuracy 0.00%, cross entropy 2.389921\n",
            "INFO:absl:Step #1084: rate 0.000100, accuracy 0.00%, cross entropy 2.560293\n",
            "INFO:absl:Step #1085: rate 0.000100, accuracy 0.00%, cross entropy 2.404302\n",
            "INFO:absl:Step #1086: rate 0.000100, accuracy 0.00%, cross entropy 2.525506\n",
            "INFO:absl:Step #1087: rate 0.000100, accuracy 0.00%, cross entropy 2.478594\n",
            "INFO:absl:Step #1088: rate 0.000100, accuracy 0.00%, cross entropy 2.469688\n",
            "INFO:absl:Step #1089: rate 0.000100, accuracy 0.00%, cross entropy 2.644939\n",
            "INFO:absl:Step #1090: rate 0.000100, accuracy 0.00%, cross entropy 2.511929\n",
            "INFO:absl:Step #1091: rate 0.000100, accuracy 100.00%, cross entropy 2.344982\n",
            "INFO:absl:Step #1092: rate 0.000100, accuracy 0.00%, cross entropy 2.487173\n",
            "INFO:absl:Step #1093: rate 0.000100, accuracy 0.00%, cross entropy 2.541511\n",
            "INFO:absl:Step #1094: rate 0.000100, accuracy 0.00%, cross entropy 2.407551\n",
            "INFO:absl:Step #1095: rate 0.000100, accuracy 0.00%, cross entropy 2.463630\n",
            "INFO:absl:Step #1096: rate 0.000100, accuracy 0.00%, cross entropy 2.537885\n",
            "INFO:absl:Step #1097: rate 0.000100, accuracy 0.00%, cross entropy 2.390288\n",
            "INFO:absl:Step #1098: rate 0.000100, accuracy 0.00%, cross entropy 2.455331\n",
            "INFO:absl:Step #1099: rate 0.000100, accuracy 0.00%, cross entropy 2.455080\n",
            "INFO:absl:Step #1100: rate 0.000100, accuracy 100.00%, cross entropy 2.326668\n",
            "INFO:absl:Step #1101: rate 0.000100, accuracy 0.00%, cross entropy 2.462019\n",
            "INFO:absl:Step #1102: rate 0.000100, accuracy 0.00%, cross entropy 2.453118\n",
            "INFO:absl:Step #1103: rate 0.000100, accuracy 0.00%, cross entropy 2.407924\n",
            "INFO:absl:Step #1104: rate 0.000100, accuracy 0.00%, cross entropy 2.440260\n",
            "INFO:absl:Step #1105: rate 0.000100, accuracy 0.00%, cross entropy 2.477283\n",
            "INFO:absl:Step #1106: rate 0.000100, accuracy 0.00%, cross entropy 2.523761\n",
            "INFO:absl:Step #1107: rate 0.000100, accuracy 0.00%, cross entropy 2.638497\n",
            "INFO:absl:Step #1108: rate 0.000100, accuracy 0.00%, cross entropy 2.627770\n",
            "INFO:absl:Step #1109: rate 0.000100, accuracy 100.00%, cross entropy 2.317904\n",
            "INFO:absl:Step #1110: rate 0.000100, accuracy 0.00%, cross entropy 2.494477\n",
            "INFO:absl:Step #1111: rate 0.000100, accuracy 0.00%, cross entropy 2.452442\n",
            "INFO:absl:Step #1112: rate 0.000100, accuracy 0.00%, cross entropy 2.422657\n",
            "INFO:absl:Step #1113: rate 0.000100, accuracy 0.00%, cross entropy 2.459080\n",
            "INFO:absl:Step #1114: rate 0.000100, accuracy 0.00%, cross entropy 2.588954\n",
            "INFO:absl:Step #1115: rate 0.000100, accuracy 0.00%, cross entropy 2.394505\n",
            "INFO:absl:Step #1116: rate 0.000100, accuracy 0.00%, cross entropy 2.590786\n",
            "INFO:absl:Step #1117: rate 0.000100, accuracy 0.00%, cross entropy 2.439444\n",
            "INFO:absl:Step #1118: rate 0.000100, accuracy 0.00%, cross entropy 2.509493\n",
            "INFO:absl:Step #1119: rate 0.000100, accuracy 0.00%, cross entropy 2.623379\n",
            "INFO:absl:Step #1120: rate 0.000100, accuracy 0.00%, cross entropy 2.440538\n",
            "INFO:absl:Step #1121: rate 0.000100, accuracy 100.00%, cross entropy 2.348426\n",
            "INFO:absl:Step #1122: rate 0.000100, accuracy 0.00%, cross entropy 2.429436\n",
            "INFO:absl:Step #1123: rate 0.000100, accuracy 0.00%, cross entropy 2.576209\n",
            "INFO:absl:Step #1124: rate 0.000100, accuracy 0.00%, cross entropy 2.382944\n",
            "INFO:absl:Step #1125: rate 0.000100, accuracy 0.00%, cross entropy 2.446693\n",
            "INFO:absl:Step #1126: rate 0.000100, accuracy 0.00%, cross entropy 2.414282\n",
            "INFO:absl:Step #1127: rate 0.000100, accuracy 0.00%, cross entropy 2.402503\n",
            "INFO:absl:Step #1128: rate 0.000100, accuracy 100.00%, cross entropy 2.325287\n",
            "INFO:absl:Step #1129: rate 0.000100, accuracy 0.00%, cross entropy 2.433218\n",
            "INFO:absl:Step #1130: rate 0.000100, accuracy 0.00%, cross entropy 2.419457\n",
            "INFO:absl:Step #1131: rate 0.000100, accuracy 0.00%, cross entropy 2.385129\n",
            "INFO:absl:Step #1132: rate 0.000100, accuracy 0.00%, cross entropy 2.574158\n",
            "INFO:absl:Step #1133: rate 0.000100, accuracy 0.00%, cross entropy 2.467508\n",
            "INFO:absl:Step #1134: rate 0.000100, accuracy 0.00%, cross entropy 2.526712\n",
            "INFO:absl:Step #1135: rate 0.000100, accuracy 0.00%, cross entropy 2.343598\n",
            "INFO:absl:Step #1136: rate 0.000100, accuracy 0.00%, cross entropy 2.381382\n",
            "INFO:absl:Step #1137: rate 0.000100, accuracy 0.00%, cross entropy 2.455155\n",
            "INFO:absl:Step #1138: rate 0.000100, accuracy 0.00%, cross entropy 2.562511\n",
            "INFO:absl:Step #1139: rate 0.000100, accuracy 0.00%, cross entropy 2.340691\n",
            "INFO:absl:Step #1140: rate 0.000100, accuracy 0.00%, cross entropy 2.550909\n",
            "INFO:absl:Step #1141: rate 0.000100, accuracy 0.00%, cross entropy 2.652859\n",
            "INFO:absl:Step #1142: rate 0.000100, accuracy 0.00%, cross entropy 2.559330\n",
            "INFO:absl:Step #1143: rate 0.000100, accuracy 0.00%, cross entropy 2.368505\n",
            "INFO:absl:Step #1144: rate 0.000100, accuracy 0.00%, cross entropy 2.539714\n",
            "INFO:absl:Step #1145: rate 0.000100, accuracy 100.00%, cross entropy 2.279105\n",
            "INFO:absl:Step #1146: rate 0.000100, accuracy 0.00%, cross entropy 2.462119\n",
            "INFO:absl:Step #1147: rate 0.000100, accuracy 0.00%, cross entropy 2.499781\n",
            "INFO:absl:Step #1148: rate 0.000100, accuracy 0.00%, cross entropy 2.675449\n",
            "INFO:absl:Step #1149: rate 0.000100, accuracy 0.00%, cross entropy 2.497482\n",
            "INFO:absl:Step #1150: rate 0.000100, accuracy 0.00%, cross entropy 2.640839\n",
            "INFO:absl:Step #1151: rate 0.000100, accuracy 0.00%, cross entropy 2.728059\n",
            "INFO:absl:Step #1152: rate 0.000100, accuracy 0.00%, cross entropy 2.482519\n",
            "INFO:absl:Step #1153: rate 0.000100, accuracy 0.00%, cross entropy 2.435380\n",
            "INFO:absl:Step #1154: rate 0.000100, accuracy 0.00%, cross entropy 2.492852\n",
            "INFO:absl:Step #1155: rate 0.000100, accuracy 0.00%, cross entropy 2.429517\n",
            "INFO:absl:Step #1156: rate 0.000100, accuracy 0.00%, cross entropy 2.417225\n",
            "INFO:absl:Step #1157: rate 0.000100, accuracy 0.00%, cross entropy 2.361402\n",
            "INFO:absl:Step #1158: rate 0.000100, accuracy 0.00%, cross entropy 2.501704\n",
            "INFO:absl:Step #1159: rate 0.000100, accuracy 0.00%, cross entropy 2.453164\n",
            "INFO:absl:Step #1160: rate 0.000100, accuracy 0.00%, cross entropy 2.582290\n",
            "INFO:absl:Step #1161: rate 0.000100, accuracy 0.00%, cross entropy 2.427200\n",
            "INFO:absl:Step #1162: rate 0.000100, accuracy 0.00%, cross entropy 2.688260\n",
            "INFO:absl:Step #1163: rate 0.000100, accuracy 0.00%, cross entropy 2.459302\n",
            "INFO:absl:Step #1164: rate 0.000100, accuracy 0.00%, cross entropy 2.453125\n",
            "INFO:absl:Step #1165: rate 0.000100, accuracy 0.00%, cross entropy 2.444514\n",
            "INFO:absl:Step #1166: rate 0.000100, accuracy 0.00%, cross entropy 2.505663\n",
            "INFO:absl:Step #1167: rate 0.000100, accuracy 0.00%, cross entropy 2.711819\n",
            "INFO:absl:Step #1168: rate 0.000100, accuracy 0.00%, cross entropy 2.590109\n",
            "INFO:absl:Step #1169: rate 0.000100, accuracy 0.00%, cross entropy 2.464336\n",
            "INFO:absl:Step #1170: rate 0.000100, accuracy 0.00%, cross entropy 2.677046\n",
            "INFO:absl:Step #1171: rate 0.000100, accuracy 0.00%, cross entropy 2.390350\n",
            "INFO:absl:Step #1172: rate 0.000100, accuracy 100.00%, cross entropy 2.295543\n",
            "INFO:absl:Step #1173: rate 0.000100, accuracy 0.00%, cross entropy 2.424476\n",
            "INFO:absl:Step #1174: rate 0.000100, accuracy 0.00%, cross entropy 2.454133\n",
            "INFO:absl:Step #1175: rate 0.000100, accuracy 0.00%, cross entropy 2.354275\n",
            "INFO:absl:Step #1176: rate 0.000100, accuracy 0.00%, cross entropy 2.368333\n",
            "INFO:absl:Step #1177: rate 0.000100, accuracy 100.00%, cross entropy 2.350342\n",
            "INFO:absl:Step #1178: rate 0.000100, accuracy 0.00%, cross entropy 2.470177\n",
            "INFO:absl:Step #1179: rate 0.000100, accuracy 0.00%, cross entropy 2.585818\n",
            "INFO:absl:Step #1180: rate 0.000100, accuracy 0.00%, cross entropy 2.425265\n",
            "INFO:absl:Step #1181: rate 0.000100, accuracy 0.00%, cross entropy 2.443031\n",
            "INFO:absl:Step #1182: rate 0.000100, accuracy 0.00%, cross entropy 2.413058\n",
            "INFO:absl:Step #1183: rate 0.000100, accuracy 0.00%, cross entropy 2.450287\n",
            "INFO:absl:Step #1184: rate 0.000100, accuracy 0.00%, cross entropy 2.580840\n",
            "INFO:absl:Step #1185: rate 0.000100, accuracy 0.00%, cross entropy 2.364068\n",
            "INFO:absl:Step #1186: rate 0.000100, accuracy 100.00%, cross entropy 2.321578\n",
            "INFO:absl:Step #1187: rate 0.000100, accuracy 0.00%, cross entropy 2.597313\n",
            "INFO:absl:Step #1188: rate 0.000100, accuracy 0.00%, cross entropy 2.433899\n",
            "INFO:absl:Step #1189: rate 0.000100, accuracy 0.00%, cross entropy 2.498070\n",
            "INFO:absl:Step #1190: rate 0.000100, accuracy 0.00%, cross entropy 2.435096\n",
            "INFO:absl:Step #1191: rate 0.000100, accuracy 0.00%, cross entropy 2.479244\n",
            "INFO:absl:Step #1192: rate 0.000100, accuracy 100.00%, cross entropy 2.324887\n",
            "INFO:absl:Step #1193: rate 0.000100, accuracy 0.00%, cross entropy 2.642970\n",
            "INFO:absl:Step #1194: rate 0.000100, accuracy 0.00%, cross entropy 2.483124\n",
            "INFO:absl:Step #1195: rate 0.000100, accuracy 0.00%, cross entropy 2.535418\n",
            "INFO:absl:Step #1196: rate 0.000100, accuracy 0.00%, cross entropy 2.449606\n",
            "INFO:absl:Step #1197: rate 0.000100, accuracy 0.00%, cross entropy 2.457268\n",
            "INFO:absl:Step #1198: rate 0.000100, accuracy 0.00%, cross entropy 2.452803\n",
            "INFO:absl:Step #1199: rate 0.000100, accuracy 0.00%, cross entropy 2.432788\n",
            "INFO:absl:Step #1200: rate 0.000100, accuracy 0.00%, cross entropy 2.590274\n",
            "INFO:absl:Step 1200: Validation accuracy = 6.01% (N=4445)\n",
            "INFO:absl:So far the best validation accuracy is 8.19%\n",
            "INFO:absl:Step #1201: rate 0.000020, accuracy 100.00%, cross entropy 2.304771\n",
            "INFO:absl:Step #1202: rate 0.000020, accuracy 0.00%, cross entropy 2.514151\n",
            "INFO:absl:Step #1203: rate 0.000020, accuracy 0.00%, cross entropy 2.472011\n",
            "INFO:absl:Step #1204: rate 0.000020, accuracy 100.00%, cross entropy 2.298669\n",
            "INFO:absl:Step #1205: rate 0.000020, accuracy 0.00%, cross entropy 2.432046\n",
            "INFO:absl:Step #1206: rate 0.000020, accuracy 0.00%, cross entropy 2.392067\n",
            "INFO:absl:Step #1207: rate 0.000020, accuracy 0.00%, cross entropy 2.417537\n",
            "INFO:absl:Step #1208: rate 0.000020, accuracy 0.00%, cross entropy 2.721483\n",
            "INFO:absl:Step #1209: rate 0.000020, accuracy 0.00%, cross entropy 2.479873\n",
            "INFO:absl:Step #1210: rate 0.000020, accuracy 0.00%, cross entropy 2.549531\n",
            "INFO:absl:Step #1211: rate 0.000020, accuracy 0.00%, cross entropy 2.495710\n",
            "INFO:absl:Step #1212: rate 0.000020, accuracy 0.00%, cross entropy 2.386116\n",
            "INFO:absl:Step #1213: rate 0.000020, accuracy 0.00%, cross entropy 2.583437\n",
            "INFO:absl:Step #1214: rate 0.000020, accuracy 0.00%, cross entropy 2.418796\n",
            "INFO:absl:Step #1215: rate 0.000020, accuracy 0.00%, cross entropy 2.435693\n",
            "INFO:absl:Step #1216: rate 0.000020, accuracy 0.00%, cross entropy 2.693898\n",
            "INFO:absl:Step #1217: rate 0.000020, accuracy 0.00%, cross entropy 2.686868\n",
            "INFO:absl:Step #1218: rate 0.000020, accuracy 0.00%, cross entropy 2.661293\n",
            "INFO:absl:Step #1219: rate 0.000020, accuracy 0.00%, cross entropy 2.560199\n",
            "INFO:absl:Step #1220: rate 0.000020, accuracy 0.00%, cross entropy 2.676877\n",
            "INFO:absl:Step #1221: rate 0.000020, accuracy 0.00%, cross entropy 2.501044\n",
            "INFO:absl:Step #1222: rate 0.000020, accuracy 0.00%, cross entropy 2.372786\n",
            "INFO:absl:Step #1223: rate 0.000020, accuracy 0.00%, cross entropy 2.386360\n",
            "INFO:absl:Step #1224: rate 0.000020, accuracy 0.00%, cross entropy 2.372194\n",
            "INFO:absl:Step #1225: rate 0.000020, accuracy 0.00%, cross entropy 2.379181\n",
            "INFO:absl:Step #1226: rate 0.000020, accuracy 0.00%, cross entropy 2.705339\n",
            "INFO:absl:Step #1227: rate 0.000020, accuracy 0.00%, cross entropy 2.449203\n",
            "INFO:absl:Step #1228: rate 0.000020, accuracy 0.00%, cross entropy 2.649350\n",
            "INFO:absl:Step #1229: rate 0.000020, accuracy 0.00%, cross entropy 2.710889\n",
            "INFO:absl:Step #1230: rate 0.000020, accuracy 0.00%, cross entropy 2.480672\n",
            "INFO:absl:Step #1231: rate 0.000020, accuracy 0.00%, cross entropy 2.423483\n",
            "INFO:absl:Step #1232: rate 0.000020, accuracy 0.00%, cross entropy 2.484276\n",
            "INFO:absl:Step #1233: rate 0.000020, accuracy 100.00%, cross entropy 2.308258\n",
            "INFO:absl:Step #1234: rate 0.000020, accuracy 0.00%, cross entropy 2.702328\n",
            "INFO:absl:Step #1235: rate 0.000020, accuracy 0.00%, cross entropy 2.415959\n",
            "INFO:absl:Step #1236: rate 0.000020, accuracy 0.00%, cross entropy 2.563640\n",
            "INFO:absl:Step #1237: rate 0.000020, accuracy 0.00%, cross entropy 2.411671\n",
            "INFO:absl:Step #1238: rate 0.000020, accuracy 0.00%, cross entropy 2.471934\n",
            "INFO:absl:Step #1239: rate 0.000020, accuracy 0.00%, cross entropy 2.489149\n",
            "INFO:absl:Step #1240: rate 0.000020, accuracy 0.00%, cross entropy 2.426959\n",
            "INFO:absl:Step #1241: rate 0.000020, accuracy 0.00%, cross entropy 2.401586\n",
            "INFO:absl:Step #1242: rate 0.000020, accuracy 0.00%, cross entropy 2.497834\n",
            "INFO:absl:Step #1243: rate 0.000020, accuracy 0.00%, cross entropy 2.420391\n",
            "INFO:absl:Step #1244: rate 0.000020, accuracy 0.00%, cross entropy 2.676644\n",
            "INFO:absl:Step #1245: rate 0.000020, accuracy 0.00%, cross entropy 2.493490\n",
            "INFO:absl:Step #1246: rate 0.000020, accuracy 0.00%, cross entropy 2.490517\n",
            "INFO:absl:Step #1247: rate 0.000020, accuracy 0.00%, cross entropy 2.392642\n",
            "INFO:absl:Step #1248: rate 0.000020, accuracy 0.00%, cross entropy 2.466262\n",
            "INFO:absl:Step #1249: rate 0.000020, accuracy 0.00%, cross entropy 2.549910\n",
            "INFO:absl:Step #1250: rate 0.000020, accuracy 0.00%, cross entropy 2.423032\n",
            "INFO:absl:Step #1251: rate 0.000020, accuracy 0.00%, cross entropy 2.537502\n",
            "INFO:absl:Step #1252: rate 0.000020, accuracy 100.00%, cross entropy 2.348997\n",
            "INFO:absl:Step #1253: rate 0.000020, accuracy 0.00%, cross entropy 2.631720\n",
            "INFO:absl:Step #1254: rate 0.000020, accuracy 0.00%, cross entropy 2.635771\n",
            "INFO:absl:Step #1255: rate 0.000020, accuracy 0.00%, cross entropy 2.454159\n",
            "INFO:absl:Step #1256: rate 0.000020, accuracy 0.00%, cross entropy 2.402430\n",
            "INFO:absl:Step #1257: rate 0.000020, accuracy 0.00%, cross entropy 2.460228\n",
            "INFO:absl:Step #1258: rate 0.000020, accuracy 0.00%, cross entropy 2.419843\n",
            "INFO:absl:Step #1259: rate 0.000020, accuracy 0.00%, cross entropy 2.501618\n",
            "INFO:absl:Step #1260: rate 0.000020, accuracy 0.00%, cross entropy 2.590941\n",
            "INFO:absl:Step #1261: rate 0.000020, accuracy 0.00%, cross entropy 2.715081\n",
            "INFO:absl:Step #1262: rate 0.000020, accuracy 0.00%, cross entropy 2.650575\n",
            "INFO:absl:Step #1263: rate 0.000020, accuracy 0.00%, cross entropy 2.389663\n",
            "INFO:absl:Step #1264: rate 0.000020, accuracy 0.00%, cross entropy 2.396146\n",
            "INFO:absl:Step #1265: rate 0.000020, accuracy 0.00%, cross entropy 2.455815\n",
            "INFO:absl:Step #1266: rate 0.000020, accuracy 0.00%, cross entropy 2.657532\n",
            "INFO:absl:Step #1267: rate 0.000020, accuracy 0.00%, cross entropy 2.387371\n",
            "INFO:absl:Step #1268: rate 0.000020, accuracy 0.00%, cross entropy 2.588219\n",
            "INFO:absl:Step #1269: rate 0.000020, accuracy 0.00%, cross entropy 2.422294\n",
            "INFO:absl:Step #1270: rate 0.000020, accuracy 100.00%, cross entropy 2.354002\n",
            "INFO:absl:Step #1271: rate 0.000020, accuracy 0.00%, cross entropy 2.648195\n",
            "INFO:absl:Step #1272: rate 0.000020, accuracy 0.00%, cross entropy 2.654544\n",
            "INFO:absl:Step #1273: rate 0.000020, accuracy 0.00%, cross entropy 2.363854\n",
            "INFO:absl:Step #1274: rate 0.000020, accuracy 0.00%, cross entropy 2.708656\n",
            "INFO:absl:Step #1275: rate 0.000020, accuracy 0.00%, cross entropy 2.556301\n",
            "INFO:absl:Step #1276: rate 0.000020, accuracy 0.00%, cross entropy 2.704994\n",
            "INFO:absl:Step #1277: rate 0.000020, accuracy 0.00%, cross entropy 2.402804\n",
            "INFO:absl:Step #1278: rate 0.000020, accuracy 0.00%, cross entropy 2.617601\n",
            "INFO:absl:Step #1279: rate 0.000020, accuracy 0.00%, cross entropy 2.431998\n",
            "INFO:absl:Step #1280: rate 0.000020, accuracy 0.00%, cross entropy 2.615272\n",
            "INFO:absl:Step #1281: rate 0.000020, accuracy 0.00%, cross entropy 2.569258\n",
            "INFO:absl:Step #1282: rate 0.000020, accuracy 0.00%, cross entropy 2.631317\n",
            "INFO:absl:Step #1283: rate 0.000020, accuracy 0.00%, cross entropy 2.386636\n",
            "INFO:absl:Step #1284: rate 0.000020, accuracy 0.00%, cross entropy 2.463601\n",
            "INFO:absl:Step #1285: rate 0.000020, accuracy 0.00%, cross entropy 2.437413\n",
            "INFO:absl:Step #1286: rate 0.000020, accuracy 0.00%, cross entropy 2.452039\n",
            "INFO:absl:Step #1287: rate 0.000020, accuracy 0.00%, cross entropy 2.472939\n",
            "INFO:absl:Step #1288: rate 0.000020, accuracy 0.00%, cross entropy 2.453554\n",
            "INFO:absl:Step #1289: rate 0.000020, accuracy 0.00%, cross entropy 2.404056\n",
            "INFO:absl:Step #1290: rate 0.000020, accuracy 0.00%, cross entropy 2.470520\n",
            "INFO:absl:Step #1291: rate 0.000020, accuracy 0.00%, cross entropy 2.555990\n",
            "INFO:absl:Step #1292: rate 0.000020, accuracy 0.00%, cross entropy 2.452011\n",
            "INFO:absl:Step #1293: rate 0.000020, accuracy 0.00%, cross entropy 2.576626\n",
            "INFO:absl:Step #1294: rate 0.000020, accuracy 0.00%, cross entropy 2.387605\n",
            "INFO:absl:Step #1295: rate 0.000020, accuracy 0.00%, cross entropy 2.582516\n",
            "INFO:absl:Step #1296: rate 0.000020, accuracy 0.00%, cross entropy 2.631200\n",
            "INFO:absl:Step #1297: rate 0.000020, accuracy 0.00%, cross entropy 2.453874\n",
            "INFO:absl:Step #1298: rate 0.000020, accuracy 0.00%, cross entropy 2.576545\n",
            "INFO:absl:Step #1299: rate 0.000020, accuracy 0.00%, cross entropy 2.390530\n",
            "INFO:absl:Step #1300: rate 0.000020, accuracy 0.00%, cross entropy 2.446765\n",
            "INFO:absl:Step #1301: rate 0.000020, accuracy 100.00%, cross entropy 2.394352\n",
            "INFO:absl:Step #1302: rate 0.000020, accuracy 0.00%, cross entropy 2.629659\n",
            "INFO:absl:Step #1303: rate 0.000020, accuracy 100.00%, cross entropy 2.351568\n",
            "INFO:absl:Step #1304: rate 0.000020, accuracy 0.00%, cross entropy 2.424419\n",
            "INFO:absl:Step #1305: rate 0.000020, accuracy 0.00%, cross entropy 2.679366\n",
            "INFO:absl:Step #1306: rate 0.000020, accuracy 0.00%, cross entropy 2.655511\n",
            "INFO:absl:Step #1307: rate 0.000020, accuracy 0.00%, cross entropy 2.455784\n",
            "INFO:absl:Step #1308: rate 0.000020, accuracy 0.00%, cross entropy 2.449616\n",
            "INFO:absl:Step #1309: rate 0.000020, accuracy 0.00%, cross entropy 2.466362\n",
            "INFO:absl:Step #1310: rate 0.000020, accuracy 0.00%, cross entropy 2.610152\n",
            "INFO:absl:Step #1311: rate 0.000020, accuracy 100.00%, cross entropy 2.344790\n",
            "INFO:absl:Step #1312: rate 0.000020, accuracy 0.00%, cross entropy 2.427295\n",
            "INFO:absl:Step #1313: rate 0.000020, accuracy 0.00%, cross entropy 2.633120\n",
            "INFO:absl:Step #1314: rate 0.000020, accuracy 100.00%, cross entropy 2.367854\n",
            "INFO:absl:Step #1315: rate 0.000020, accuracy 0.00%, cross entropy 2.403473\n",
            "INFO:absl:Step #1316: rate 0.000020, accuracy 0.00%, cross entropy 2.530118\n",
            "INFO:absl:Step #1317: rate 0.000020, accuracy 0.00%, cross entropy 2.423153\n",
            "INFO:absl:Step #1318: rate 0.000020, accuracy 0.00%, cross entropy 2.611336\n",
            "INFO:absl:Step #1319: rate 0.000020, accuracy 0.00%, cross entropy 2.428540\n",
            "INFO:absl:Step #1320: rate 0.000020, accuracy 0.00%, cross entropy 2.447751\n",
            "INFO:absl:Step #1321: rate 0.000020, accuracy 0.00%, cross entropy 2.420136\n",
            "INFO:absl:Step #1322: rate 0.000020, accuracy 0.00%, cross entropy 2.465763\n",
            "INFO:absl:Step #1323: rate 0.000020, accuracy 0.00%, cross entropy 2.529887\n",
            "INFO:absl:Step #1324: rate 0.000020, accuracy 0.00%, cross entropy 2.477618\n",
            "INFO:absl:Step #1325: rate 0.000020, accuracy 0.00%, cross entropy 2.491054\n",
            "INFO:absl:Step #1326: rate 0.000020, accuracy 0.00%, cross entropy 2.456653\n",
            "INFO:absl:Step #1327: rate 0.000020, accuracy 0.00%, cross entropy 2.697659\n",
            "INFO:absl:Step #1328: rate 0.000020, accuracy 0.00%, cross entropy 2.387092\n",
            "INFO:absl:Step #1329: rate 0.000020, accuracy 0.00%, cross entropy 2.393024\n",
            "INFO:absl:Step #1330: rate 0.000020, accuracy 0.00%, cross entropy 2.516809\n",
            "INFO:absl:Step #1331: rate 0.000020, accuracy 0.00%, cross entropy 2.544405\n",
            "INFO:absl:Step #1332: rate 0.000020, accuracy 0.00%, cross entropy 2.422760\n",
            "INFO:absl:Step #1333: rate 0.000020, accuracy 0.00%, cross entropy 2.355156\n",
            "INFO:absl:Step #1334: rate 0.000020, accuracy 0.00%, cross entropy 2.652354\n",
            "INFO:absl:Step #1335: rate 0.000020, accuracy 0.00%, cross entropy 2.400605\n",
            "INFO:absl:Step #1336: rate 0.000020, accuracy 0.00%, cross entropy 2.486537\n",
            "INFO:absl:Step #1337: rate 0.000020, accuracy 0.00%, cross entropy 2.376511\n",
            "INFO:absl:Step #1338: rate 0.000020, accuracy 0.00%, cross entropy 2.450840\n",
            "INFO:absl:Step #1339: rate 0.000020, accuracy 0.00%, cross entropy 2.457583\n",
            "INFO:absl:Step #1340: rate 0.000020, accuracy 0.00%, cross entropy 2.497872\n",
            "INFO:absl:Step #1341: rate 0.000020, accuracy 0.00%, cross entropy 2.502098\n",
            "INFO:absl:Step #1342: rate 0.000020, accuracy 0.00%, cross entropy 2.497027\n",
            "INFO:absl:Step #1343: rate 0.000020, accuracy 0.00%, cross entropy 2.398579\n",
            "INFO:absl:Step #1344: rate 0.000020, accuracy 0.00%, cross entropy 2.675814\n",
            "INFO:absl:Step #1345: rate 0.000020, accuracy 0.00%, cross entropy 2.433473\n",
            "INFO:absl:Step #1346: rate 0.000020, accuracy 0.00%, cross entropy 2.484488\n",
            "INFO:absl:Step #1347: rate 0.000020, accuracy 0.00%, cross entropy 2.746848\n",
            "INFO:absl:Step #1348: rate 0.000020, accuracy 0.00%, cross entropy 2.583215\n",
            "INFO:absl:Step #1349: rate 0.000020, accuracy 0.00%, cross entropy 2.713257\n",
            "INFO:absl:Step #1350: rate 0.000020, accuracy 0.00%, cross entropy 2.474962\n",
            "INFO:absl:Step #1351: rate 0.000020, accuracy 0.00%, cross entropy 2.540026\n",
            "INFO:absl:Step #1352: rate 0.000020, accuracy 0.00%, cross entropy 2.547021\n",
            "INFO:absl:Step #1353: rate 0.000020, accuracy 0.00%, cross entropy 2.443286\n",
            "INFO:absl:Step #1354: rate 0.000020, accuracy 0.00%, cross entropy 2.339512\n",
            "INFO:absl:Step #1355: rate 0.000020, accuracy 0.00%, cross entropy 2.418257\n",
            "INFO:absl:Step #1356: rate 0.000020, accuracy 0.00%, cross entropy 2.620049\n",
            "INFO:absl:Step #1357: rate 0.000020, accuracy 0.00%, cross entropy 2.772513\n",
            "INFO:absl:Step #1358: rate 0.000020, accuracy 100.00%, cross entropy 2.387530\n",
            "INFO:absl:Step #1359: rate 0.000020, accuracy 0.00%, cross entropy 2.452518\n",
            "INFO:absl:Step #1360: rate 0.000020, accuracy 0.00%, cross entropy 2.418434\n",
            "INFO:absl:Step #1361: rate 0.000020, accuracy 0.00%, cross entropy 2.410287\n",
            "INFO:absl:Step #1362: rate 0.000020, accuracy 0.00%, cross entropy 2.394887\n",
            "INFO:absl:Step #1363: rate 0.000020, accuracy 0.00%, cross entropy 2.391832\n",
            "INFO:absl:Step #1364: rate 0.000020, accuracy 0.00%, cross entropy 2.365105\n",
            "INFO:absl:Step #1365: rate 0.000020, accuracy 0.00%, cross entropy 2.677223\n",
            "INFO:absl:Step #1366: rate 0.000020, accuracy 0.00%, cross entropy 2.404670\n",
            "INFO:absl:Step #1367: rate 0.000020, accuracy 0.00%, cross entropy 2.475366\n",
            "INFO:absl:Step #1368: rate 0.000020, accuracy 0.00%, cross entropy 2.600304\n",
            "INFO:absl:Step #1369: rate 0.000020, accuracy 0.00%, cross entropy 2.388387\n",
            "INFO:absl:Step #1370: rate 0.000020, accuracy 0.00%, cross entropy 2.462027\n",
            "INFO:absl:Step #1371: rate 0.000020, accuracy 0.00%, cross entropy 2.609289\n",
            "INFO:absl:Step #1372: rate 0.000020, accuracy 0.00%, cross entropy 2.547545\n",
            "INFO:absl:Step #1373: rate 0.000020, accuracy 0.00%, cross entropy 2.554523\n",
            "INFO:absl:Step #1374: rate 0.000020, accuracy 0.00%, cross entropy 2.440613\n",
            "INFO:absl:Step #1375: rate 0.000020, accuracy 0.00%, cross entropy 2.601518\n",
            "INFO:absl:Step #1376: rate 0.000020, accuracy 0.00%, cross entropy 2.455946\n",
            "INFO:absl:Step #1377: rate 0.000020, accuracy 0.00%, cross entropy 2.410046\n",
            "INFO:absl:Step #1378: rate 0.000020, accuracy 0.00%, cross entropy 2.467969\n",
            "INFO:absl:Step #1379: rate 0.000020, accuracy 0.00%, cross entropy 2.521890\n",
            "INFO:absl:Step #1380: rate 0.000020, accuracy 0.00%, cross entropy 2.391370\n",
            "INFO:absl:Step #1381: rate 0.000020, accuracy 0.00%, cross entropy 2.441041\n",
            "INFO:absl:Step #1382: rate 0.000020, accuracy 0.00%, cross entropy 2.421885\n",
            "INFO:absl:Step #1383: rate 0.000020, accuracy 0.00%, cross entropy 2.476576\n",
            "INFO:absl:Step #1384: rate 0.000020, accuracy 0.00%, cross entropy 2.424096\n",
            "INFO:absl:Step #1385: rate 0.000020, accuracy 0.00%, cross entropy 2.628763\n",
            "INFO:absl:Step #1386: rate 0.000020, accuracy 0.00%, cross entropy 2.501182\n",
            "INFO:absl:Step #1387: rate 0.000020, accuracy 0.00%, cross entropy 2.530415\n",
            "INFO:absl:Step #1388: rate 0.000020, accuracy 0.00%, cross entropy 2.578747\n",
            "INFO:absl:Step #1389: rate 0.000020, accuracy 0.00%, cross entropy 2.405700\n",
            "INFO:absl:Step #1390: rate 0.000020, accuracy 0.00%, cross entropy 2.632439\n",
            "INFO:absl:Step #1391: rate 0.000020, accuracy 0.00%, cross entropy 2.424958\n",
            "INFO:absl:Step #1392: rate 0.000020, accuracy 0.00%, cross entropy 2.613348\n",
            "INFO:absl:Step #1393: rate 0.000020, accuracy 0.00%, cross entropy 2.461256\n",
            "INFO:absl:Step #1394: rate 0.000020, accuracy 0.00%, cross entropy 2.410520\n",
            "INFO:absl:Step #1395: rate 0.000020, accuracy 0.00%, cross entropy 2.439326\n",
            "INFO:absl:Step #1396: rate 0.000020, accuracy 0.00%, cross entropy 2.690684\n",
            "INFO:absl:Step #1397: rate 0.000020, accuracy 100.00%, cross entropy 2.353750\n",
            "INFO:absl:Step #1398: rate 0.000020, accuracy 0.00%, cross entropy 2.395415\n",
            "INFO:absl:Step #1399: rate 0.000020, accuracy 0.00%, cross entropy 2.580736\n",
            "INFO:absl:Step #1400: rate 0.000020, accuracy 0.00%, cross entropy 2.431050\n",
            "INFO:absl:Step #1401: rate 0.000020, accuracy 0.00%, cross entropy 2.481540\n",
            "INFO:absl:Step #1402: rate 0.000020, accuracy 0.00%, cross entropy 2.563826\n",
            "INFO:absl:Step #1403: rate 0.000020, accuracy 0.00%, cross entropy 2.432489\n",
            "INFO:absl:Step #1404: rate 0.000020, accuracy 100.00%, cross entropy 2.343380\n",
            "INFO:absl:Step #1405: rate 0.000020, accuracy 0.00%, cross entropy 2.516563\n",
            "INFO:absl:Step #1406: rate 0.000020, accuracy 0.00%, cross entropy 2.790119\n",
            "INFO:absl:Step #1407: rate 0.000020, accuracy 0.00%, cross entropy 2.567845\n",
            "INFO:absl:Step #1408: rate 0.000020, accuracy 0.00%, cross entropy 2.465504\n",
            "INFO:absl:Step #1409: rate 0.000020, accuracy 0.00%, cross entropy 2.634641\n",
            "INFO:absl:Step #1410: rate 0.000020, accuracy 0.00%, cross entropy 2.393307\n",
            "INFO:absl:Step #1411: rate 0.000020, accuracy 0.00%, cross entropy 2.494478\n",
            "INFO:absl:Step #1412: rate 0.000020, accuracy 0.00%, cross entropy 2.667092\n",
            "INFO:absl:Step #1413: rate 0.000020, accuracy 0.00%, cross entropy 2.430191\n",
            "INFO:absl:Step #1414: rate 0.000020, accuracy 100.00%, cross entropy 2.324113\n",
            "INFO:absl:Step #1415: rate 0.000020, accuracy 0.00%, cross entropy 2.462945\n",
            "INFO:absl:Step #1416: rate 0.000020, accuracy 0.00%, cross entropy 2.562171\n",
            "INFO:absl:Step #1417: rate 0.000020, accuracy 100.00%, cross entropy 2.329383\n",
            "INFO:absl:Step #1418: rate 0.000020, accuracy 0.00%, cross entropy 2.383756\n",
            "INFO:absl:Step #1419: rate 0.000020, accuracy 0.00%, cross entropy 2.430655\n",
            "INFO:absl:Step #1420: rate 0.000020, accuracy 100.00%, cross entropy 2.381068\n",
            "INFO:absl:Step #1421: rate 0.000020, accuracy 0.00%, cross entropy 2.385358\n",
            "INFO:absl:Step #1422: rate 0.000020, accuracy 100.00%, cross entropy 2.332480\n",
            "INFO:absl:Step #1423: rate 0.000020, accuracy 0.00%, cross entropy 2.433138\n",
            "INFO:absl:Step #1424: rate 0.000020, accuracy 0.00%, cross entropy 2.390600\n",
            "INFO:absl:Step #1425: rate 0.000020, accuracy 0.00%, cross entropy 2.393640\n",
            "INFO:absl:Step #1426: rate 0.000020, accuracy 0.00%, cross entropy 2.494571\n",
            "INFO:absl:Step #1427: rate 0.000020, accuracy 0.00%, cross entropy 2.525580\n",
            "INFO:absl:Step #1428: rate 0.000020, accuracy 0.00%, cross entropy 2.687726\n",
            "INFO:absl:Step #1429: rate 0.000020, accuracy 0.00%, cross entropy 2.406730\n",
            "INFO:absl:Step #1430: rate 0.000020, accuracy 0.00%, cross entropy 2.493371\n",
            "INFO:absl:Step #1431: rate 0.000020, accuracy 0.00%, cross entropy 2.407956\n",
            "INFO:absl:Step #1432: rate 0.000020, accuracy 0.00%, cross entropy 2.485490\n",
            "INFO:absl:Step #1433: rate 0.000020, accuracy 0.00%, cross entropy 2.408107\n",
            "INFO:absl:Step #1434: rate 0.000020, accuracy 0.00%, cross entropy 2.658128\n",
            "INFO:absl:Step #1435: rate 0.000020, accuracy 0.00%, cross entropy 2.428461\n",
            "INFO:absl:Step #1436: rate 0.000020, accuracy 0.00%, cross entropy 2.422299\n",
            "INFO:absl:Step #1437: rate 0.000020, accuracy 0.00%, cross entropy 2.621753\n",
            "INFO:absl:Step #1438: rate 0.000020, accuracy 0.00%, cross entropy 2.418868\n",
            "INFO:absl:Step #1439: rate 0.000020, accuracy 100.00%, cross entropy 2.289155\n",
            "INFO:absl:Step #1440: rate 0.000020, accuracy 100.00%, cross entropy 2.346087\n",
            "INFO:absl:Step #1441: rate 0.000020, accuracy 0.00%, cross entropy 2.502073\n",
            "INFO:absl:Step #1442: rate 0.000020, accuracy 0.00%, cross entropy 2.379487\n",
            "INFO:absl:Step #1443: rate 0.000020, accuracy 0.00%, cross entropy 2.566348\n",
            "INFO:absl:Step #1444: rate 0.000020, accuracy 100.00%, cross entropy 2.348709\n",
            "INFO:absl:Step #1445: rate 0.000020, accuracy 0.00%, cross entropy 2.435867\n",
            "INFO:absl:Step #1446: rate 0.000020, accuracy 0.00%, cross entropy 2.660110\n",
            "INFO:absl:Step #1447: rate 0.000020, accuracy 0.00%, cross entropy 2.477878\n",
            "INFO:absl:Step #1448: rate 0.000020, accuracy 100.00%, cross entropy 2.376426\n",
            "INFO:absl:Step #1449: rate 0.000020, accuracy 0.00%, cross entropy 2.537769\n",
            "INFO:absl:Step #1450: rate 0.000020, accuracy 0.00%, cross entropy 2.448479\n",
            "INFO:absl:Step #1451: rate 0.000020, accuracy 0.00%, cross entropy 2.448262\n",
            "INFO:absl:Step #1452: rate 0.000020, accuracy 0.00%, cross entropy 2.435471\n",
            "INFO:absl:Step #1453: rate 0.000020, accuracy 0.00%, cross entropy 2.513577\n",
            "INFO:absl:Step #1454: rate 0.000020, accuracy 100.00%, cross entropy 2.344875\n",
            "INFO:absl:Step #1455: rate 0.000020, accuracy 0.00%, cross entropy 2.482510\n",
            "INFO:absl:Step #1456: rate 0.000020, accuracy 100.00%, cross entropy 2.346163\n",
            "INFO:absl:Step #1457: rate 0.000020, accuracy 0.00%, cross entropy 2.435094\n",
            "INFO:absl:Step #1458: rate 0.000020, accuracy 0.00%, cross entropy 2.725157\n",
            "INFO:absl:Step #1459: rate 0.000020, accuracy 0.00%, cross entropy 2.593240\n",
            "INFO:absl:Step #1460: rate 0.000020, accuracy 0.00%, cross entropy 2.473034\n",
            "INFO:absl:Step #1461: rate 0.000020, accuracy 100.00%, cross entropy 2.380228\n",
            "INFO:absl:Step #1462: rate 0.000020, accuracy 0.00%, cross entropy 2.670076\n",
            "INFO:absl:Step #1463: rate 0.000020, accuracy 0.00%, cross entropy 2.494618\n",
            "INFO:absl:Step #1464: rate 0.000020, accuracy 0.00%, cross entropy 2.411818\n",
            "INFO:absl:Step #1465: rate 0.000020, accuracy 100.00%, cross entropy 2.328700\n",
            "INFO:absl:Step #1466: rate 0.000020, accuracy 0.00%, cross entropy 2.479970\n",
            "INFO:absl:Step #1467: rate 0.000020, accuracy 0.00%, cross entropy 2.575997\n",
            "INFO:absl:Step #1468: rate 0.000020, accuracy 0.00%, cross entropy 2.519768\n",
            "INFO:absl:Step #1469: rate 0.000020, accuracy 0.00%, cross entropy 2.390253\n",
            "INFO:absl:Step #1470: rate 0.000020, accuracy 0.00%, cross entropy 2.464169\n",
            "INFO:absl:Step #1471: rate 0.000020, accuracy 0.00%, cross entropy 2.377329\n",
            "INFO:absl:Step #1472: rate 0.000020, accuracy 0.00%, cross entropy 2.406509\n",
            "INFO:absl:Step #1473: rate 0.000020, accuracy 100.00%, cross entropy 2.338857\n",
            "INFO:absl:Step #1474: rate 0.000020, accuracy 0.00%, cross entropy 2.366377\n",
            "INFO:absl:Step #1475: rate 0.000020, accuracy 0.00%, cross entropy 2.518632\n",
            "INFO:absl:Step #1476: rate 0.000020, accuracy 0.00%, cross entropy 2.423716\n",
            "INFO:absl:Step #1477: rate 0.000020, accuracy 100.00%, cross entropy 2.360437\n",
            "INFO:absl:Step #1478: rate 0.000020, accuracy 0.00%, cross entropy 2.372257\n",
            "INFO:absl:Step #1479: rate 0.000020, accuracy 0.00%, cross entropy 2.552246\n",
            "INFO:absl:Step #1480: rate 0.000020, accuracy 0.00%, cross entropy 2.435223\n",
            "INFO:absl:Step #1481: rate 0.000020, accuracy 0.00%, cross entropy 2.461641\n",
            "INFO:absl:Step #1482: rate 0.000020, accuracy 0.00%, cross entropy 2.698055\n",
            "INFO:absl:Step #1483: rate 0.000020, accuracy 0.00%, cross entropy 2.542581\n",
            "INFO:absl:Step #1484: rate 0.000020, accuracy 0.00%, cross entropy 2.517865\n",
            "INFO:absl:Step #1485: rate 0.000020, accuracy 0.00%, cross entropy 2.354869\n",
            "INFO:absl:Step #1486: rate 0.000020, accuracy 0.00%, cross entropy 2.586596\n",
            "INFO:absl:Step #1487: rate 0.000020, accuracy 0.00%, cross entropy 2.575361\n",
            "INFO:absl:Step #1488: rate 0.000020, accuracy 0.00%, cross entropy 2.414333\n",
            "INFO:absl:Step #1489: rate 0.000020, accuracy 100.00%, cross entropy 2.338087\n",
            "INFO:absl:Step #1490: rate 0.000020, accuracy 0.00%, cross entropy 2.700677\n",
            "INFO:absl:Step #1491: rate 0.000020, accuracy 0.00%, cross entropy 2.527559\n",
            "INFO:absl:Step #1492: rate 0.000020, accuracy 0.00%, cross entropy 2.415380\n",
            "INFO:absl:Step #1493: rate 0.000020, accuracy 0.00%, cross entropy 2.377576\n",
            "INFO:absl:Step #1494: rate 0.000020, accuracy 0.00%, cross entropy 2.399364\n",
            "INFO:absl:Step #1495: rate 0.000020, accuracy 0.00%, cross entropy 2.612380\n",
            "INFO:absl:Step #1496: rate 0.000020, accuracy 0.00%, cross entropy 2.651419\n",
            "INFO:absl:Step #1497: rate 0.000020, accuracy 0.00%, cross entropy 2.369637\n",
            "INFO:absl:Step #1498: rate 0.000020, accuracy 0.00%, cross entropy 2.411032\n",
            "INFO:absl:Step #1499: rate 0.000020, accuracy 0.00%, cross entropy 2.486528\n",
            "INFO:absl:Step #1500: rate 0.000020, accuracy 0.00%, cross entropy 2.554251\n",
            "INFO:absl:Step #1501: rate 0.000020, accuracy 0.00%, cross entropy 2.625857\n",
            "INFO:absl:Step #1502: rate 0.000020, accuracy 0.00%, cross entropy 2.548604\n",
            "INFO:absl:Step #1503: rate 0.000020, accuracy 0.00%, cross entropy 2.510336\n",
            "INFO:absl:Step #1504: rate 0.000020, accuracy 0.00%, cross entropy 2.666799\n",
            "INFO:absl:Step #1505: rate 0.000020, accuracy 0.00%, cross entropy 2.504822\n",
            "INFO:absl:Step #1506: rate 0.000020, accuracy 0.00%, cross entropy 2.648409\n",
            "INFO:absl:Step #1507: rate 0.000020, accuracy 0.00%, cross entropy 2.450567\n",
            "INFO:absl:Step #1508: rate 0.000020, accuracy 0.00%, cross entropy 2.334974\n",
            "INFO:absl:Step #1509: rate 0.000020, accuracy 0.00%, cross entropy 2.466862\n",
            "INFO:absl:Step #1510: rate 0.000020, accuracy 0.00%, cross entropy 2.479558\n",
            "INFO:absl:Step #1511: rate 0.000020, accuracy 0.00%, cross entropy 2.477937\n",
            "INFO:absl:Step #1512: rate 0.000020, accuracy 0.00%, cross entropy 2.372086\n",
            "INFO:absl:Step #1513: rate 0.000020, accuracy 100.00%, cross entropy 2.331873\n",
            "INFO:absl:Step #1514: rate 0.000020, accuracy 0.00%, cross entropy 2.589064\n",
            "INFO:absl:Step #1515: rate 0.000020, accuracy 0.00%, cross entropy 2.462479\n",
            "INFO:absl:Step #1516: rate 0.000020, accuracy 0.00%, cross entropy 2.630567\n",
            "INFO:absl:Step #1517: rate 0.000020, accuracy 0.00%, cross entropy 2.377323\n",
            "INFO:absl:Step #1518: rate 0.000020, accuracy 0.00%, cross entropy 2.517473\n",
            "INFO:absl:Step #1519: rate 0.000020, accuracy 0.00%, cross entropy 2.397515\n",
            "INFO:absl:Step #1520: rate 0.000020, accuracy 0.00%, cross entropy 2.527987\n",
            "INFO:absl:Step #1521: rate 0.000020, accuracy 100.00%, cross entropy 2.293188\n",
            "INFO:absl:Step #1522: rate 0.000020, accuracy 0.00%, cross entropy 2.611607\n",
            "INFO:absl:Step #1523: rate 0.000020, accuracy 0.00%, cross entropy 2.682751\n",
            "INFO:absl:Step #1524: rate 0.000020, accuracy 0.00%, cross entropy 2.345529\n",
            "INFO:absl:Step #1525: rate 0.000020, accuracy 0.00%, cross entropy 2.374093\n",
            "INFO:absl:Step #1526: rate 0.000020, accuracy 0.00%, cross entropy 2.487179\n",
            "INFO:absl:Step #1527: rate 0.000020, accuracy 0.00%, cross entropy 2.413801\n",
            "INFO:absl:Step #1528: rate 0.000020, accuracy 0.00%, cross entropy 2.566016\n",
            "INFO:absl:Step #1529: rate 0.000020, accuracy 0.00%, cross entropy 2.541295\n",
            "INFO:absl:Step #1530: rate 0.000020, accuracy 0.00%, cross entropy 2.646270\n",
            "INFO:absl:Step #1531: rate 0.000020, accuracy 0.00%, cross entropy 2.507606\n",
            "INFO:absl:Step #1532: rate 0.000020, accuracy 0.00%, cross entropy 2.524583\n",
            "INFO:absl:Step #1533: rate 0.000020, accuracy 0.00%, cross entropy 2.545799\n",
            "INFO:absl:Step #1534: rate 0.000020, accuracy 0.00%, cross entropy 2.422811\n",
            "INFO:absl:Step #1535: rate 0.000020, accuracy 0.00%, cross entropy 2.585899\n",
            "INFO:absl:Step #1536: rate 0.000020, accuracy 0.00%, cross entropy 2.383630\n",
            "INFO:absl:Step #1537: rate 0.000020, accuracy 100.00%, cross entropy 2.336340\n",
            "INFO:absl:Step #1538: rate 0.000020, accuracy 0.00%, cross entropy 2.505442\n",
            "INFO:absl:Step #1539: rate 0.000020, accuracy 0.00%, cross entropy 2.563663\n",
            "INFO:absl:Step #1540: rate 0.000020, accuracy 0.00%, cross entropy 2.415796\n",
            "INFO:absl:Step #1541: rate 0.000020, accuracy 0.00%, cross entropy 2.491130\n",
            "INFO:absl:Step #1542: rate 0.000020, accuracy 100.00%, cross entropy 2.343012\n",
            "INFO:absl:Step #1543: rate 0.000020, accuracy 0.00%, cross entropy 2.334358\n",
            "INFO:absl:Step #1544: rate 0.000020, accuracy 0.00%, cross entropy 2.535023\n",
            "INFO:absl:Step #1545: rate 0.000020, accuracy 0.00%, cross entropy 2.527852\n",
            "INFO:absl:Step #1546: rate 0.000020, accuracy 0.00%, cross entropy 2.393075\n",
            "INFO:absl:Step #1547: rate 0.000020, accuracy 0.00%, cross entropy 2.479460\n",
            "INFO:absl:Step #1548: rate 0.000020, accuracy 100.00%, cross entropy 2.347528\n",
            "INFO:absl:Step #1549: rate 0.000020, accuracy 0.00%, cross entropy 2.528214\n",
            "INFO:absl:Step #1550: rate 0.000020, accuracy 0.00%, cross entropy 2.486181\n",
            "INFO:absl:Step #1551: rate 0.000020, accuracy 0.00%, cross entropy 2.496477\n",
            "INFO:absl:Step #1552: rate 0.000020, accuracy 0.00%, cross entropy 2.615742\n",
            "INFO:absl:Step #1553: rate 0.000020, accuracy 0.00%, cross entropy 2.373176\n",
            "INFO:absl:Step #1554: rate 0.000020, accuracy 0.00%, cross entropy 2.638467\n",
            "INFO:absl:Step #1555: rate 0.000020, accuracy 0.00%, cross entropy 2.376545\n",
            "INFO:absl:Step #1556: rate 0.000020, accuracy 0.00%, cross entropy 2.478070\n",
            "INFO:absl:Step #1557: rate 0.000020, accuracy 0.00%, cross entropy 2.459261\n",
            "INFO:absl:Step #1558: rate 0.000020, accuracy 100.00%, cross entropy 2.343810\n",
            "INFO:absl:Step #1559: rate 0.000020, accuracy 0.00%, cross entropy 2.463584\n",
            "INFO:absl:Step #1560: rate 0.000020, accuracy 0.00%, cross entropy 2.351707\n",
            "INFO:absl:Step #1561: rate 0.000020, accuracy 0.00%, cross entropy 2.586462\n",
            "INFO:absl:Step #1562: rate 0.000020, accuracy 0.00%, cross entropy 2.425531\n",
            "INFO:absl:Step #1563: rate 0.000020, accuracy 0.00%, cross entropy 2.390306\n",
            "INFO:absl:Step #1564: rate 0.000020, accuracy 0.00%, cross entropy 2.358508\n",
            "INFO:absl:Step #1565: rate 0.000020, accuracy 0.00%, cross entropy 2.457199\n",
            "INFO:absl:Step #1566: rate 0.000020, accuracy 0.00%, cross entropy 2.461408\n",
            "INFO:absl:Step #1567: rate 0.000020, accuracy 0.00%, cross entropy 2.507220\n",
            "INFO:absl:Step #1568: rate 0.000020, accuracy 0.00%, cross entropy 2.486937\n",
            "INFO:absl:Step #1569: rate 0.000020, accuracy 0.00%, cross entropy 2.640773\n",
            "INFO:absl:Step #1570: rate 0.000020, accuracy 0.00%, cross entropy 2.545506\n",
            "INFO:absl:Step #1571: rate 0.000020, accuracy 0.00%, cross entropy 2.638617\n",
            "INFO:absl:Step #1572: rate 0.000020, accuracy 0.00%, cross entropy 2.545686\n",
            "INFO:absl:Step #1573: rate 0.000020, accuracy 0.00%, cross entropy 2.444230\n",
            "INFO:absl:Step #1574: rate 0.000020, accuracy 0.00%, cross entropy 2.434532\n",
            "INFO:absl:Step #1575: rate 0.000020, accuracy 0.00%, cross entropy 2.412246\n",
            "INFO:absl:Step #1576: rate 0.000020, accuracy 0.00%, cross entropy 2.455914\n",
            "INFO:absl:Step #1577: rate 0.000020, accuracy 0.00%, cross entropy 2.582479\n",
            "INFO:absl:Step #1578: rate 0.000020, accuracy 0.00%, cross entropy 2.725471\n",
            "INFO:absl:Step #1579: rate 0.000020, accuracy 0.00%, cross entropy 2.714083\n",
            "INFO:absl:Step #1580: rate 0.000020, accuracy 0.00%, cross entropy 2.350828\n",
            "INFO:absl:Step #1581: rate 0.000020, accuracy 0.00%, cross entropy 2.378088\n",
            "INFO:absl:Step #1582: rate 0.000020, accuracy 0.00%, cross entropy 2.483135\n",
            "INFO:absl:Step #1583: rate 0.000020, accuracy 0.00%, cross entropy 2.354826\n",
            "INFO:absl:Step #1584: rate 0.000020, accuracy 0.00%, cross entropy 2.386445\n",
            "INFO:absl:Step #1585: rate 0.000020, accuracy 0.00%, cross entropy 2.660094\n",
            "INFO:absl:Step #1586: rate 0.000020, accuracy 0.00%, cross entropy 2.467614\n",
            "INFO:absl:Step #1587: rate 0.000020, accuracy 0.00%, cross entropy 2.391848\n",
            "INFO:absl:Step #1588: rate 0.000020, accuracy 0.00%, cross entropy 2.495184\n",
            "INFO:absl:Step #1589: rate 0.000020, accuracy 0.00%, cross entropy 2.377981\n",
            "INFO:absl:Step #1590: rate 0.000020, accuracy 0.00%, cross entropy 2.445961\n",
            "INFO:absl:Step #1591: rate 0.000020, accuracy 0.00%, cross entropy 2.442546\n",
            "INFO:absl:Step #1592: rate 0.000020, accuracy 0.00%, cross entropy 2.515762\n",
            "INFO:absl:Step #1593: rate 0.000020, accuracy 100.00%, cross entropy 2.364078\n",
            "INFO:absl:Step #1594: rate 0.000020, accuracy 100.00%, cross entropy 2.351504\n",
            "INFO:absl:Step #1595: rate 0.000020, accuracy 0.00%, cross entropy 2.531051\n",
            "INFO:absl:Step #1596: rate 0.000020, accuracy 0.00%, cross entropy 2.664672\n",
            "INFO:absl:Step #1597: rate 0.000020, accuracy 100.00%, cross entropy 2.300258\n",
            "INFO:absl:Step #1598: rate 0.000020, accuracy 0.00%, cross entropy 2.428082\n",
            "INFO:absl:Step #1599: rate 0.000020, accuracy 0.00%, cross entropy 2.418059\n",
            "INFO:absl:Step #1600: rate 0.000020, accuracy 100.00%, cross entropy 2.293931\n",
            "INFO:absl:Step 1600: Validation accuracy = 6.03% (N=4445)\n",
            "INFO:absl:So far the best validation accuracy is 8.19%\n",
            "/usr/local/lib/python3.7/dist-packages/keras/backend.py:414: UserWarning: `tf.keras.backend.set_learning_phase` is deprecated and will be removed after 2020-10-11. To update it, simply pass a True/False value to the `training` argument of the `__call__` method of your layer or model.\n",
            "  warnings.warn('`tf.keras.backend.set_learning_phase` is deprecated and '\n",
            "INFO:absl:set_size=4890\n",
            "INFO:absl:Final test accuracy = 6.87% (N=4890)\n"
          ]
        }
      ]
    },
    {
      "cell_type": "markdown",
      "metadata": {
        "id": "3iMeZ-eYv7eH"
      },
      "source": [
        "## **Run model evaluation**\n",
        "### TF **Run non streaming inference**"
      ]
    },
    {
      "cell_type": "code",
      "metadata": {
        "id": "rRlhrJsYwFCY",
        "outputId": "7c5f407e-4303-4afc-e68f-edd471afe24b",
        "colab": {
          "base_uri": "https://localhost:8080/"
        }
      },
      "source": [
        "folder_name = 'tf'\n",
        "test.tf_non_stream_model_accuracy(flags, folder_name)"
      ],
      "execution_count": 62,
      "outputs": [
        {
          "output_type": "stream",
          "name": "stderr",
          "text": [
            "/usr/local/lib/python3.7/dist-packages/keras/backend.py:414: UserWarning: `tf.keras.backend.set_learning_phase` is deprecated and will be removed after 2020-10-11. To update it, simply pass a True/False value to the `training` argument of the `__call__` method of your layer or model.\n",
            "  warnings.warn('`tf.keras.backend.set_learning_phase` is deprecated and '\n",
            "WARNING:absl:There is no need to use Stream on time dim with size 1\n",
            "/usr/local/lib/python3.7/dist-packages/keras/engine/training_v1.py:2079: UserWarning: `Model.state_updates` will be removed in a future version. This property should not be used in TensorFlow 2.0, as `updates` are applied automatically.\n",
            "  updates=self.state_updates,\n",
            "INFO:absl:TF Final test accuracy on non stream model = 8.67% (N=4800)\n"
          ]
        },
        {
          "output_type": "execute_result",
          "data": {
            "text/plain": [
              "8.666666666666668"
            ]
          },
          "metadata": {},
          "execution_count": 62
        }
      ]
    },
    {
      "cell_type": "markdown",
      "metadata": {
        "id": "wsB71EGuwIeE"
      },
      "source": [
        "more testing functions can be found at [test](https://github.com/google-research/google-research/blob/master/kws_streaming/train/test.py)"
      ]
    },
    {
      "cell_type": "code",
      "metadata": {
        "id": "huWz_40nwQLl"
      },
      "source": [
        "##\n",
        "## below is from 02_inference.ipynb\n",
        "##"
      ],
      "execution_count": null,
      "outputs": []
    },
    {
      "cell_type": "markdown",
      "metadata": {
        "id": "0lqWK0qrXw0A"
      },
      "source": [
        "## Examples of streaming and non streaming inference with TF/TFlite"
      ]
    },
    {
      "cell_type": "markdown",
      "metadata": {
        "id": "oOcY93M-X0au"
      },
      "source": [
        "Imports"
      ]
    },
    {
      "cell_type": "code",
      "metadata": {
        "id": "-q5lPPIHX05d",
        "outputId": "8cac59d2-a66a-42d3-c48c-8d6075ff6ed1",
        "colab": {
          "base_uri": "https://localhost:8080/"
        }
      },
      "source": [
        "# TF streaming\n",
        "from kws_streaming.models import models\n",
        "from kws_streaming.models import utils\n",
        "from kws_streaming.models import model_utils\n",
        "from kws_streaming.layers.modes import Modes\n",
        "\n",
        "\n",
        "\n",
        "import tensorflow as tf\n",
        "import numpy as np\n",
        "import tensorflow.compat.v1 as tf1\n",
        "import logging\n",
        "from kws_streaming.models import model_flags\n",
        "from kws_streaming.models import model_params\n",
        "from kws_streaming.train import inference\n",
        "from kws_streaming.train import test\n",
        "from kws_streaming.data import input_data\n",
        "from kws_streaming.data import input_data_utils as du\n",
        "tf1.disable_eager_execution()\n",
        "\n",
        "\n",
        "\n",
        "config = tf1.ConfigProto()\n",
        "config.gpu_options.allow_growth = True\n",
        "sess = tf1.Session(config=config)\n",
        "\n",
        "\n",
        "# general imports\n",
        "import matplotlib.pyplot as plt\n",
        "import os\n",
        "import json\n",
        "import numpy as np\n",
        "import scipy as scipy\n",
        "import scipy.io.wavfile as wav\n",
        "import scipy.signal\n",
        "\n",
        "\n",
        "\n",
        "tf.__version__\n",
        "\n",
        "\n",
        "\n",
        "tf1.reset_default_graph()\n",
        "sess = tf1.Session()\n",
        "tf1.keras.backend.set_session(sess)\n",
        "tf1.keras.backend.set_learning_phase(0)"
      ],
      "execution_count": 63,
      "outputs": [
        {
          "output_type": "stream",
          "name": "stderr",
          "text": [
            "/usr/local/lib/python3.7/dist-packages/keras/backend.py:414: UserWarning: `tf.keras.backend.set_learning_phase` is deprecated and will be removed after 2020-10-11. To update it, simply pass a True/False value to the `training` argument of the `__call__` method of your layer or model.\n",
            "  warnings.warn('`tf.keras.backend.set_learning_phase` is deprecated and '\n"
          ]
        }
      ]
    },
    {
      "cell_type": "markdown",
      "metadata": {
        "id": "j1aw40_BYGzX"
      },
      "source": [
        "## Load wav file"
      ]
    },
    {
      "cell_type": "code",
      "metadata": {
        "id": "gIBu9XVkYIp5"
      },
      "source": [
        "def waveread_as_pcm16(filename):\n",
        "  \"\"\"Read in audio data from a wav file.  Return d, sr.\"\"\"\n",
        "  samplerate, wave_data = wav.read(filename)\n",
        "  # Read in wav file.\n",
        "  return wave_data, samplerate\n",
        "\n",
        "def wavread_as_float(filename, target_sample_rate=16000):\n",
        "  \"\"\"Read in audio data from a wav file.  Return d, sr.\"\"\"\n",
        "  wave_data, samplerate = waveread_as_pcm16(filename)\n",
        "  desired_length = int(\n",
        "      round(float(len(wave_data)) / samplerate * target_sample_rate))\n",
        "  wave_data = scipy.signal.resample(wave_data, desired_length)\n",
        "\n",
        "  # Normalize short ints to floats in range [-1..1).\n",
        "  data = np.array(wave_data, np.float32) / 32768.0\n",
        "  return data, target_sample_rate"
      ],
      "execution_count": 64,
      "outputs": []
    },
    {
      "cell_type": "code",
      "metadata": {
        "id": "RP-dx1vuYMEk"
      },
      "source": [
        "# set PATH to data sets (for example to speech commands V2):\n",
        "# it can be downloaded from\n",
        "# https://storage.googleapis.com/download.tensorflow.org/data/speech_commands_v0.02.tar.gz\n",
        "# if you run 00_check-data.ipynb then data2 should be located in the current folder\n",
        "current_dir = os.getcwd()\n",
        "DATA_PATH = os.path.join(current_dir, \"data2/\")"
      ],
      "execution_count": 65,
      "outputs": []
    },
    {
      "cell_type": "code",
      "metadata": {
        "id": "i5B6rz4hYN2Z"
      },
      "source": [
        "# Set path to wav file for testing.\n",
        "wav_file = os.path.join(DATA_PATH, \"left/012187a4_nohash_0.wav\")\n",
        "\n",
        "# read audio file\n",
        "wav_data, samplerate = wavread_as_float(wav_file)"
      ],
      "execution_count": 66,
      "outputs": []
    },
    {
      "cell_type": "code",
      "metadata": {
        "id": "iUV4RP9gYQyq"
      },
      "source": [
        "assert samplerate == 16000"
      ],
      "execution_count": 67,
      "outputs": []
    },
    {
      "cell_type": "code",
      "metadata": {
        "id": "yV3Jj-wxYRhv",
        "outputId": "9a6fe6dd-dd2d-4ccd-c906-2ae836ec3ff4",
        "colab": {
          "base_uri": "https://localhost:8080/",
          "height": 282
        }
      },
      "source": [
        "plt.plot(wav_data)"
      ],
      "execution_count": 68,
      "outputs": [
        {
          "output_type": "execute_result",
          "data": {
            "text/plain": [
              "[<matplotlib.lines.Line2D at 0x7fe1c89b9d90>]"
            ]
          },
          "metadata": {},
          "execution_count": 68
        },
        {
          "output_type": "display_data",
          "data": {
            "image/png": "[encoded data removed]",
            "text/plain": [
              "<Figure size 432x288 with 1 Axes>"
            ]
          },
          "metadata": {
            "needs_background": "light"
          }
        }
      ]
    },
    {
      "cell_type": "markdown",
      "metadata": {
        "id": "i-VcodmxYTSx"
      },
      "source": [
        "## Prepare batched mode"
      ]
    },
    {
      "cell_type": "code",
      "metadata": {
        "id": "1cC31usjYWr6",
        "outputId": "c154dd35-970e-49b4-c512-7118bf11b695",
        "colab": {
          "base_uri": "https://localhost:8080/",
          "height": 35
        }
      },
      "source": [
        "# This notebook is configured to work with 'ds_tc_resnet' and 'svdf'.\n",
        "MODEL_NAME = 'ds_tc_resnet'\n",
        "# MODEL_NAME = 'svdf'\n",
        "MODELS_PATH = os.path.join(current_dir, \"models\")\n",
        "MODEL_PATH = os.path.join(MODELS_PATH, MODEL_NAME + \"/\")\n",
        "MODEL_PATH"
      ],
      "execution_count": 69,
      "outputs": [
        {
          "output_type": "execute_result",
          "data": {
            "application/vnd.google.colaboratory.intrinsic+json": {
              "type": "string"
            },
            "text/plain": [
              "'/content/data2/models/ds_tc_resnet/'"
            ]
          },
          "metadata": {},
          "execution_count": 69
        }
      ]
    },
    {
      "cell_type": "code",
      "metadata": {
        "id": "7UMOvq-eYYAD"
      },
      "source": [
        "train_dir = os.path.join(MODELS_PATH, MODEL_NAME)"
      ],
      "execution_count": 71,
      "outputs": []
    },
    {
      "cell_type": "code",
      "metadata": {
        "id": "9cqyVHi7YZin"
      },
      "source": [
        "# below is another way of reading flags - through json\n",
        "with tf.compat.v1.gfile.Open(os.path.join(train_dir, 'flags.json'), 'r') as fd:\n",
        "  flags_json = json.load(fd)\n",
        "\n",
        "class DictStruct(object):\n",
        "  def __init__(self, **entries):\n",
        "    self.__dict__.update(entries)\n",
        "\n",
        "flags = DictStruct(**flags_json)"
      ],
      "execution_count": 72,
      "outputs": []
    },
    {
      "cell_type": "code",
      "metadata": {
        "id": "TKn0A7dDYa-3"
      },
      "source": [
        "flags.data_dir = DATA_PATH"
      ],
      "execution_count": 73,
      "outputs": []
    },
    {
      "cell_type": "code",
      "metadata": {
        "id": "XQxA3Jw0YcpX"
      },
      "source": [
        "# get total stride of the model\n",
        "\n",
        "total_stride = 1\n",
        "if MODEL_NAME == 'ds_tc_resnet':\n",
        "  # it can be automated by scanning layers of the model, but for now just use parameters of specific model\n",
        "  pools = model_utils.parse(flags.ds_pool)\n",
        "  strides = model_utils.parse(flags.ds_stride)\n",
        "  time_stride = [1]\n",
        "  for pool in pools:\n",
        "    if pool > 1:\n",
        "      time_stride.append(pool)\n",
        "  for stride in strides:\n",
        "    if stride > 1:\n",
        "      time_stride.append(stride)\n",
        "  total_stride = np.prod(time_stride)\n",
        "\n",
        "# overide input data shape for streaming model with stride/pool\n",
        "flags.data_stride = total_stride\n",
        "flags.data_shape = (total_stride * flags.window_stride_samples,)"
      ],
      "execution_count": 74,
      "outputs": []
    },
    {
      "cell_type": "code",
      "metadata": {
        "id": "IWMmQnRXYefT",
        "outputId": "79d4a0ef-9e3a-475b-f4af-ce770393e0dd",
        "colab": {
          "base_uri": "https://localhost:8080/"
        }
      },
      "source": [
        "# prepare mapping of index to word\n",
        "audio_processor = input_data.AudioProcessor(flags)\n",
        "index_to_label = {}\n",
        "# labels used for training\n",
        "for word in audio_processor.word_to_index.keys():\n",
        "  if audio_processor.word_to_index[word] == du.SILENCE_INDEX:\n",
        "    index_to_label[audio_processor.word_to_index[word]] = du.SILENCE_LABEL\n",
        "  elif audio_processor.word_to_index[word] == du.UNKNOWN_WORD_INDEX:\n",
        "    index_to_label[audio_processor.word_to_index[word]] = du.UNKNOWN_WORD_LABEL\n",
        "  else:\n",
        "    index_to_label[audio_processor.word_to_index[word]] = word\n",
        "\n",
        "# training labels\n",
        "index_to_label"
      ],
      "execution_count": 75,
      "outputs": [
        {
          "output_type": "execute_result",
          "data": {
            "text/plain": [
              "{0: '_silence_',\n",
              " 1: '_unknown_',\n",
              " 2: 'yes',\n",
              " 3: 'no',\n",
              " 4: 'up',\n",
              " 5: 'down',\n",
              " 6: 'left',\n",
              " 7: 'right',\n",
              " 8: 'on',\n",
              " 9: 'off',\n",
              " 10: 'stop',\n",
              " 11: 'go'}"
            ]
          },
          "metadata": {},
          "execution_count": 75
        }
      ]
    },
    {
      "cell_type": "code",
      "metadata": {
        "id": "fOLv8OQ4YgnT",
        "outputId": "351a4187-1cfc-4514-d9aa-ab2e35b160fb",
        "colab": {
          "base_uri": "https://localhost:8080/"
        }
      },
      "source": [
        "# pad input audio with zeros, so that audio len = flags.desired_samples\n",
        "\n",
        "print(\"flags.desired_samples: \",flags.desired_samples)\n",
        "print(\"len(wav_data): \",len(wav_data))\n",
        "##print(\"wav_data: \",wav_data)\n",
        "\n",
        "def printwavdata(wav):\n",
        "  for i in range(len(wav)):\n",
        "    if wav[i] == 0:\n",
        "      print(i)\n",
        "  print(\"end\")\n",
        "\n",
        "printwavdata(wav_data)\n",
        "\n",
        "###  originnal code but has error ,\n",
        "###  padded_wav = np.pad(wav_data, (0, flags.desired_samples-len(wav_data)), 'constant')\n",
        "\n",
        "### code by Toby\n",
        "padded_wav = np.pad(wav_data, (0, flags.desired_samples), 'constant')\n",
        "\n",
        "\n",
        "print(\"len(padded_wav): \",len(padded_wav))\n",
        "\n",
        "\n",
        "input_data = np.expand_dims(padded_wav, 0)\n",
        "input_data.shape"
      ],
      "execution_count": 91,
      "outputs": [
        {
          "output_type": "stream",
          "name": "stdout",
          "text": [
            "flags.desired_samples:  6400\n",
            "len(wav_data):  13653\n",
            "408\n",
            "417\n",
            "718\n",
            "820\n",
            "837\n",
            "849\n",
            "893\n",
            "905\n",
            "926\n",
            "1000\n",
            "1013\n",
            "1105\n",
            "1247\n",
            "1250\n",
            "1336\n",
            "1343\n",
            "1422\n",
            "1524\n",
            "1545\n",
            "1619\n",
            "1633\n",
            "1648\n",
            "1649\n",
            "1650\n",
            "1680\n",
            "1929\n",
            "1994\n",
            "2018\n",
            "2105\n",
            "2212\n",
            "2397\n",
            "2415\n",
            "2523\n",
            "2599\n",
            "2678\n",
            "2732\n",
            "3619\n",
            "3852\n",
            "4316\n",
            "7644\n",
            "8059\n",
            "9263\n",
            "10078\n",
            "end\n",
            "len(padded_wav):  20053\n"
          ]
        },
        {
          "output_type": "execute_result",
          "data": {
            "text/plain": [
              "(1, 20053)"
            ]
          },
          "metadata": {},
          "execution_count": 91
        }
      ]
    },
    {
      "cell_type": "code",
      "metadata": {
        "id": "hpuOysdjYjET",
        "outputId": "38a25137-1053-4cb5-d970-0865a7a2c913",
        "colab": {
          "base_uri": "https://localhost:8080/"
        }
      },
      "source": [
        "# create model with flag's parameters\n",
        "model_non_stream_batch = models.MODELS[flags.model_name](flags)\n",
        "\n",
        "# load model's weights\n",
        "weights_name = 'best_weights'\n",
        "model_non_stream_batch.load_weights(os.path.join(train_dir, weights_name))"
      ],
      "execution_count": 81,
      "outputs": [
        {
          "output_type": "execute_result",
          "data": {
            "text/plain": [
              "<tensorflow.python.training.tracking.util.CheckpointLoadStatus at 0x7fe1cacc4a50>"
            ]
          },
          "metadata": {},
          "execution_count": 81
        }
      ]
    },
    {
      "cell_type": "code",
      "metadata": {
        "id": "2WbkLzmSYlS9"
      },
      "source": [
        "tf.keras.utils.plot_model(\n",
        "    model_non_stream_batch,\n",
        "    show_shapes=True,\n",
        "    show_layer_names=True,\n",
        "    expand_nested=True)"
      ],
      "execution_count": null,
      "outputs": []
    },
    {
      "cell_type": "markdown",
      "metadata": {
        "id": "JNs_bEw5Yn7J"
      },
      "source": [
        "## Run inference with TF\n",
        "##TF Run non streaming inference"
      ]
    },
    {
      "cell_type": "code",
      "metadata": {
        "id": "GoY5h_QLYrY2",
        "outputId": "14e9aedc-7cc5-4cf6-d7a6-6ab560540e74",
        "colab": {
          "base_uri": "https://localhost:8080/"
        }
      },
      "source": [
        "# convert model to inference mode with batch one\n",
        "inference_batch_size = 1\n",
        "tf.keras.backend.set_learning_phase(0)\n",
        "flags.batch_size = inference_batch_size  # set batch size\n",
        "\n",
        "model_non_stream = utils.to_streaming_inference(model_non_stream_batch, flags, Modes.NON_STREAM_INFERENCE)\n",
        "#model_non_stream.summary()"
      ],
      "execution_count": 84,
      "outputs": [
        {
          "output_type": "stream",
          "name": "stderr",
          "text": [
            "/usr/local/lib/python3.7/dist-packages/keras/backend.py:414: UserWarning: `tf.keras.backend.set_learning_phase` is deprecated and will be removed after 2020-10-11. To update it, simply pass a True/False value to the `training` argument of the `__call__` method of your layer or model.\n",
            "  warnings.warn('`tf.keras.backend.set_learning_phase` is deprecated and '\n"
          ]
        }
      ]
    },
    {
      "cell_type": "code",
      "metadata": {
        "id": "1UUjFsH1YtSI"
      },
      "source": [
        "tf.keras.utils.plot_model(\n",
        "    model_non_stream,\n",
        "    show_shapes=True,\n",
        "    show_layer_names=True,\n",
        "    expand_nested=True)"
      ],
      "execution_count": null,
      "outputs": []
    },
    {
      "cell_type": "code",
      "metadata": {
        "id": "ce0fiacrYul9",
        "outputId": "8aae19bc-bab8-45ab-d672-3f7804b58f7c",
        "colab": {
          "base_uri": "https://localhost:8080/",
          "height": 322
        }
      },
      "source": [
        "predictions = model_non_stream.predict(input_data)\n",
        "predicted_labels = np.argmax(predictions, axis=1)"
      ],
      "execution_count": 86,
      "outputs": [
        {
          "output_type": "error",
          "ename": "ValueError",
          "evalue": "ignored",
          "traceback": [
            "\u001b[0;31m---------------------------------------------------------------------------\u001b[0m",
            "\u001b[0;31mValueError\u001b[0m                                Traceback (most recent call last)",
            "\u001b[0;32m<ipython-input-86-e9f40e4fe1a7>\u001b[0m in \u001b[0;36m<module>\u001b[0;34m()\u001b[0m\n\u001b[0;32m----> 1\u001b[0;31m \u001b[0mpredictions\u001b[0m \u001b[0;34m=\u001b[0m \u001b[0mmodel_non_stream\u001b[0m\u001b[0;34m.\u001b[0m\u001b[0mpredict\u001b[0m\u001b[0;34m(\u001b[0m\u001b[0minput_data\u001b[0m\u001b[0;34m)\u001b[0m\u001b[0;34m\u001b[0m\u001b[0;34m\u001b[0m\u001b[0m\n\u001b[0m\u001b[1;32m      2\u001b[0m \u001b[0mpredicted_labels\u001b[0m \u001b[0;34m=\u001b[0m \u001b[0mnp\u001b[0m\u001b[0;34m.\u001b[0m\u001b[0margmax\u001b[0m\u001b[0;34m(\u001b[0m\u001b[0mpredictions\u001b[0m\u001b[0;34m,\u001b[0m \u001b[0maxis\u001b[0m\u001b[0;34m=\u001b[0m\u001b[0;36m1\u001b[0m\u001b[0;34m)\u001b[0m\u001b[0;34m\u001b[0m\u001b[0;34m\u001b[0m\u001b[0m\n",
            "\u001b[0;32m/usr/local/lib/python3.7/dist-packages/keras/engine/training_v1.py\u001b[0m in \u001b[0;36mpredict\u001b[0;34m(self, x, batch_size, verbose, steps, callbacks, max_queue_size, workers, use_multiprocessing)\u001b[0m\n\u001b[1;32m    977\u001b[0m         \u001b[0mmax_queue_size\u001b[0m\u001b[0;34m=\u001b[0m\u001b[0mmax_queue_size\u001b[0m\u001b[0;34m,\u001b[0m\u001b[0;34m\u001b[0m\u001b[0;34m\u001b[0m\u001b[0m\n\u001b[1;32m    978\u001b[0m         \u001b[0mworkers\u001b[0m\u001b[0;34m=\u001b[0m\u001b[0mworkers\u001b[0m\u001b[0;34m,\u001b[0m\u001b[0;34m\u001b[0m\u001b[0;34m\u001b[0m\u001b[0m\n\u001b[0;32m--> 979\u001b[0;31m         use_multiprocessing=use_multiprocessing)\n\u001b[0m\u001b[1;32m    980\u001b[0m \u001b[0;34m\u001b[0m\u001b[0m\n\u001b[1;32m    981\u001b[0m   \u001b[0;32mdef\u001b[0m \u001b[0mreset_metrics\u001b[0m\u001b[0;34m(\u001b[0m\u001b[0mself\u001b[0m\u001b[0;34m)\u001b[0m\u001b[0;34m:\u001b[0m\u001b[0;34m\u001b[0m\u001b[0;34m\u001b[0m\u001b[0m\n",
            "\u001b[0;32m/usr/local/lib/python3.7/dist-packages/keras/engine/training_arrays_v1.py\u001b[0m in \u001b[0;36mpredict\u001b[0;34m(self, model, x, batch_size, verbose, steps, callbacks, **kwargs)\u001b[0m\n\u001b[1;32m    696\u001b[0m     \u001b[0mbatch_size\u001b[0m \u001b[0;34m=\u001b[0m \u001b[0mmodel\u001b[0m\u001b[0;34m.\u001b[0m\u001b[0m_validate_or_infer_batch_size\u001b[0m\u001b[0;34m(\u001b[0m\u001b[0mbatch_size\u001b[0m\u001b[0;34m,\u001b[0m \u001b[0msteps\u001b[0m\u001b[0;34m,\u001b[0m \u001b[0mx\u001b[0m\u001b[0;34m)\u001b[0m\u001b[0;34m\u001b[0m\u001b[0;34m\u001b[0m\u001b[0m\n\u001b[1;32m    697\u001b[0m     x, _, _ = model._standardize_user_data(\n\u001b[0;32m--> 698\u001b[0;31m         x, check_steps=True, steps_name='steps', steps=steps)\n\u001b[0m\u001b[1;32m    699\u001b[0m     return predict_loop(\n\u001b[1;32m    700\u001b[0m         \u001b[0mmodel\u001b[0m\u001b[0;34m,\u001b[0m\u001b[0;34m\u001b[0m\u001b[0;34m\u001b[0m\u001b[0m\n",
            "\u001b[0;32m/usr/local/lib/python3.7/dist-packages/keras/engine/training_v1.py\u001b[0m in \u001b[0;36m_standardize_user_data\u001b[0;34m(self, x, y, sample_weight, class_weight, batch_size, check_steps, steps_name, steps, validation_split, shuffle, extract_tensors_from_dataset)\u001b[0m\n\u001b[1;32m   2339\u001b[0m         \u001b[0mis_dataset\u001b[0m\u001b[0;34m=\u001b[0m\u001b[0mis_dataset\u001b[0m\u001b[0;34m,\u001b[0m\u001b[0;34m\u001b[0m\u001b[0;34m\u001b[0m\u001b[0m\n\u001b[1;32m   2340\u001b[0m         \u001b[0mclass_weight\u001b[0m\u001b[0;34m=\u001b[0m\u001b[0mclass_weight\u001b[0m\u001b[0;34m,\u001b[0m\u001b[0;34m\u001b[0m\u001b[0;34m\u001b[0m\u001b[0m\n\u001b[0;32m-> 2341\u001b[0;31m         batch_size=batch_size)\n\u001b[0m\u001b[1;32m   2342\u001b[0m \u001b[0;34m\u001b[0m\u001b[0m\n\u001b[1;32m   2343\u001b[0m   def _standardize_tensors(self, x, y, sample_weight, run_eagerly, dict_inputs,\n",
            "\u001b[0;32m/usr/local/lib/python3.7/dist-packages/keras/engine/training_v1.py\u001b[0m in \u001b[0;36m_standardize_tensors\u001b[0;34m(self, x, y, sample_weight, run_eagerly, dict_inputs, is_dataset, class_weight, batch_size)\u001b[0m\n\u001b[1;32m   2366\u001b[0m           \u001b[0mfeed_input_shapes\u001b[0m\u001b[0;34m,\u001b[0m\u001b[0;34m\u001b[0m\u001b[0;34m\u001b[0m\u001b[0m\n\u001b[1;32m   2367\u001b[0m           \u001b[0mcheck_batch_axis\u001b[0m\u001b[0;34m=\u001b[0m\u001b[0;32mFalse\u001b[0m\u001b[0;34m,\u001b[0m  \u001b[0;31m# Don't enforce the batch size.\u001b[0m\u001b[0;34m\u001b[0m\u001b[0;34m\u001b[0m\u001b[0m\n\u001b[0;32m-> 2368\u001b[0;31m           exception_prefix='input')\n\u001b[0m\u001b[1;32m   2369\u001b[0m \u001b[0;34m\u001b[0m\u001b[0m\n\u001b[1;32m   2370\u001b[0m     \u001b[0;31m# Get typespecs for the input data and sanitize it if necessary.\u001b[0m\u001b[0;34m\u001b[0m\u001b[0;34m\u001b[0m\u001b[0;34m\u001b[0m\u001b[0m\n",
            "\u001b[0;32m/usr/local/lib/python3.7/dist-packages/keras/engine/training_utils_v1.py\u001b[0m in \u001b[0;36mstandardize_input_data\u001b[0;34m(data, names, shapes, check_batch_axis, exception_prefix)\u001b[0m\n\u001b[1;32m    643\u001b[0m                              \u001b[0;34m': expected '\u001b[0m \u001b[0;34m+\u001b[0m \u001b[0mnames\u001b[0m\u001b[0;34m[\u001b[0m\u001b[0mi\u001b[0m\u001b[0;34m]\u001b[0m \u001b[0;34m+\u001b[0m \u001b[0;34m' to have shape '\u001b[0m \u001b[0;34m+\u001b[0m\u001b[0;34m\u001b[0m\u001b[0;34m\u001b[0m\u001b[0m\n\u001b[1;32m    644\u001b[0m                              \u001b[0mstr\u001b[0m\u001b[0;34m(\u001b[0m\u001b[0mshape\u001b[0m\u001b[0;34m)\u001b[0m \u001b[0;34m+\u001b[0m \u001b[0;34m' but got array with shape '\u001b[0m \u001b[0;34m+\u001b[0m\u001b[0;34m\u001b[0m\u001b[0;34m\u001b[0m\u001b[0m\n\u001b[0;32m--> 645\u001b[0;31m                              str(data_shape))\n\u001b[0m\u001b[1;32m    646\u001b[0m   \u001b[0;32mreturn\u001b[0m \u001b[0mdata\u001b[0m\u001b[0;34m\u001b[0m\u001b[0;34m\u001b[0m\u001b[0m\n\u001b[1;32m    647\u001b[0m \u001b[0;34m\u001b[0m\u001b[0m\n",
            "\u001b[0;31mValueError\u001b[0m: Error when checking input: expected input_audio to have shape (6400,) but got array with shape (20053,)"
          ]
        }
      ]
    },
    {
      "cell_type": "code",
      "metadata": {
        "id": "DCiBRzSiYwdU"
      },
      "source": [
        "predicted_labels"
      ],
      "execution_count": null,
      "outputs": []
    },
    {
      "cell_type": "code",
      "metadata": {
        "id": "Q9411aC4Yx8k"
      },
      "source": [
        "index_to_label[predicted_labels[0]]"
      ],
      "execution_count": null,
      "outputs": []
    },
    {
      "cell_type": "markdown",
      "metadata": {
        "id": "tG71KcVmY0is"
      },
      "source": [
        "TF Run streaming inference with internal state"
      ]
    },
    {
      "cell_type": "code",
      "metadata": {
        "id": "qvYmOm6dY2FT"
      },
      "source": [
        "# convert model to streaming mode\n",
        "flags.batch_size = inference_batch_size  # set batch size\n",
        "\n",
        "model_stream = utils.to_streaming_inference(model_non_stream_batch, flags, Modes.STREAM_INTERNAL_STATE_INFERENCE)\n",
        "#model_stream.summary()"
      ],
      "execution_count": null,
      "outputs": []
    },
    {
      "cell_type": "code",
      "metadata": {
        "id": "49bNQJWWY9CB"
      },
      "source": [
        "tf.keras.utils.plot_model(\n",
        "    model_stream,\n",
        "    show_shapes=True,\n",
        "    show_layer_names=True,\n",
        "    expand_nested=True)"
      ],
      "execution_count": null,
      "outputs": []
    },
    {
      "cell_type": "code",
      "metadata": {
        "id": "4b5ynCkjY-yx"
      },
      "source": [
        "stream_output_prediction = inference.run_stream_inference_classification(flags, model_stream, input_data)"
      ],
      "execution_count": null,
      "outputs": []
    },
    {
      "cell_type": "code",
      "metadata": {
        "id": "6vM17eaxY_2Q"
      },
      "source": [
        "stream_output_arg = np.argmax(stream_output_prediction)\n",
        "stream_output_arg"
      ],
      "execution_count": null,
      "outputs": []
    },
    {
      "cell_type": "code",
      "metadata": {
        "id": "KWGmQaVRZBWP"
      },
      "source": [
        "index_to_label[stream_output_arg]"
      ],
      "execution_count": null,
      "outputs": []
    },
    {
      "cell_type": "markdown",
      "metadata": {
        "id": "B1Rj9X7KZD_m"
      },
      "source": [
        "TF Run streaming inference with external state"
      ]
    },
    {
      "cell_type": "code",
      "metadata": {
        "id": "3Mg8Fx19ZDAi"
      },
      "source": [
        "# convert model to streaming mode\n",
        "flags.batch_size = inference_batch_size  # set batch size\n",
        "\n",
        "model_stream_external = utils.to_streaming_inference(model_non_stream_batch, flags, Modes.STREAM_EXTERNAL_STATE_INFERENCE)\n",
        "#model_stream.summary()"
      ],
      "execution_count": null,
      "outputs": []
    },
    {
      "cell_type": "code",
      "metadata": {
        "id": "CYo2ZLWla9B2"
      },
      "source": [
        "tf.keras.utils.plot_model(\n",
        "    model_stream_external,\n",
        "    show_shapes=True,\n",
        "    show_layer_names=True,\n",
        "    expand_nested=True)"
      ],
      "execution_count": null,
      "outputs": []
    },
    {
      "cell_type": "code",
      "metadata": {
        "id": "sHtFJw9Aa-zC"
      },
      "source": [
        "inputs = []\n",
        "for s in range(len(model_stream_external.inputs)):\n",
        "  inputs.append(np.zeros(model_stream_external.inputs[s].shape, dtype=np.float32))\n",
        "\n",
        "window_stride = flags.data_shape[0]\n",
        "\n",
        "start = 0\n",
        "end = window_stride\n",
        "while end <= input_data.shape[1]:\n",
        "  # get new frame from stream of data\n",
        "  stream_update = input_data[:, start:end]\n",
        "\n",
        "  # update indexes of streamed updates\n",
        "  start = end\n",
        "  end = start + window_stride\n",
        "\n",
        "  # set input audio data (by default input data at index 0)\n",
        "  inputs[0] = stream_update\n",
        "\n",
        "  # run inference\n",
        "  outputs = model_stream_external.predict(inputs)\n",
        "\n",
        "  # get output states and set it back to input states\n",
        "  # which will be fed in the next inference cycle\n",
        "  for s in range(1, len(model_stream_external.inputs)):\n",
        "    inputs[s] = outputs[s]\n",
        "\n",
        "  stream_output_arg = np.argmax(outputs[0])\n",
        "stream_output_arg"
      ],
      "execution_count": null,
      "outputs": []
    },
    {
      "cell_type": "code",
      "metadata": {
        "id": "iQcvKuH1bAiH"
      },
      "source": [
        "index_to_label[stream_output_arg]"
      ],
      "execution_count": null,
      "outputs": []
    },
    {
      "cell_type": "markdown",
      "metadata": {
        "id": "gPLp_9mBbChw"
      },
      "source": [
        "## Run inference with TFlite\n",
        "## Run non streaming inference with TFLite"
      ]
    },
    {
      "cell_type": "code",
      "metadata": {
        "id": "v4nY0zcYbGW4"
      },
      "source": [
        "tflite_non_streaming_model = utils.model_to_tflite(sess, model_non_stream_batch, flags, Modes.NON_STREAM_INFERENCE)\n",
        "tflite_non_stream_fname = 'tflite_non_stream.tflite'\n",
        "with open(os.path.join(MODEL_PATH, tflite_non_stream_fname), 'wb') as fd:\n",
        "  fd.write(tflite_non_streaming_model)"
      ],
      "execution_count": null,
      "outputs": []
    },
    {
      "cell_type": "code",
      "metadata": {
        "id": "ek7lZRFhbIhj"
      },
      "source": [
        "interpreter = tf.lite.Interpreter(model_content=tflite_non_streaming_model)\n",
        "interpreter.allocate_tensors()\n",
        "\n",
        "input_details = interpreter.get_input_details()\n",
        "output_details = interpreter.get_output_details()"
      ],
      "execution_count": null,
      "outputs": []
    },
    {
      "cell_type": "code",
      "metadata": {
        "id": "xW8gB4SgbKRb"
      },
      "source": [
        "# set input audio data (by default input data at index 0)\n",
        "interpreter.set_tensor(input_details[0]['index'], input_data.astype(np.float32))\n",
        "\n",
        "# run inference\n",
        "interpreter.invoke()\n",
        "\n",
        "# get output: classification\n",
        "out_tflite = interpreter.get_tensor(output_details[0]['index'])\n",
        "\n",
        "out_tflite_argmax = np.argmax(out_tflite)\n",
        "\n",
        "out_tflite_argmax"
      ],
      "execution_count": null,
      "outputs": []
    },
    {
      "cell_type": "code",
      "metadata": {
        "id": "BRCwLfeTbMkm"
      },
      "source": [
        "index_to_label[out_tflite_argmax]"
      ],
      "execution_count": null,
      "outputs": []
    },
    {
      "cell_type": "markdown",
      "metadata": {
        "id": "riU1nlySbPSA"
      },
      "source": [
        "Run streaming inference with TFLite"
      ]
    },
    {
      "cell_type": "code",
      "metadata": {
        "id": "RkI08Xu4bQN_"
      },
      "source": [
        "tflite_streaming_model = utils.model_to_tflite(sess, model_non_stream_batch, flags, Modes.STREAM_EXTERNAL_STATE_INFERENCE)\n",
        "tflite_stream_fname = 'tflite_stream.tflite'"
      ],
      "execution_count": null,
      "outputs": []
    },
    {
      "cell_type": "code",
      "metadata": {
        "id": "tejb-FtEbN-G"
      },
      "source": [
        "with open(os.path.join(MODEL_PATH, tflite_stream_fname), 'wb') as fd:\n",
        "  fd.write(tflite_streaming_model)"
      ],
      "execution_count": null,
      "outputs": []
    },
    {
      "cell_type": "code",
      "metadata": {
        "id": "Y60FoeH3bgKI"
      },
      "source": [
        "interpreter = tf.lite.Interpreter(model_content=tflite_streaming_model)\n",
        "interpreter.allocate_tensors()\n",
        "\n",
        "input_details = interpreter.get_input_details()\n",
        "output_details = interpreter.get_output_details()\n",
        "\n",
        "input_states = []\n",
        "for s in range(len(input_details)):\n",
        "  input_states.append(np.zeros(input_details[s]['shape'], dtype=np.float32))"
      ],
      "execution_count": null,
      "outputs": []
    },
    {
      "cell_type": "code",
      "metadata": {
        "id": "tKYHqcJebh6u"
      },
      "source": [
        "out_tflite = inference.run_stream_inference_classification_tflite(flags, interpreter, input_data, input_states)"
      ],
      "execution_count": null,
      "outputs": []
    },
    {
      "cell_type": "code",
      "metadata": {
        "id": "5Mu9MIhybjc2"
      },
      "source": [
        "out_tflite_argmax = np.argmax(out_tflite[0])"
      ],
      "execution_count": null,
      "outputs": []
    },
    {
      "cell_type": "code",
      "metadata": {
        "id": "bGWaHtmUblDl"
      },
      "source": [
        "index_to_label[out_tflite_argmax]"
      ],
      "execution_count": null,
      "outputs": []
    },
    {
      "cell_type": "markdown",
      "metadata": {
        "id": "H6yZNwMebo36"
      },
      "source": [
        "**Run evaluation on all testing data¶**"
      ]
    },
    {
      "cell_type": "code",
      "metadata": {
        "id": "nn7GwGIXboH9"
      },
      "source": [
        "test.tflite_non_stream_model_accuracy(\n",
        "    flags,\n",
        "    MODEL_PATH,\n",
        "    tflite_model_name=tflite_non_stream_fname,\n",
        "    accuracy_name='tflite_non_stream_model_accuracy.txt')"
      ],
      "execution_count": null,
      "outputs": []
    },
    {
      "cell_type": "code",
      "metadata": {
        "id": "xef0C9SRbsq5"
      },
      "source": [
        "test.tflite_stream_state_external_model_accuracy(\n",
        "    flags,\n",
        "    MODEL_PATH,\n",
        "    tflite_model_name=tflite_stream_fname,\n",
        "    accuracy_name='tflite_stream_state_external_model_accuracy.txt',\n",
        "    reset_state=True)"
      ],
      "execution_count": null,
      "outputs": []
    },
    {
      "cell_type": "code",
      "metadata": {
        "id": "g3Vewf5mbuoz"
      },
      "source": [
        "test.tflite_stream_state_external_model_accuracy(\n",
        "    flags,\n",
        "    MODEL_PATH,\n",
        "    tflite_model_name=tflite_stream_fname,\n",
        "    accuracy_name='tflite_stream_state_external_model_accuracy.txt',\n",
        "    reset_state=False)"
      ],
      "execution_count": null,
      "outputs": []
    }
  ]
}